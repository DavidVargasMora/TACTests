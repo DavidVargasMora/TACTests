{
 "cells": [
  {
   "cell_type": "markdown",
   "metadata": {},
   "source": [
    "\n",
    "<font size='6'><u><b>Finding the Ingredients of Other Worlds</b></u></font>\n",
    "\n",
    "_**By [Everett Schlawin](http://mips.as.arizona.edu/~schlawin/) and the [NSF OIR Lab's Teen Astronomy Cafe Team](http://www.teenastronomycafe.org)**_\n",
    "\n",
    "\n",
    "The first definitive planet found around a Sun-like star was found by Didier Queloz and Michel Mayor, earning them the [2019 Nobel prize in Physics](https://www.nobelprize.org/prizes/physics/2019/summary/). Since that time, the number of known planets has grown exponentially large. Now, astronomers are moving beyond discovering planets to learning about their atmospheres. In this simulator you will be recovering spectra from exoplanet systems to understand what their atmospheres are made of.\n",
    "___"
   ]
  },
  {
   "cell_type": "markdown",
   "metadata": {},
   "source": [
    "# Table of Contents\n",
    "\n",
    "* [How to Use This Notebook](#How-to-Use-This-Notebook)\n",
    "* [Pre-Activity Setup](#Pre-Activity-Setup)\n",
    "* [Activity 1: Planet Lightcurves](#Activity-1:-Planet-Lightcurves)\n",
    "* [Activity 2: Planet Radius](#Activity-2:-Planet-Radius)\n",
    "* [Activity 3: A Planet Spectrum](#Activity-3:-A-Planet-Spectrum)\n",
    "* [Activity 4: Example Planet Atmospheres](#Activity-4:-Example-Planet-Atmospheres)\n",
    "* [Activity 5: Mystery Planet Atmospheres](#Activity-5:-Mystery-Planet-Atmospheres)\n",
    "* [Activity 6: Conclusions](#Activity-6:-Conclusions)\n",
    "___"
   ]
  },
  {
   "cell_type": "markdown",
   "metadata": {},
   "source": [
    "# How to Use This Notebook\n",
    "\n",
    "The webpage you are in is actually an app - much like the ones on your cellphone. This app consists of cells.\n",
    "\n",
    "An *input* cell looks like a light grey box with an `In [ ]:` on its left. Input cells each contain code - instructions to make the computer do something.\n",
    "\n",
    "To activate or select a cell, click anywhere inside of it.\n",
    "\n",
    "<div class='alert alert-info'>\n",
    "    <font size='3'><b>Select the cell below and read its contents.</b></font>\n",
    "</div>"
   ]
  },
  {
   "cell_type": "code",
   "execution_count": null,
   "metadata": {},
   "outputs": [],
   "source": [
    "# Text that follows a \"#\" is known as a comment.\n",
    "# Comments do not affect your code in any way.\n",
    "# You should always read the comments at the top of each cell you interact with.\n",
    "# Comments will be used to describe what the cell's code is actually doing."
   ]
  },
  {
   "cell_type": "markdown",
   "metadata": {},
   "source": [
    "To execute or run a selected cell, hit `[Shift + Enter]` on your keyboard.\n",
    "\n",
    "<div class='alert alert-info'>\n",
    "    <font size='3'><b>Select the cell below and read its contents. Then, run the cell.</b></font>\n",
    "        <br> If a warning appears, just click <em>\"Run Anyway\"</em>, this code is safe ;) \n",
    "    <br> Also, if you want to save your progress, click the <em>\"Copy to Drive\"</em> button at the top.\n",
    "</div>"
   ]
  },
  {
   "cell_type": "code",
   "execution_count": null,
   "metadata": {},
   "outputs": [],
   "source": [
    "# Text that DOESN'T follow a \"#\" is considered code.\n",
    "# Lines of code are instructions given to your computer.\n",
    "# The line of code below is a \"print\" statement.\n",
    "# A print statement literally prints out the text between its quotes.\n",
    "\n",
    "print(\"Congrats! You have successfully run your first cell!\")"
   ]
  },
  {
   "cell_type": "markdown",
   "metadata": {},
   "source": [
    "Running a cell creates an *output* directly below it. An output can be some text, a graph, an interactive slider, or even nothing at all! For that last case, you know you have run a cell when the `In [ ]:` becomes `In [#]:`, where \"#\" is any number.\n",
    "\n",
    "You can learn more about how Jupyter notebooks work at https://try.jupyter.org/\n",
    "___"
   ]
  },
  {
   "cell_type": "markdown",
   "metadata": {},
   "source": [
    "# Pre-Activity Setup\n",
    "\n",
    "In order for any of the activities to work properly, you must import the libraries needed for the code in this notebook.\n",
    "\n",
    "<div class='alert alert-info'>\n",
    "    <font size='3'><b>Select and run the cell below.</b></font>\n",
    "</div>"
   ]
  },
  {
   "cell_type": "code",
   "execution_count": null,
   "metadata": {},
   "outputs": [],
   "source": [
    "#If you are running this notebook in Colab, you should install these packages:\n",
    "\n",
    "!pip install batman-package httpimport &> /dev/null\n",
    "print(\"You have successfully installled: batman\")"
   ]
  },
  {
   "cell_type": "code",
   "execution_count": null,
   "metadata": {},
   "outputs": [],
   "source": [
    "# Now we create a variable with the link to our repository\n",
    "repoURL = 'https://raw.githubusercontent.com/DavidVargasMora/TACTests/master/'\n",
    "\n",
    "#Now we import a .py file from GitHub\n",
    "\n",
    "from httpimport import remote_repo\n",
    "\n",
    "with remote_repo(['exo_engine'], repoURL+'09_Exoplanet_Spectra') :\n",
    "    import exo_engine \n",
    "\n",
    "# This loads the necessary code to for the whole notebook\n",
    "print('Done! You have successfully imported the libraries.')"
   ]
  },
  {
   "cell_type": "markdown",
   "metadata": {},
   "source": [
    "<div class='alert alert-info'>\n",
    "    <font size='3'><b>Hover your cursor near the end of the green text below until you see a text box with a definition pop up.</b></font>\n",
    "</div>"
   ]
  },
  {
   "cell_type": "markdown",
   "metadata": {},
   "source": [
    "Finally, there will be some <span title=\"Terminology is special language used science as a shortcut\"><font color='green'>terminology</font></span> used in this notebook. You can hover over the text for more information."
   ]
  },
  {
   "cell_type": "markdown",
   "metadata": {},
   "source": [
    "# Activity 1: Planet Lightcurves"
   ]
  },
  {
   "cell_type": "markdown",
   "metadata": {},
   "source": [
    "Let's start with an <span title=\"This is a plot that shows how the brightness of a star + planet system changes as a function of time as the planet goes in front of the star\"><font color='green'>exoplanet transit lightcurve</font></span>. This is a plot that shows how the brightness of a star + planet system changes with time as the planet goes in front of the star. The **x** axis is the time in hours the **y** axis is the brightness in percent. The time is shown relative to <span title=\"This is the moment when a planet and star line up\"><font color='green'>central transit</font></span>, which is when the planet and star line up.\n",
    "\n",
    "<div class='alert alert-info'>\n",
    "    <font size='3'><b>Run the cell below.</b></font>\n",
    "</div>\n"
   ]
  },
  {
   "cell_type": "code",
   "execution_count": null,
   "metadata": {},
   "outputs": [],
   "source": [
    "exo_engine.plt.rcParams.update({'font.size': 18,'figure.figsize': (10,8)})\n",
    "exo_engine.plot_initial_lc()"
   ]
  },
  {
   "cell_type": "markdown",
   "metadata": {},
   "source": [
    "Compare this to an animation from J Eastman (Penn State University) to see geometrically what is happening when a planet crosses in front of a star."
   ]
  },
  {
   "cell_type": "markdown",
   "metadata": {},
   "source": [
    "![SegmentLocal](Figures/HAT-P-3b-xpb0j3_eastman_psu.gif \"segment\")"
   ]
  },
  {
   "cell_type": "markdown",
   "metadata": {},
   "source": [
    "# Activity 2: Planet Radius\n",
    "The next plot is another <span title=\"This is a plot that shows how the brightness of a star + planet system changes as a function of time as the planet goes in front of the star\"><font color='green'>exoplanet transit lightcurve</font></span>. Now, we have added a new variable, the planet radius. Here, we give the planet radius in <span title=\"The radius of Earth is just under 4,000 miles. You could fit about 11 Earths across Jupiter and about 109 Earths across the sun.\"><font color='green'>Earth radii</font></span>. The radius of the Earth is just under 4,000 miles.\n",
    "\n",
    "\n",
    "<div class='alert alert-info'>\n",
    "    <font size='3'><b>Run the cell below. Experiment with different values for the planet radius by adjusting the slider with the mouse.</b></font>\n",
    "</div>\n"
   ]
  },
  {
   "cell_type": "code",
   "execution_count": null,
   "metadata": {},
   "outputs": [],
   "source": [
    "rad = exo_engine.plot_interactive_rad()"
   ]
  },
  {
   "cell_type": "markdown",
   "metadata": {},
   "source": [
    "<div class='alert alert-warning'>\n",
    "    <font size='3'><b>Does increasing the planet radius make the dip deeper or shallower?</b></font>\n",
    "</div>\n",
    "\n"
   ]
  },
  {
   "cell_type": "markdown",
   "metadata": {},
   "source": [
    "# Activity 3: A Planet Spectrum"
   ]
  },
  {
   "cell_type": "markdown",
   "metadata": {},
   "source": [
    "#### Planet Size in Different Colors"
   ]
  },
  {
   "cell_type": "markdown",
   "metadata": {},
   "source": [
    "Now let's explore what happens if a planet has an atmosphere. Some colors of light (<span title=\"The wavelength of light is the distance between light waves (oscillations) and is noticeable to our eyes as different colors\"><font color='green'>wavelengths</font></span>) will pass through the atmosphere whereas some colors of light will get absorbed or scattered. You can notice this on our home planet during sunsets where blue light is scattered away by the atmosphere and red light passes through the atmosphere. From the perspective of space, the Earth looks slightly bigger at blue <span title=\"The wavelength of light is the distance between light waves (oscillations) and is noticeable to our eyes as different colors\"><font color='green'>wavelengths</font></span> than red. Let's look at what happens to the effective size of a planet at each color when you add an atmosphere to a planet. The slider below controls the thickness of the atmosphere in <span title=\"The radius of Earth is just under 4,000 miles. You could fit about 11 Earths across Jupiter and about 109 Earths across the sun.\"><font color='green'>Earth radii</font></span>. The **x** and **y** axes are effectively rulers to measure the size of the planet in <span title=\"The radius of Earth is just under 4,000 miles. You could fit about 11 Earths across Jupiter and about 109 Earths across the sun.\"><font color='green'>Earth radii</font></span>.\n",
    "\n",
    "<div class='alert alert-info'>\n",
    "    <font size='3'><b>Run the cell below. Experiment with different values for the atmospheric thickness.</b></font>\n",
    "</div>\n",
    "\n"
   ]
  },
  {
   "cell_type": "code",
   "execution_count": null,
   "metadata": {
    "scrolled": false
   },
   "outputs": [],
   "source": [
    "exampleSpec = exo_engine.spectral_lc()\n",
    "exampleSpec.visualize_colors_i()"
   ]
  },
  {
   "cell_type": "markdown",
   "metadata": {},
   "source": [
    "<div class='alert alert-warning'>\n",
    "    <font size='3'><b>At which color does the planet appear biggest?</b></font><br>\n",
    "    <font size='3'><b>How could you tell if a planet has an atmosphere?</b></font>\n",
    "\n",
    "</div>\n"
   ]
  },
  {
   "cell_type": "markdown",
   "metadata": {},
   "source": [
    "#### A Spectrum Plot"
   ]
  },
  {
   "cell_type": "markdown",
   "metadata": {},
   "source": [
    "The way astronomers visualize the above color picture of a planet is through a <span title=\"A spectrum is a plot of a planet's size versus wavelength.\"><font color='green'>transmission spectrum</font></span>. This is a plot of the size of the planet in <span title=\"The radius of Earth is just under 4,000 miles. You could fit about 11 Earths across Jupiter and about 109 Earths across the sun.\"><font color='green'>Earth radii</font></span> versus <span title=\"The wavelength of light is the distance between light waves (oscillations) and is noticeable to our eyes as different colors\"><font color='green'>wavelength</font></span>. The wavelength is measured in units of <span title=\"A micron is a unit of length that is one millionth of a meter. Human hair is about 75 microns in diameter.\"><font color='green'>microns</font></span>. A micron is one millionth of a meter. A typical width of a human hair is 75 microns (Smith 2002, *Industrial Metrology*).\n",
    "\n",
    "<div class='alert alert-info'><font size='3'><b>Run the cell below. Experiment with different values for the atmospheric thickness.</b></font>\n",
    "</div\n",
    "    "
   ]
  },
  {
   "cell_type": "code",
   "execution_count": null,
   "metadata": {},
   "outputs": [],
   "source": [
    "exampleSpec.spectrum_plot_i()"
   ]
  },
  {
   "cell_type": "markdown",
   "metadata": {},
   "source": [
    "<div class='alert alert-warning'>\n",
    "    <font size='3'><b>When a spectrum is flat (horizontal), what would you say about the atmosphere?</b></font><br>\n",
    "    <font size='3'><b>When a spectrum slopes down steeply, what would you say about the atmosphere?</b></font><br>\n",
    "\n",
    "</div>\n",
    "\n"
   ]
  },
  {
   "cell_type": "markdown",
   "metadata": {},
   "source": [
    "#### A Multi-Colored Lightcurve"
   ]
  },
  {
   "cell_type": "markdown",
   "metadata": {},
   "source": [
    "Now that we have built some understanding of <span title=\"This is a plot that shows how the brightness of a star + planet system changes as a function of time as the planet goes in front of the star\"><font color='green'>exoplanet transit lightcurves</font></span> in [Activity 1](#Activity-1:-Planet-Lightcurves) and [Activity 2](#Activity-2:-Planet-Radius), we'll examine them at different <span title=\"The wavelength of light is the distance between light waves (oscillations) and is noticeable to our eyes as different colors\"><font color='green'>wavelengths</font></span>. The lightcurve and planet radius can be different from one wavelength to the next because some light passes through the atmosphere while other light is absorbed. You will now examine the lightcurve for different colors with a variable for the thickness of an atmosphere in <span title=\"The radius of Earth is just under 4,000 miles. You could fit about 11 Earths across Jupiter and about 109 Earths across the sun.\"><font color='green'>Earth radii</font></span>.\n",
    "\n",
    "\n",
    "<div class='alert alert-info'>\n",
    "    <font size='3'><b>Run the cell below. Experiment with different values for the atmospheric thickness.</b></font>\n",
    "</div>\n",
    "\n"
   ]
  },
  {
   "cell_type": "code",
   "execution_count": null,
   "metadata": {},
   "outputs": [],
   "source": [
    "exampleSpec.plot_lc_multicolor()"
   ]
  },
  {
   "cell_type": "markdown",
   "metadata": {},
   "source": [
    "<div class='alert alert-warning'>\n",
    "    <font size='3'><b>What kind of measurement could you make to see if a planet has an atmosphere?</b></font><br>\n",
    "\n",
    "</div>\n",
    "\n"
   ]
  },
  {
   "cell_type": "markdown",
   "metadata": {},
   "source": [
    "# Activity 4: Example Planet Atmospheres\n",
    "\n",
    "Now that we have a feeling for how <span title=\"A spectrum is a plot of a planet's size versus wavelength.\"><font color='green'>transmission spectra</font></span> work, let's consider different types of models. The atmospheric sizes have been made larger than reality to make them easier to see.\n"
   ]
  },
  {
   "cell_type": "markdown",
   "metadata": {},
   "source": [
    "#### A water vapor atmosphere\n",
    "\n",
    "\n",
    "The following atmospheric model contains water vapor. The molecules of water will vibrate and rotate at some <span title=\"The wavelength of light is the distance between light waves (oscillations) and is noticeable to our eyes as different colors\"><font color='green'>wavelengths</font></span> better than others so the planet looks bigger at those wavelengths near 2.6 <span title=\"A micron is a unit of length that is one millionth of a meter. Human hair is about 75 microns in diameter.\"><font color='green'>microns</font></span>.\n",
    "\n",
    "<div class='alert alert-info'>\n",
    "    <font size='3'><b>Run the cell below to see the spectrum.</b></font>\n",
    "</div>\n"
   ]
  },
  {
   "cell_type": "code",
   "execution_count": null,
   "metadata": {},
   "outputs": [],
   "source": [
    "exo_engine.show_example_spectra(['H2O'])"
   ]
  },
  {
   "cell_type": "markdown",
   "metadata": {},
   "source": [
    "#### A methane atmosphere\n",
    "\n",
    "The following atmospheric model contains methane. Like water, the molecules of methane will vibrate and rotate at some <span title=\"The wavelength of light is the distance between light waves (oscillations) and is noticeable to our eyes as different colors\"><font color='green'>wavelengths</font></span> better than other. However, methane is has a different configuration of atoms so the planet looks bigger at near 3.4 <span title=\"A micron is a unit of length that is one millionth of a meter. Human hair is about 75 microns in diameter.\"><font color='green'>microns</font></span>.\n",
    "\n",
    "<div class='alert alert-info'>\n",
    "    <font size='3'><b>Run the cell below to see the spectrum.</b></font>\n",
    "</div>\n",
    "\n"
   ]
  },
  {
   "cell_type": "code",
   "execution_count": null,
   "metadata": {},
   "outputs": [],
   "source": [
    "exo_engine.show_example_spectra(['CH4'])"
   ]
  },
  {
   "cell_type": "markdown",
   "metadata": {},
   "source": [
    "#### A Carbon Dioxide Atmosphere\n",
    "\n",
    "Carbon dioxide is yet another configuration of molecules with two oxygen atoms on opposite sides of the carbon. The symmetry of the molecule means that there are only a few ways to vibrate carbon dioxide. This planet will look bigger at 2.8 <span title=\"A micron is a unit of length that is one millionth of a meter. Human hair is about 75 microns in diameter.\"><font color='green'>microns</font></span> and 4.4 <span title=\"A micron is a unit of length that is one millionth of a meter. Human hair is about 75 microns in diameter.\"><font color='green'>microns</font></span> but smaller at most other <span title=\"The wavelength of light is the distance between light waves (oscillations) and is noticeable to our eyes as different colors\"><font color='green'>wavelengths</font></span>.\n",
    "\n",
    "<div class='alert alert-info'>\n",
    "    <font size='3'><b>Run the cell below to see the spectrum.</b></font>\n",
    "</div>\n"
   ]
  },
  {
   "cell_type": "code",
   "execution_count": null,
   "metadata": {},
   "outputs": [],
   "source": [
    "exo_engine.show_example_spectra(['CO2'])"
   ]
  },
  {
   "cell_type": "markdown",
   "metadata": {},
   "source": [
    "#### No Atmosphere\n",
    "\n",
    "If a planet has no atmosphere, all <span title=\"The wavelength of light is the distance between light waves (oscillations) and is noticeable to our eyes as different colors\"><font color='green'>wavelengths</font></span> will reach the ground. An airless planet will therefore look the same size at all wavelengths.\n",
    "\n",
    "<div class='alert alert-info'>\n",
    "    <font size='3'><b>Run the cell below to see the spectrum.</b></font>\n",
    "</div>\n"
   ]
  },
  {
   "cell_type": "code",
   "execution_count": null,
   "metadata": {},
   "outputs": [],
   "source": [
    "exo_engine.show_example_spectra(['No Atmosphere'])"
   ]
  },
  {
   "cell_type": "markdown",
   "metadata": {},
   "source": [
    "<div class='alert alert-warning'>\n",
    "    <font size='3'><b>At which level (in Earth radii) do you think a spacecraft would reach the ground for these planets?</b></font><br>\n",
    "\n",
    "</div>\n",
    "\n"
   ]
  },
  {
   "cell_type": "markdown",
   "metadata": {},
   "source": [
    "# Activity 5: Mystery Planet Atmospheres\n",
    "\n",
    "You are now playing the role of an astronomer. You measure the lightcurve of a planet at different <span title=\"The wavelength of light is the distance between light waves (oscillations) and is noticeable to our eyes as different colors\"><font color='green'>wavelengths</font></span> and this is shown below as a scattering of points at each color. You will need to figure out what the radius of the planet (in <span title=\"The radius of Earth is just under 4,000 miles. You could fit about 11 Earths across Jupiter and about 109 Earths across the sun.\"><font color='green'>Earth radii</font></span>) is for that  <span title=\"The wavelength of light is the distance between light waves (oscillations) and is noticeable to our eyes as different colors\"><font color='green'>wavelength</font></span>.\n",
    "\n"
   ]
  },
  {
   "cell_type": "markdown",
   "metadata": {},
   "source": [
    "### Mystery Planet 1"
   ]
  },
  {
   "cell_type": "markdown",
   "metadata": {},
   "source": [
    "\n",
    "<div class='alert alert-info'>\n",
    "    <font size='3'><b>Execute the cell below the warning message below. Then, use your mouse to drag the sliders to make the lines match the points of each color, forming lines of best fit.\n",
    "\n",
    "</b></font>\n",
    "</div>\n",
    "\n"
   ]
  },
  {
   "cell_type": "markdown",
   "metadata": {},
   "source": [
    "<div class='alert alert-danger'>\n",
    "    <font size='3'><b>Only execute the cell below (with all the sliders) once. Otherwise you will reset the sliders and erase your work in discovering the planet spectrum.</b></font>\n",
    "</div>\n",
    "\n"
   ]
  },
  {
   "cell_type": "code",
   "execution_count": null,
   "metadata": {},
   "outputs": [],
   "source": [
    "atm1 = exo_engine.atmospheric_lc(1)\n",
    "atm1.plot_lc_i()"
   ]
  },
  {
   "cell_type": "markdown",
   "metadata": {},
   "source": [
    "Now you will plot the <span title=\"A spectrum is a plot of a planet's size versus wavelength.\"><font color='green'>transmission spectrum</font></span> of the planet that best matches the data.\n",
    "\n"
   ]
  },
  {
   "cell_type": "markdown",
   "metadata": {},
   "source": [
    "<div class='alert alert-info'>\n",
    "    <font size='3'><b>Execute the cell below to plot the transmission spectrum you found for the planet.\n",
    "\n",
    "</b></font>\n",
    "</div>\n"
   ]
  },
  {
   "cell_type": "code",
   "execution_count": null,
   "metadata": {},
   "outputs": [],
   "source": [
    "atm1.plot_spectrum()"
   ]
  },
  {
   "cell_type": "markdown",
   "metadata": {},
   "source": [
    "\n",
    "<div class='alert alert-info'>\n",
    "    <font size='3'><b>Execute the cell below to plot a compact version of the model spectra above.\n",
    "\n",
    "</b></font>\n",
    "</div>\n",
    "\n"
   ]
  },
  {
   "cell_type": "code",
   "execution_count": null,
   "metadata": {
    "scrolled": false
   },
   "outputs": [],
   "source": [
    "exo_engine.show_example_spectra()"
   ]
  },
  {
   "cell_type": "markdown",
   "metadata": {},
   "source": [
    "<div class='alert alert-warning'>\n",
    "    <font size='3'><b>Compare your transmission spectrum to the models. What kind of atmosphere did you find?</b></font><br>\n",
    "\n",
    "</div>\n",
    "\n"
   ]
  },
  {
   "cell_type": "markdown",
   "metadata": {},
   "source": [
    "### Mystery Planet 2"
   ]
  },
  {
   "cell_type": "markdown",
   "metadata": {},
   "source": [
    "\n",
    "<div class='alert alert-info'>\n",
    "    <font size='3'><b>Execute the cell below the warning message below. Then, use your mouse to drag the sliders to make the lines match the points of each color, forming lines of best fit.\n",
    "\n",
    "</b></font>\n",
    "</div>\n",
    "\n"
   ]
  },
  {
   "cell_type": "markdown",
   "metadata": {},
   "source": [
    "<div class='alert alert-danger'>\n",
    "    <font size='3'><b>Only execute the cell below (with all the sliders) once. Otherwise you will reset the sliders and erase your work in discovering the planet spectrum.</b></font>\n",
    "</div>\n",
    "\n"
   ]
  },
  {
   "cell_type": "code",
   "execution_count": null,
   "metadata": {},
   "outputs": [],
   "source": [
    "atm2 = exo_engine.atmospheric_lc(2)\n",
    "atm2.plot_lc_i()"
   ]
  },
  {
   "cell_type": "markdown",
   "metadata": {},
   "source": [
    "Now you will plot the <span title=\"A spectrum is a plot of a planet's size versus wavelength.\"><font color='green'>transmission spectrum</font></span> of the planet that best matches the data.\n",
    "\n"
   ]
  },
  {
   "cell_type": "markdown",
   "metadata": {},
   "source": [
    "<div class='alert alert-info'>\n",
    "    <font size='3'><b>Execute the cell below to plot the transmission spectrum you found for the planet.\n",
    "\n",
    "</b></font>\n",
    "</div>\n"
   ]
  },
  {
   "cell_type": "code",
   "execution_count": null,
   "metadata": {},
   "outputs": [],
   "source": [
    "atm2.plot_spectrum()"
   ]
  },
  {
   "cell_type": "markdown",
   "metadata": {},
   "source": [
    "\n",
    "<div class='alert alert-info'>\n",
    "    <font size='3'><b>Execute the cell below to plot a compact version of the model spectra above.\n",
    "\n",
    "</b></font>\n",
    "</div>\n",
    "\n"
   ]
  },
  {
   "cell_type": "code",
   "execution_count": null,
   "metadata": {
    "scrolled": false
   },
   "outputs": [],
   "source": [
    "exo_engine.show_example_spectra()"
   ]
  },
  {
   "cell_type": "markdown",
   "metadata": {},
   "source": [
    "<div class='alert alert-warning'>\n",
    "    <font size='3'><b>Compare your transmission spectrum to the models. What kind of atmosphere did you find?</b></font><br>\n",
    "\n",
    "</div>\n",
    "\n"
   ]
  },
  {
   "cell_type": "markdown",
   "metadata": {},
   "source": [
    "### Mystery Planet 3"
   ]
  },
  {
   "cell_type": "markdown",
   "metadata": {},
   "source": [
    "\n",
    "<div class='alert alert-info'>\n",
    "    <font size='3'><b>Execute the cell below the warning message below. Then, use your mouse to drag the sliders to make the lines match the points of each color, forming lines of best fit.\n",
    "\n",
    "</b></font>\n",
    "</div>\n",
    "\n"
   ]
  },
  {
   "cell_type": "markdown",
   "metadata": {},
   "source": [
    "<div class='alert alert-danger'>\n",
    "    <font size='3'><b>Only execute the cell below (with all the sliders) once. Otherwise you will reset the sliders and erase your work in discovering the planet spectrum.</b></font>\n",
    "</div>\n",
    "\n"
   ]
  },
  {
   "cell_type": "code",
   "execution_count": null,
   "metadata": {},
   "outputs": [],
   "source": [
    "atm3 = exo_engine.atmospheric_lc(3)\n",
    "atm3.plot_lc_i()"
   ]
  },
  {
   "cell_type": "markdown",
   "metadata": {},
   "source": [
    "Now you will plot the <span title=\"A spectrum is a plot of a planet's size versus wavelength.\"><font color='green'>transmission spectrum</font></span> of the planet that best matches the data.\n",
    "\n"
   ]
  },
  {
   "cell_type": "markdown",
   "metadata": {},
   "source": [
    "<div class='alert alert-info'>\n",
    "    <font size='3'><b>Execute the cell below to plot the transmission spectrum you found for the planet.\n",
    "\n",
    "</b></font>\n",
    "</div>\n"
   ]
  },
  {
   "cell_type": "code",
   "execution_count": null,
   "metadata": {},
   "outputs": [],
   "source": [
    "atm3.plot_spectrum()"
   ]
  },
  {
   "cell_type": "markdown",
   "metadata": {},
   "source": [
    "\n",
    "<div class='alert alert-info'>\n",
    "    <font size='3'><b>Execute the cell below to plot a compact version of the model spectra above.\n",
    "\n",
    "</b></font>\n",
    "</div>\n",
    "\n"
   ]
  },
  {
   "cell_type": "code",
   "execution_count": null,
   "metadata": {
    "scrolled": false
   },
   "outputs": [],
   "source": [
    "exo_engine.show_example_spectra()"
   ]
  },
  {
   "cell_type": "markdown",
   "metadata": {},
   "source": [
    "<div class='alert alert-warning'>\n",
    "    <font size='3'><b>Compare your transmission spectrum to the models. What kind of atmosphere did you find?</b></font><br>\n",
    "\n",
    "</div>\n",
    "\n"
   ]
  },
  {
   "cell_type": "markdown",
   "metadata": {},
   "source": [
    "### Mystery Planet 4"
   ]
  },
  {
   "cell_type": "markdown",
   "metadata": {},
   "source": [
    "\n",
    "<div class='alert alert-info'>\n",
    "    <font size='3'><b>Execute the cell below the warning message below. Then, use your mouse to drag the sliders to make the lines match the points of each color, forming lines of best fit.\n",
    "\n",
    "</b></font>\n",
    "</div>\n",
    "\n"
   ]
  },
  {
   "cell_type": "markdown",
   "metadata": {},
   "source": [
    "<div class='alert alert-danger'>\n",
    "    <font size='3'><b>Only execute the cell below (with all the sliders) once. Otherwise you will reset the sliders and erase your work in discovering the planet spectrum.</b></font>\n",
    "</div>\n",
    "\n"
   ]
  },
  {
   "cell_type": "code",
   "execution_count": null,
   "metadata": {},
   "outputs": [],
   "source": [
    "atm4 = exo_engine.atmospheric_lc(4)\n",
    "atm4.plot_lc_i()"
   ]
  },
  {
   "cell_type": "markdown",
   "metadata": {},
   "source": [
    "Now you will plot the <span title=\"A spectrum is a plot of a planet's size versus wavelength.\"><font color='green'>transmission spectrum</font></span> of the planet that best matches the data.\n",
    "\n"
   ]
  },
  {
   "cell_type": "markdown",
   "metadata": {},
   "source": [
    "<div class='alert alert-info'>\n",
    "    <font size='3'><b>Execute the cell below to plot the transmission spectrum you found for the planet.\n",
    "\n",
    "</b></font>\n",
    "</div>\n"
   ]
  },
  {
   "cell_type": "code",
   "execution_count": null,
   "metadata": {},
   "outputs": [],
   "source": [
    "atm4.plot_spectrum()"
   ]
  },
  {
   "cell_type": "markdown",
   "metadata": {},
   "source": [
    "\n",
    "<div class='alert alert-info'>\n",
    "    <font size='3'><b>Execute the cell below to plot a compact version of the model spectra above.\n",
    "\n",
    "</b></font>\n",
    "</div>\n",
    "\n"
   ]
  },
  {
   "cell_type": "code",
   "execution_count": null,
   "metadata": {
    "scrolled": false
   },
   "outputs": [],
   "source": [
    "exo_engine.show_example_spectra()"
   ]
  },
  {
   "cell_type": "markdown",
   "metadata": {},
   "source": [
    "<div class='alert alert-warning'>\n",
    "    <font size='3'><b>Compare your transmission spectrum to the models. What kind of atmosphere did you find?</b></font><br>\n",
    "\n",
    "</div>\n",
    "\n"
   ]
  },
  {
   "cell_type": "markdown",
   "metadata": {},
   "source": [
    "# 6. Conclusions\n",
    "\n",
    "Congratulations! You are now figuring out what planet atmospheres are made of or if a planet lacks an atmosphere. In real atmospheres, we will get a mix of molecules that can tell us about the planets' chemistry and someday even help us find life elsewhere in the Universe. Astronomers are exploring real planet atmospheres with current and future telescopes such as the James Webb Space Telescope. You can read about the Webb Telescope and see Images of it at [nasa.gov](https://jwst.nasa.gov/index.html).\n"
   ]
  }
 ],
 "metadata": {
  "kernelspec": {
   "display_name": "Python 3",
   "language": "python",
   "name": "python3"
  },
  "language_info": {
   "codemirror_mode": {
    "name": "ipython",
    "version": 3
   },
   "file_extension": ".py",
   "mimetype": "text/x-python",
   "name": "python",
   "nbconvert_exporter": "python",
   "pygments_lexer": "ipython3",
   "version": "3.7.7"
  }
 },
 "nbformat": 4,
 "nbformat_minor": 2
}
