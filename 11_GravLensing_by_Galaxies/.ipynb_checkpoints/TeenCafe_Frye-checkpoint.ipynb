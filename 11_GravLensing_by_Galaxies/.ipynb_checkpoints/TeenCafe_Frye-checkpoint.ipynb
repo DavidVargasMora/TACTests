{
 "cells": [
  {
   "cell_type": "markdown",
   "metadata": {
    "colab_type": "text",
    "id": "QpEBlevEtHDF"
   },
   "source": [
    "<br>\n",
    "<br>\n",
    "<font size='6'><u><b>Gravitational Lensing</b></u></font>\n",
    "<br><br>\n",
    "<font size='4'><b>by Dr. Brenda Frye, Andy Jaramillo, Nick Foo, Cassie Bodin and Sean Cunningham (University of Arizona, Steward Observatory)</b></font>\n",
    "<br>\n",
    "\n",
    "___"
   ]
  },
  {
   "cell_type": "markdown",
   "metadata": {
    "colab_type": "text",
    "id": "-9xdkKRRtHDI"
   },
   "source": [
    "#### Cluster Lensing:  references\n",
    "- See accompanying keynote presentation \n",
    "- See this web page: https://www.universetoday.com/118751/what-is-gravitational-lensing/\n",
    "- See this python programming webpage:  https://try.jupiter.org/\n",
    "\n",
    "\n",
    "#### Things we will learn:\n",
    "- What is exponential notation?\n",
    "- What is an arcsecond?\n",
    "- What is a parsec?\n",
    "- What is an angular size?\n",
    "- What is the difference between weight and mass?\n",
    "- What is a galaxy cluster?  \n",
    "- What is a gravitational lens?  What is a giant arc?\n",
    "\n",
    "\n",
    "#### Exercises (things you will be able to do!):\n",
    "- Put a number into exponential notation\n",
    "- Identify all the parts of a galaxy cluster, such as the galaxies in the foreground, the galaxies in the background, and the stars\n",
    "- Identify the giant arcs\n",
    "- Measure the mean angular separation of the prominent giant arcs from the cluster center\n",
    "- Estimate the total mass of the cluster.\n",
    "\n",
    "\n",
    "#### And what's the point of the exercises?\n",
    "- Learn about new units of measurement\n",
    "- Learn some basic physics concepts\n",
    "- Learn about the most massive single objects in the universe, the galaxy cluster\n",
    "- Learn some properties of gravitational lensing\n",
    "- Learn how to identify lensed galaxies\n",
    "- Learn how to measure the total mass of a galaxy cluster"
   ]
  },
  {
   "cell_type": "markdown",
   "metadata": {
    "colab_type": "text",
    "id": "5mrknRr_tHD7"
   },
   "source": [
    "# 1.  - Introduction\n",
    "\n",
    "We will use the Python programming language to do this activity.  Let us begin by diving right in and exploring some of the mathematical and physics concepts in this activity.  Python does computations in blocks called cells.  To activate a cell, just click anywhere inside it.  Try it on the cell below."
   ]
  },
  {
   "cell_type": "code",
   "execution_count": null,
   "metadata": {
    "scrolled": true
   },
   "outputs": [],
   "source": [
    "# Text that follows a \"#\" is known as a comment.\n",
    "# Comments do not affect your code in any way.\n",
    "# You should always read the comments at the top of each cell you interact with.\n",
    "# Comments will be used to describe what the cell's code is actually doing.\n",
    "\n"
   ]
  },
  {
   "cell_type": "markdown",
   "metadata": {
    "colab_type": "text",
    "id": "5mrknRr_tHD7"
   },
   "source": [
    "To execute or run a selected cell, hit `[Shift + Enter]` on your keyboard.\n"
   ]
  },
  {
   "cell_type": "code",
   "execution_count": null,
   "metadata": {
    "scrolled": true
   },
   "outputs": [],
   "source": [
    "# Text that DOESN'T follow a \"#\" is considered code.\n",
    "# Lines of code are instructions given to your computer.\n",
    "# The line of code below is a \"print\" statement.\n",
    "# A print statement literally prints out the text between its quotes.\n",
    "\n",
    "print(\"Congrats! You have successfully run your first cell!\")"
   ]
  },
  {
   "cell_type": "markdown",
   "metadata": {
    "colab_type": "text",
    "id": "5mrknRr_tHD7"
   },
   "source": [
    "Running a cell creates an *output* directly below it. An output can be some text, a graph, an interactive slider, or even nothing at all! For that last case, you know you have run a cell when the `In [ ]:` becomes `In [#]:`, where \"#\" is any number.  Now go back into the coding cell above and try editing the print statement to add in your name and the name of everyone in your group today, so that running the cell will read, Congrats!  xxx, yyy and zzz have successfuly run your first cell!"
   ]
  },
  {
   "cell_type": "markdown",
   "metadata": {},
   "source": [
    "# Pre-Activity Setup\n",
    "\n",
    "In order for any of the activities to work properly, you must import the libraries needed for the code in this notebook.\n",
    "\n",
    "<div class='alert alert-info'>\n",
    "    <font size='3'><b>Select and run the cell below.</b></font>\n",
    "</div>"
   ]
  },
  {
   "cell_type": "code",
   "execution_count": null,
   "metadata": {},
   "outputs": [],
   "source": [
    "!pip install Pillow"
   ]
  },
  {
   "cell_type": "code",
   "execution_count": null,
   "metadata": {},
   "outputs": [],
   "source": [
    "# Import necessary modules.\n",
    "#%gui\n",
    "import numpy as np\n",
    "%matplotlib inline\n",
    "import matplotlib.pyplot as plt\n",
    "from matplotlib import cm\n",
    "import pandas as pd\n",
    "from ipywidgets import *\n",
    "from PIL import Image as IMG\n",
    "#from IPython.core.display import Image, display\n",
    "#from drawingpanel import *\n",
    "\n",
    "repoURL = 'https://raw.githubusercontent.com/DavidVargasMora/TACTests/master/'\n",
    "\n",
    "print(\"Congrats! You have successfully the necessary modules to help plot and run the math!\")"
   ]
  },
  {
   "cell_type": "markdown",
   "metadata": {
    "colab_type": "text",
    "id": "5mrknRr_tHD7"
   },
   "source": [
    "\n",
    "\n",
    "## 1.1  - What is exponential (scientific) notation?  \n",
    "\n",
    "Scientific notation is another way to write a number. It is particularly useful when numbers are too big or too small to write down easily.\n",
    "\n",
    "For example, say we wanted to write out a big number like 7 million. We could write out all the zeros: 7000000. Or we could write it in scientific notation as $7 \\times 10^6$ or \"7e6\".\n",
    "\n",
    "Scientific notation works by moving the decimal point of a number to the right or the left by multiplying a number by 10^(some power). If you wanted to move the decimal to the right --> \"some power\" would be negative, and if you wanted to move it to the left --> \"some power\" would be positive. The number you put in for \"some power\" is the number of places you move to the right or the left. For example 0.002 would be $2 \\times 10^{-3}$ because we moved the decimal to the right 3 spaces.\n",
    "\n",
    "Let's play with a few examples...\n",
    "\n",
    "<div class='alert alert-info'>\n",
    "    <font size='3'><b> Run the next cell to enter any number you want to see what it would be in scientific notation.</b></font>\n",
    "</div>"
   ]
  },
  {
   "cell_type": "code",
   "execution_count": null,
   "metadata": {
    "scrolled": true
   },
   "outputs": [],
   "source": [
    "from decimal import Decimal\n",
    "\n",
    "my_number = float(input(\"Enter the number you want in scientific notation:\"))        #<--- choose your own number big or small\n",
    "\n",
    "'%.2E' % Decimal(my_number)"
   ]
  },
  {
   "cell_type": "markdown",
   "metadata": {
    "colab_type": "text",
    "id": "5mrknRr_tHD7"
   },
   "source": [
    "**Note**: The program outputs the numbers in a slightly different format than what you might be used to. Instead of number*10^(some power), it writes it as `'(number)E(some power)'`.\n",
    "\n",
    "\n",
    "<div class='alert alert-info'>\n",
    "    <font size='3'><b> Now that you have an idea of how scientific notation works, what will the following examples be in scientific notation?  You may check your answer by running the code in the cell above.</b></font>\n",
    "</div>\n",
    "\n",
    "\n",
    "    1) 300\n",
    "\n",
    "    2) 0.00059\n",
    "\n",
    "    3) 74600\n",
    "\n",
    "    4) 0.04\n",
    "\n",
    "    5) 1000000"
   ]
  },
  {
   "cell_type": "markdown",
   "metadata": {
    "colab_type": "text",
    "id": "5mrknRr_tHD7"
   },
   "source": [
    "\n",
    "\n",
    "## 1.2 - What is an arcsecond?\n",
    "\n",
    "Before we try to understand what an acrsecond is we need to know what the differences between radians and degrees are. Radians and degrees are different ways to describe how far around a circle an object is from a set position, or the angle to an object.\n",
    "\n",
    "Radians describe the distance traveled along the outside of a circle. There are $2\\pi$ radians in a circle.\n",
    "Degrees describe the angle from you, the observer, to the starting point and the point you are looking at. There are 360 degrees in a circle.\n",
    "\n",
    "Radians are related to degrees given the following formula\n",
    "$2\\pi$ radian= 360 degrees.\n",
    "\n",
    "The diagram below shows a circle split into segments and the corresponding degrees and radians.\n",
    "\n",
    "<img src=\"rad_deg_diagram.jpg\" width=500 />\n",
    "\n",
    "Now that we know what radians and degrees are, let's move on and talk about arcseconds.\n",
    "\n",
    "In astronomy we use units called arcminutes and arcseconds to locate and describe objects in the sky more precisely than we could with radians and degrees. Arcminutes are denoted as ' (or one quote mark), and arcseconds are denoted as \" (or two quote marks).\n",
    "\n",
    "So how are arcmin and arcsec related to degrees?\n",
    "1'=(1 degree)/60\n",
    "1\"=(1')/60=(1 degree)/3600\n",
    "\n",
    "If we measure a length in arcseconds as you will in a few minutes, to figure out what the actual length is in parsecs or Mpc, the length in arcseconds has to be converted to radians. To do this we can write:\n",
    "\n",
    "θ = # of arcseconds * (1 radian/206265 arcseconds)\n",
    "\n",
    "Where does the number 206265 arcseconds come from?\n",
    "\n",
    "One radian is 360/2π ≈ 180/π ≈ 57.3 degrees, OR\n",
    "\n",
    "One radian equals 60 * 60 * 180/π ≈ 206265 arcseconds."
   ]
  },
  {
   "cell_type": "markdown",
   "metadata": {
    "colab_type": "text",
    "id": "5mrknRr_tHD7"
   },
   "source": [
    "<div class='alert alert-info'>\n",
    "    <font size='3'><b>Now let us test our knowledge. Talk to your neighbor about the answers to each of these questions:</b></font>\n",
    "</div>\n",
    "\n",
    "Q1) An object has an angular extent of 45 degrees. What is its angular extent in radians?\n",
    "\n",
    "Q2) If an object has an angular diameter of 1/60 degrees. What is your answer in units of arcminutes?\n",
    "\n",
    "Q3) Challenging question:  We have determined that the angular diameter of an object in the sky is 3\". What is the angular diameter in arcminutes? In degrees?"
   ]
  },
  {
   "cell_type": "markdown",
   "metadata": {
    "colab_type": "text",
    "id": "5mrknRr_tHD7"
   },
   "source": [
    "\n",
    "\n",
    "## 1.3 - What is a parsec (pc)?  What is a Megaparsec (Mpc)?\n",
    "\n",
    "A parsec is a unit of distance. A parsec can be calculated by measuring a quantity called the parallax angle of the object in units of arcseconds. The closer an object is to the Earth, the larger is the parallax angle. \n",
    "One parsec is approximately 3.08x10^16 m.  \n",
    "\n",
    "A Mpc is one million ($10^6$) parsecs. The \"M\" in \"Mpc\" stands for \"mega\" parsec, but its easier to remember that the \"M\" stands for \"million\".  \n",
    "\n"
   ]
  },
  {
   "cell_type": "markdown",
   "metadata": {
    "colab_type": "text",
    "id": "5mrknRr_tHD7"
   },
   "source": [
    "\n",
    "\n",
    "## 1.4 - What is the difference between weight and mass?\n",
    "\n",
    "Mass is the amount of matter something contains. For example, the mass of a box is the amount of the matter of the box plus whatever is inside the box. Mass will NOT change with location. If you are on the moon, you have the same amount of mass than if you were standing on the Earth. \n",
    "\n",
    "Weight is the measure of the pull of gravity on the object. This is why you stand on a scale to get obtain your body weight. The scale measures how hard a body of mass is being pulled by gravity. Weight DOES change with location. You will weigh less on the moon because the force of gravity is smaller than the force of gravity on the Earth. "
   ]
  },
  {
   "cell_type": "markdown",
   "metadata": {},
   "source": [
    "<img src=\"Stop_sign_grey.jpg\" width=500 />"
   ]
  },
  {
   "cell_type": "markdown",
   "metadata": {},
   "source": [
    "<div class='alert alert-danger'>\n",
    "    <font size='3'><b> We will stop here for the moment to answer your questions and wait for others, before continuing.</b></font>\n",
    "</div>"
   ]
  },
  {
   "cell_type": "markdown",
   "metadata": {
    "colab_type": "text",
    "id": "5mrknRr_tHD7"
   },
   "source": [
    "\n",
    "\n",
    "## 1.5 - What is redshift?\n",
    "\n"
   ]
  },
  {
   "cell_type": "markdown",
   "metadata": {},
   "source": [
    "The redshift tells us by which factor the universe has expanded away from us since light was emitted from a distant object.  In this experiment, we use redshift as a measure of distance (D).  The farther away the source is then the greater the redshift. As a useful approximation, there is a direct relationship between redshift (z) and distance (D), such that D = z * constant.  Therefore, if you input a redshift (z), then you will get out a distance (D) in parcsecs (or in Mpc).\n",
    "\n",
    "<div class='alert alert-info'>\n",
    "    <font size='3'><b> Run the next cell to enter your value for distance (D) and then hit return.</b></font>\n",
    "</div>"
   ]
  },
  {
   "cell_type": "code",
   "execution_count": null,
   "metadata": {
    "scrolled": true
   },
   "outputs": [],
   "source": [
    "z = float(input(\"Enter your value for the redshift: \"))       \n",
    "Ho = 71         #Hubble's consant in km/s Mpc where Mpc is megaparsecs \n",
    "c = 299792458   #speed of light\n",
    "\n",
    "D = (z*c)/(1000*Ho)  #calculating for Distance, must multiply Hubble's constant to convert km to m\n",
    "\n",
    "\n",
    "print('Distance = %.2E Mpc' % D)"
   ]
  },
  {
   "cell_type": "markdown",
   "metadata": {},
   "source": [
    "<div class='alert alert-info'>\n",
    "    <font size='3'><b> Thought Questions: With your neighbor, discuss the answers to these questions. </b></font>\n",
    "</div>   \n",
    " \n",
    " (1) What does it mean to say that a galaxy has a z = 0? \n",
    " \n",
    " (2) If a galaxy has z = 1, how far away is this galaxy from us relative to the size of the universe (S = 4300 Mpc)?  Hint:  return to the code cell above and change the value for the redshift.  Now then, can you print out the ratio of d over S."
   ]
  },
  {
   "cell_type": "markdown",
   "metadata": {
    "colab_type": "text",
    "id": "5mrknRr_tHD7"
   },
   "source": [
    "## 1.6 - What is a galaxy cluster?\n",
    "\n",
    " A galaxy is a large collection of 10-100 billion stars whose motions we do not understand.  A galaxy cluster is a collection of up to hundreds galaxies whose motions we do not understand.  In a cluster, the galaxies orbit about the center much like bees circle a beehive. The bees circle at predictable speeds (but do not get too close)!  On the other had, the galaxies in a cluster orbit at speeds greater than expected, and in a way that can be explained if there is a large of amount of an unseen material that we call \"dark matter.\"  This dark matter turns out to be a more substantial component of the cluster than that of all the stars in all of the member galaxies.  Wait - if dark matter is invisible, then how can we see it?  Well, just as wind is invisible but we know it is there when it shakes trees, dark matter is also invisible but know it is there because it speeds up the motions of the galaxies.  Trying to undertstand what is dark matter is one of the most important questions in all of astronomy and physics."
   ]
  },
  {
   "cell_type": "markdown",
   "metadata": {
    "colab_type": "text",
    "id": "5mrknRr_tHD7"
   },
   "source": [
    "## 1.7 - What is a gravitational lens, and a giant arc?\n",
    "\n",
    "Einstein tells us that mass bends light.  A very massive object will change the path of the light passing by it, similar to how eyeglasses change the path of the light.  This \"bending\" of light is called gravitational lensing.  In this experiment we are concerned with natural \"eyeglasses\" in space called lenses.  These lenses take the shape of a galaxy cluster, so they are humongous eyeglasses!  These lenses are not polished like real eyeglasses, and so produce distorted images instead of in-focus ones, and they even make you \"see double.\"  If this happened to a real pair of glasses then you would send them back to the shop.  How does a gravitational lens distort the light?  Well, the appearance of an otherwise circular-shaped object is bent into a banana-like shape that we call a gravitational arc, or just an \"arc.\"  In exceptional circumstances, that banana-like shape is large relative to the other galaxies.  In such cases we call the image a \"giant arc.\"  The aim of this experiment is to find the giant arcs, and to use them as a clue as to where and how big the natural lens is.\n",
    "\n",
    "<img src=\"fig_raytrace.png\" width=800 />\n",
    "\n",
    "Caption:  This figure shows the concept of gravitational lensing.  \n",
    "The bright blobs are the galaxies in the cluster, and the orange \"rays\" show what happens to the light coming from objects behind the cluster that get bent by it.  In which ways is this gravitational lensing effect similar to how light refracts through eyeglass lenses?  In which way is it different?\n"
   ]
  },
  {
   "cell_type": "markdown",
   "metadata": {
    "colab_type": "text",
    "id": "5mrknRr_tHD7"
   },
   "source": [
    "# 2 - The Experiment   "
   ]
  },
  {
   "cell_type": "markdown",
   "metadata": {
    "colab_type": "text",
    "id": "KA8JlLGotHDa"
   },
   "source": [
    "\n",
    "\n",
    "## 2.1  - Select your favorite galaxy cluster"
   ]
  },
  {
   "cell_type": "markdown",
   "metadata": {
    "colab_type": "text",
    "id": "5mrknRr_tHD7"
   },
   "source": [
    "<div class='alert alert-info'>\n",
    "    <font size='3'><b> Here are a handful of different pictures of galaxy clusters.  Select one of them by clicking on one of the tabs below the cluster images.</b></font>\n",
    "</div>   "
   ]
  },
  {
   "cell_type": "code",
   "execution_count": null,
   "metadata": {},
   "outputs": [],
   "source": [
    "import requests\n",
    "\n",
    "images = [\"CL0024.png\", \"Abell_370.png\", \"cluster1_a2218-crop.png\", \"RCSGA032727-132609.png\", \"Abell_1689.png\", \"G165.png\"]\n",
    "\n",
    "for img in images:\n",
    "    url = repoURL+'11_GravLensing_by_Galaxies/'+img\n",
    "    r = requests.get(url, allow_redirects=True, stream=True)\n",
    "    open(img, 'wb').write(r.content)"
   ]
  },
  {
   "cell_type": "code",
   "execution_count": null,
   "metadata": {
    "scrolled": false
   },
   "outputs": [],
   "source": [
    "image_1 = open(\"CL0024.png\", \"rb\").read()\n",
    "image_2 = open(\"Abell_370.png\", \"rb\").read()\n",
    "image_3 = open(\"cluster1_a2218-crop.png\", \"rb\").read()\n",
    "image_4 = open(\"RCSGA032727-132609.png\", \"rb\").read()\n",
    "image_5 = open(\"Abell_1689.png\", \"rb\").read()\n",
    "image_6 = open(\"G165.png\", \"rb\").read()\n",
    "image_n = IMG.open(\"CL0024.png\", \"r\")\n",
    "\n",
    "# Create the interactive widget.\n",
    "def f(cluster):\n",
    "    global image_n\n",
    "    if cluster == 'Cluster 1':\n",
    "        image_n = IMG.open(\"CL0024.png\", \"r\")\n",
    "    if cluster == 'Cluster 2':\n",
    "        image_n = IMG.open(\"Abell_370.png\", \"r\")\n",
    "    if cluster == 'Cluster 3':\n",
    "        image_n = IMG.open(\"cluster1_a2218-crop.png\", \"r\")\n",
    "    if cluster == 'Cluster 4':\n",
    "        image_n = IMG.open(\"RCSGA032727-132609.png\", \"r\")\n",
    "    if cluster == 'Cluster 5':\n",
    "        image_n = IMG.open(\"Abell_1689.png\", \"r\")\n",
    "    if cluster == 'Cluster 6':\n",
    "        image_n = IMG.open(\"G165.png\", \"r\")\n",
    "\n",
    "layout = {'flex':'1'}\n",
    "box_layout = {'display':'flex', 'flex_flow':'row wrap', 'border':'5px solid grey', 'width':'initial'}\n",
    "im1 = Image(value=image_1, format='png', width='40%', layout=layout)\n",
    "im2 = Image(value=image_2, format='png', width='40%', layout=layout)\n",
    "im3 = Image(value=image_3, format='png', width='65%', layout=layout)\n",
    "im4 = Image(value=image_4, format='png', width='10%', layout=layout)\n",
    "im5 = Image(value=image_5, format='png', width='40%', layout=layout)\n",
    "im6 = Image(value=image_6, format='png', width='40%', layout=layout)\n",
    "cluster = ToggleButtons(options=['Cluster 1', 'Cluster 2', 'Cluster 3', 'Cluster 4', 'Cluster 5', 'Cluster 6'],\n",
    "                        style = {'description_width': '0'})\n",
    "\n",
    "interactive(f, cluster=cluster)\n",
    "Box([im1, im2, im3, im4, im5, im6, cluster], layout=box_layout)"
   ]
  },
  {
   "cell_type": "markdown",
   "metadata": {
    "colab_type": "text",
    "id": "5mrknRr_tHD7"
   },
   "source": [
    "<div class='alert alert-info'>\n",
    "    <font size='3'><b> For any galaxy\n",
    "cluster, you will need to be able to identify just a few different types of objects. Let's get familiar with them by answering the following questions: </b></font>\n",
    "</div>\n",
    "<br>\n",
    "(1) There are the galaxies in the lens will all have the same color.  Can you identify the color of these \"cluster members\" in your selected galaxy cluster?  Can you point to some examples on the screen?\n",
    "\n",
    "(2) There are also the galaxies that are a different color from the cluster members.  These objects are typically situated in the background (behind the cluster).  Which colors are these objects?  Can you point to some examples of the background galaxies on the screen?  Note in some extreme cases, the background galaxies will be stretched out into rice-like or even banana-shaped images.  Can you identify these special cases of what we call \"giant arcs?\"\n",
    "\n",
    "(3) And finally, any object with \"nativity-scene-like\" diffraction spikes are stars.  In the image that you selected, can you identify examples of stars?\n"
   ]
  },
  {
   "cell_type": "markdown",
   "metadata": {
    "colab_type": "text",
    "id": "KA8JlLGotHDa"
   },
   "source": [
    "## 2.2 - Measure the radius of the arcs"
   ]
  },
  {
   "cell_type": "markdown",
   "metadata": {},
   "source": [
    "<div class='alert alert-info'>\n",
    "    <font size='3'><b> In this section, we will first try to \"capture\" all of the lensed galaxies that appear as arcs around the cluster of galaxies that are doing the lensing. To do that, we will use a circle. With the sliders below, you will be able to position the center of the circle in x and y and chose how big radius \"r\" of the circle will be. </b></font>\n",
    "</div>\n",
    "<br>"
   ]
  },
  {
   "cell_type": "code",
   "execution_count": null,
   "metadata": {
    "scrolled": false
   },
   "outputs": [],
   "source": [
    "\n",
    "def f(x, y, r):\n",
    "    theta = np.linspace(0, 2*np.pi, 100)\n",
    "    x1 = r*np.cos(theta) + x\n",
    "    x2 = r*np.sin(theta) + y\n",
    "\n",
    "    plt.figure(figsize=(12,12))\n",
    "    plt.imshow(image_n)\n",
    "    plt.plot(x, y, color='green', marker='o', linewidth=2, markersize=12)\n",
    "    plt.plot(x1, x2, linewidth=2)\n",
    "    plt.xlim(0, image_n.size[0])\n",
    "    plt.ylim(image_n.size[1], 0)\n",
    "    #ax.set_aspect(1)\n",
    "\n",
    "\n",
    "x = FloatSlider(min=0, max=image_n.size[0], step=image_n.size[0]//10, value=image_n.size[0]/2)\n",
    "y = FloatSlider(min=0, max=image_n.size[1], step=image_n.size[0]//10, value=image_n.size[1]/2)\n",
    "r = FloatSlider(min=0, max=image_n.size[1]//2, step=image_n.size[0]//50, value=500)\n",
    "\n",
    "interactive(f, x=x, y=y, r=r)"
   ]
  },
  {
   "cell_type": "markdown",
   "metadata": {
    "colab_type": "text",
    "id": "NIegNeVktHEE"
   },
   "source": [
    "<div class='alert alert-info'>\n",
    "    <font size='3'><b> Thought Questions: With your neighbor, discuss the answers to these questions:</b></font>\n",
    "</div>\n",
    "<br>Now then, let us consider only the giant arcs.  How many did you find?  Do you see how these giant arcs look a bit like they are defining the perimeter of a circle?  Can you also estimate the position that marks the center of such a circle? The center of your circle should equate roughly with the center of all the cluster members.  Is this the case?  With the center and perimter in mind, go ahead and place down a circle that best describes the positions of the arcs.  Note you will not be able to get an exact answer here, but only a \"best-guess.\"  This is okay!\n",
    "\n",
    "What is the radius of the circle that you fit?  Hint:  compare your radius with the reference key or \"plate scale\" in the lower left-hand corner of your image.  \n",
    "\n"
   ]
  },
  {
   "cell_type": "markdown",
   "metadata": {},
   "source": [
    "<div class='alert alert-info'>\n",
    "    <font size='3'><b> Put a ruler up to the screen and measure your radius in units of arcseconds.\n",
    "<br><br>\n",
    "Hint:  compare your radius with the reference key or \"plate scale\" in the lower left-hand corner of the image.  Your answer is also known as \"Angular_size_radius_arcseconds\"\n",
    "\n",
    "In the next cell, enter the angular size you measured in units of arcseconds.  You will get a measure of angular size in radians as your output. </b></font>\n",
    "</div>"
   ]
  },
  {
   "cell_type": "code",
   "execution_count": null,
   "metadata": {},
   "outputs": [],
   "source": [
    "Angular_size_radius_arcseconds = float(input(\"Enter your value for angular size: \")) \n",
    "# Now then, you need to convert your answer from units of arcseconds to units of radians.\n",
    "Angular_size_radius_radians = Angular_size_radius_arcseconds/206265.\n",
    "print(Angular_size_radius_radians)\n",
    "\n",
    "#print(Angular_size_radius_radians, 'Radians')"
   ]
  },
  {
   "cell_type": "markdown",
   "metadata": {
    "colab_type": "text",
    "id": "KA8JlLGotHDa"
   },
   "source": [
    "## 2.3 - Measure the total mass"
   ]
  },
  {
   "cell_type": "markdown",
   "metadata": {
    "colab_type": "text",
    "id": "NIegNeVktHEE"
   },
   "source": [
    "<div class='alert alert-info'>\n",
    "    <font size='3'><b> Given a redshift for your lens, calculate your value for the distance D (in Mpc) with the code cell below. </b></font>\n",
    "</div>\n",
    "        \n",
    "        Table of redshifts:  \n",
    "        \n",
    "      Cluster #        Cluster Name          Redshift (z)\n",
    "      ---------        ------------          ------------\n",
    "          1             CL0024                0.39\n",
    "          2             Abell 370             0.38\n",
    "          3             Abell 2218            0.18\n",
    "          4             RCSGA032727-132609    0.564\n",
    "          5             Abell 1689            0.18\n",
    "          6             G165                  0.35\n",
    "      \n",
    "      \n",
    "      "
   ]
  },
  {
   "cell_type": "code",
   "execution_count": null,
   "metadata": {
    "scrolled": true
   },
   "outputs": [],
   "source": [
    "z = float(input(\"Enter your value for the redshift: \"))       \n",
    "Ho = 71         #Hubble's consant in km/s Mpc where Mpc is megaparsecs \n",
    "c = 299792458   #speed of light\n",
    "\n",
    "D = (z*c)/(1000*Ho)  #calculating for Distance, must multiply Hubble's constant to convert km to m\n",
    "\n",
    "\n",
    "print('Distance = %.2E Mpc' % D)"
   ]
  },
  {
   "cell_type": "markdown",
   "metadata": {},
   "source": [
    "<div class='alert alert-info'>\n",
    "    <font size='3'><b> Compute the total mass by activating the cell below and inputting the mass in Mpc (just as you see it) from the cell above. </b></font>\n",
    "</div>"
   ]
  },
  {
   "cell_type": "code",
   "execution_count": null,
   "metadata": {},
   "outputs": [],
   "source": [
    "pi = 3.14\n",
    "Sigma_cr = 3.5e45 # kg/Mpc^2\n",
    "phi = Angular_size_radius_radians  \n",
    "D = float(input(\"Insert value for distance in Mpc: \"))\n",
    "\n",
    "# The total mass, M is:\n",
    "\n",
    "M = pi *Sigma_cr * D**2 * phi**2  # in kg\n",
    "print(\"Mass = %0.2E kg\" % M)"
   ]
  },
  {
   "cell_type": "markdown",
   "metadata": {},
   "source": [
    "This is a very large number!  To make more sense of the result, we usually quote our answers in terms of solar masses.  The mass of our Sun is 1.99 x 10$^{30}$ kg. "
   ]
  },
  {
   "cell_type": "code",
   "execution_count": null,
   "metadata": {
    "scrolled": true
   },
   "outputs": [],
   "source": [
    "Msun = 1.989*10**30 #Mass of Sun, in kg\n",
    "\n",
    "Msolar = M/Msun # taking the mass of the galaxy cluster and converting it in terms of Solar mass\n",
    "\n",
    "print('Mass = %.2E Solar Masses' % Msolar) "
   ]
  },
  {
   "cell_type": "markdown",
   "metadata": {},
   "source": [
    "### Even this number is too big to put into context.  Finally, let us compute our answer in terms of the number of Milky Way galaxies.\n",
    "The Milky Way has a mass equivalent to one large galaxy, and a galaxy cluster consists of many galaxies, so the answer should be greater than one.  \n",
    "\n",
    "The mass of the Milkyway is 1.5 trillion solar masses.  We can write:"
   ]
  },
  {
   "cell_type": "code",
   "execution_count": null,
   "metadata": {},
   "outputs": [],
   "source": [
    "Mmilkway = 1.5*10**12\n",
    "Mcluster = Msolar/Mmilkway\n",
    "print('Mass = %.2E Milky way Masses' % Mcluster) "
   ]
  },
  {
   "cell_type": "markdown",
   "metadata": {},
   "source": [
    "How many cluster members do you count inside your circle?  This gives an approximation of the number of Milky Ways.  How does the number that you count compare with the number you computed?  If the number that you computed is larger, then you have just identified dark matter!  One primary goal of this kind of research is to understand more about this invisible matter that is the majority material of the universe that we call the dark matter.  All of the stars, planets, humans and every object we can see and point to on Earth and in space is in the minority compared to the dark matter.  Do you think we will ever one day be able to one day hold dark matter in our hands and point to it in a museum?  Science is accomplished by curious people. Perhaps one day you will study science and math and be able to help us to understand what is dark matter? "
   ]
  },
  {
   "cell_type": "markdown",
   "metadata": {},
   "source": [
    "<div class='alert alert-warning'>\n",
    "    <font size='3'><b> Let's take a few minutes to share what we have found on whether or not our cluster might contain dark matter and why! </b></font>\n",
    "</div>"
   ]
  },
  {
   "cell_type": "code",
   "execution_count": null,
   "metadata": {},
   "outputs": [],
   "source": []
  },
  {
   "cell_type": "code",
   "execution_count": null,
   "metadata": {},
   "outputs": [],
   "source": []
  },
  {
   "cell_type": "code",
   "execution_count": null,
   "metadata": {},
   "outputs": [],
   "source": []
  },
  {
   "cell_type": "code",
   "execution_count": null,
   "metadata": {},
   "outputs": [],
   "source": []
  }
 ],
 "metadata": {
  "anaconda-cloud": {},
  "colab": {
   "default_view": {},
   "name": "Class2_DM_Halos_and_Merger_Trees.ipynb",
   "private_outputs": true,
   "provenance": [],
   "version": "0.3.2",
   "views": {}
  },
  "kernelspec": {
   "display_name": "Python 3",
   "language": "python",
   "name": "python3"
  },
  "language_info": {
   "codemirror_mode": {
    "name": "ipython",
    "version": 3
   },
   "file_extension": ".py",
   "mimetype": "text/x-python",
   "name": "python",
   "nbconvert_exporter": "python",
   "pygments_lexer": "ipython3",
   "version": "3.7.7"
  }
 },
 "nbformat": 4,
 "nbformat_minor": 1
}
