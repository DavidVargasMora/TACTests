{
 "cells": [
  {
   "cell_type": "markdown",
   "metadata": {},
   "source": [
    "<br>\n",
    "<br>\n",
    "<font size='6'><u><b>Gravitational Lensing</b></u></font>\n",
    "<br>\n",
    "\n",
    "##### Written by A. Bolton, 2017\n",
    "##### Updated 2018: Elliot Kisiel and Connie Walker\n",
    "##### Revised by Andres Jaramillo\n",
    "\n",
    "You have learned about how we can measure the mass of a galaxy based on the gravitational lensing of a foreground galaxy. This lensing effect can be seen in the various images below. In this activity, we will be walking through some of the steps that astronomers use to determine the mass of a galaxy by examining the lensing effects.\n",
    "\n",
    "<img src='Figures/SloanLensACS_Survey.png' width='900'>\n",
    "\n",
    "___"
   ]
  },
  {
   "cell_type": "markdown",
   "metadata": {},
   "source": [
    "# Table of Contents\n",
    "\n",
    "* [How to Use This Notebook](#How-to-Use-This-Notebook)\n",
    "* [Pre-Activity Setup](#Pre-Activity-Setup)\n",
    "* [Activity 1: The Lensed Galaxy](#Activity-1:-The-Lensed-Galaxy)\n",
    "* [Activity 2: The Lensing Galaxy](#Activity-2:-The-Lensing-Galaxy)\n",
    "* [Activity 3: The Lensed and Lensing Galaxies](#Activity-3:-The-Lensed-and-Lensing-Galaxies)\n",
    "    * [Part 3.1: Matching the Galaxy](#Part-3.1:-Matching-the-Galaxy)\n",
    "    * [Part 3.2: Real Lensed Galaxies](#Part-3.2:-Real-Lensed-Galaxies)\n",
    "    * [Part 3.3: Relation to the Mass of Galaxies](#Part-3.3:-Relation-to-the-Mass-of-Galaxies)\n",
    "___"
   ]
  },
  {
   "cell_type": "markdown",
   "metadata": {},
   "source": [
    "# How to Use This Notebook\n",
    "\n",
    "The webpage you are in is actually an app - much like the ones on your cellphone. This app consists of cells.\n",
    "\n",
    "An *input* cell looks like a light grey box with an `In [ ]:` on its left. Input cells each contain code - instructions to make the computer do something.\n",
    "\n",
    "To activate or select a cell, click anywhere inside of it.\n",
    "\n",
    "<div class='alert alert-info'>\n",
    "    <font size='3'><b>Select the cell below and read its contents.</b></font>\n",
    "</div>"
   ]
  },
  {
   "cell_type": "code",
   "execution_count": null,
   "metadata": {},
   "outputs": [],
   "source": [
    "# Text that follows a \"#\" is known as a comment.\n",
    "# Comments do not affect your code in any way.\n",
    "# You should always read the comments at the top of each cell you interact with.\n",
    "# Comments will be used to describe what the cell's code is actually doing."
   ]
  },
  {
   "cell_type": "markdown",
   "metadata": {},
   "source": [
    "To execute or run a selected cell, hit `[Shift + Enter]` on your keyboard.\n",
    "\n",
    "<div class='alert alert-info'>\n",
    "    <font size='3'><b>Select the cell below and read its contents. Then, run the cell.</b></font>\n",
    "</div>"
   ]
  },
  {
   "cell_type": "code",
   "execution_count": 1,
   "metadata": {},
   "outputs": [
    {
     "name": "stdout",
     "output_type": "stream",
     "text": [
      "Congrats! You have successfully run your first cell!\n"
     ]
    }
   ],
   "source": [
    "# Text that DOESN'T follow a \"#\" is considered code.\n",
    "# Lines of code are instructions given to your computer.\n",
    "# The line of code below is a \"print\" statement.\n",
    "# A print statement literally prints out the text between its quotes.\n",
    "\n",
    "print(\"Congrats! You have successfully run your first cell!\")"
   ]
  },
  {
   "cell_type": "markdown",
   "metadata": {},
   "source": [
    "Running a cell creates an *output* directly below it. An output can be some text, a graph, an interactive slider, or even nothing at all! For that last case, you know you have run a cell when the `In [ ]:` becomes `In [#]:`, where \"#\" is any number.\n",
    "\n",
    "You can learn more about how Jupyter notebooks work at https://try.jupyter.org/\n",
    "___"
   ]
  },
  {
   "cell_type": "markdown",
   "metadata": {},
   "source": [
    "# Pre-Activity Setup\n",
    "\n",
    "In order for any of the activities to work properly, you must import the libraries needed for the code in this notebook.\n",
    "\n",
    "<div class='alert alert-info'>\n",
    "    <font size='3'><b>Select and run the cell below.</b></font>\n",
    "</div>"
   ]
  },
  {
   "cell_type": "code",
   "execution_count": null,
   "metadata": {},
   "outputs": [],
   "source": [
    "# If you are running the notebook in Colab, this package needs to be installed first.\n",
    "!pip install ipympl &> /dev/null"
   ]
  },
  {
   "cell_type": "code",
   "execution_count": 1,
   "metadata": {},
   "outputs": [],
   "source": [
    "#Now we import some needed packages from our repository\n",
    "\n",
    "repoURL = 'https://raw.githubusercontent.com/DavidVargasMora/TACTests/master/'\n",
    "\n",
    "from httpimport import remote_repo\n",
    "\n",
    "with remote_repo(['lensdemo_funcs'], repoURL+'05_Gravitational_Lensing') :\n",
    "    import lensdemo_funcs as ldf"
   ]
  },
  {
   "cell_type": "code",
   "execution_count": 2,
   "metadata": {},
   "outputs": [],
   "source": [
    "# Import necessary modules.\n",
    "import numpy as np\n",
    "%matplotlib widget\n",
    "import matplotlib.pyplot as plt\n",
    "from matplotlib import cm\n",
    "#import lensdemo_funcs as ldf\n",
    "from ipywidgets import *"
   ]
  },
  {
   "cell_type": "markdown",
   "metadata": {},
   "source": [
    "### Programming Side Note\n",
    "\n",
    "The previous cell is a way of importing the necessary functions and other stuff to allow us to make pictures and do math super easy. In the next cell, we will be using a dictionary to easily group things together. Like how in a normal dictionary there is a word and a definition, this dictionary acts in a similar manner but instead of a word, we call it a key and instead of a definition we call it a value.\n",
    "\n",
    "```python\n",
    "dictionary = {key1 : value1, key2 : value2 ...}\n",
    "```"
   ]
  },
  {
   "cell_type": "code",
   "execution_count": 3,
   "metadata": {},
   "outputs": [],
   "source": [
    "# Package some image display preferences in a \"dictionary object\", for use below:\n",
    "myargs = {'interpolation': 'nearest', 'origin': 'lower', 'cmap': cm.nipy_spectral}\n",
    "# The following specifies an alternate color map, which some may find preferable.\n",
    "# Un-comment and execute the following line if you want to use it:\n",
    "# myargs = {'interpolation': 'nearest', 'origin': 'lower', 'cmap': cm.hot}"
   ]
  },
  {
   "cell_type": "markdown",
   "metadata": {},
   "source": [
    "___"
   ]
  },
  {
   "cell_type": "markdown",
   "metadata": {},
   "source": [
    "# Activity 1: The Lensed Galaxy\n",
    "\n",
    "In this exercise you will be playing around with the different parameters of a distant galaxy; we will name this galaxy Pat. This will be the galaxy that will eventually be lensed. What would you expect a very distant galaxy to look like? Would it be shaped like a spiral? A point? Some sort of smear? Think about this and then discuss with a person near you.\n",
    "\n",
    "Once you have thought about that, we will start to set up some of the parameters below to get an image of what Pat is going to look like. First, run the program as it is set up. Then, use the sliders to tweak the parameters until Pat looks how you want it. Our recommendation is to tweak one parameter (e.g. `g_sig`, `g_amp`, `g_axrat`, etc.) at a time to see how that parameter changes Pat. Try this a few times. Talk to the person next to you and describe one or two ways in which Pat looks different.\n",
    "\n",
    "```python\n",
    "gpar = [g_amp, g_sig, g_xcen, g_ycen, g_axrat, g_pa]\n",
    "```\n",
    "\n",
    "Where the parameters are defined as:\n",
    "\n",
    ">`g_amp` is the peak brightness value.  \n",
    ">`g_sig` is how spread out Pat is.  \n",
    ">`g_xcen` is the x position of the center of Pat.  \n",
    ">`g_ycen` is the y position of the center of Pat.  \n",
    ">`g_axrat` is the minor-to-major axis ratio.  \n",
    ">`g_pa` is the major-axis position angle [degrees] c.c.w. from x axis.\n",
    "\n",
    "Each of the parameters has the recommended ranges in values below:\n",
    "\n",
    ">$0 \\le$ `g_amp` $\\le 10$  \n",
    ">$0 \\le$ `g_sig` $\\le 0.5$  \n",
    ">$-1 \\le$ `g_xcen` $\\le 1$  \n",
    ">$-1 \\le$ `g_ycen` $\\le 1$  \n",
    ">$0.01 \\le$ `g_axrat` $\\le 1$  \n",
    ">$0 \\le$ `g_pa` $\\le 180$\n",
    "\n",
    "<div class='alert alert-info'>\n",
    "    <h3 class='alert-heading'>Helpful Reminder(s)</h3>\n",
    "    <ul>\n",
    "        <li>Click anywhere inside of a cell to select it.</li>\n",
    "        <li>Hit [Shift + Enter] to run a selected cell.</li>\n",
    "    </ul>\n",
    "</div>"
   ]
  },
  {
   "cell_type": "code",
   "execution_count": 4,
   "metadata": {},
   "outputs": [
    {
     "data": {
      "application/vnd.jupyter.widget-view+json": {
       "model_id": "13e26722390a42daa8c68e1b59e96183",
       "version_major": 2,
       "version_minor": 0
      },
      "text/plain": [
       "Box(children=(FloatSlider(value=5.0, continuous_update=False, description='g_amp', layout=Layout(width='initia…"
      ]
     },
     "metadata": {},
     "output_type": "display_data"
    },
    {
     "data": {
      "image/png": "[encoded data removed]",
      "text/plain": [
       "<Figure size 432x288 with 1 Axes>"
      ]
     },
     "metadata": {},
     "output_type": "display_data"
    }
   ],
   "source": [
    "# Set some parameters to make x and y coordinate images.\n",
    "nx = 501\n",
    "ny = 501\n",
    "xhilo = [-2.5, 2.5]\n",
    "yhilo = [-2.5, 2.5]\n",
    "x = (xhilo[1] - xhilo[0]) * np.outer(np.ones(ny), np.arange(nx)) / float(nx-1) + xhilo[0]\n",
    "y = (yhilo[1] - yhilo[0]) * np.outer(np.arange(ny), np.ones(nx)) / float(ny-1) + yhilo[0]\n",
    "\n",
    "# Set some Pat image parameters and pack them into an array.\n",
    "g_amp = 5  # Peak brightness value\n",
    "g_sig = 0.25  # How spread out Pat is\n",
    "g_xcen = 0  # x position of center\n",
    "g_ycen = 0  # y position of center\n",
    "g_axrat = 1  # Minor-to-major axis ratio\n",
    "g_pa = 0  # Major-axis position angle [degrees] c.c.w. from x axis\n",
    "gpar = np.asarray([g_amp, g_sig, g_xcen, g_ycen, g_axrat, g_pa])\n",
    "g_image = ldf.gauss_2d(x, y, gpar)\n",
    "\n",
    "# Have a look at the un-lensed Pat.\n",
    "\n",
    "fig = plt.figure()\n",
    "ax = fig.add_subplot(111)\n",
    "ax.set_title('Un-Lensed Galaxy')\n",
    "ax.set_xticks([])\n",
    "ax.set_yticks([])\n",
    "plt.imshow(g_image, **myargs)\n",
    "\n",
    " # Create the interactive widget.\n",
    "def f(g_amp, g_sig, g_xcen, g_ycen, g_axrat, g_pa):\n",
    "    gpar = np.asarray([g_amp, g_sig, g_xcen, g_ycen, g_axrat, g_pa])\n",
    "    g_image = ldf.gauss_2d(x, y, gpar)\n",
    "    plt.imshow(g_image, **myargs)\n",
    "\n",
    "layout = {'width':'initial'}\n",
    "box_layout = {'display':'flex', 'flex_flow':'column', 'border':'5px solid grey', 'width':'initial'}\n",
    "g_amp = FloatSlider(value=5, min=0, max=10, step=0.01, continuous_update=False, layout=layout)\n",
    "g_sig = FloatSlider(value=0.25, min=0, max=0.5, step=0.01, continuous_update=False, layout=layout)\n",
    "g_xcen = FloatSlider(value=0, min=-1, max=1, step=0.01, continuous_update=False, layout=layout)\n",
    "g_ycen = FloatSlider(value=0, min=-1, max=1, step=0.01, continuous_update=False, layout=layout)\n",
    "g_axrat = FloatSlider(value=1, min=0.01, max=1, step=0.01, continuous_update=False, layout=layout)\n",
    "g_pa = FloatSlider(value=0, min=0, max=180, step=0.01, continuous_update=False, layout=layout)\n",
    "interactive(f, g_amp=g_amp, g_sig=g_sig, g_xcen=g_xcen, g_ycen=g_ycen, g_axrat=g_axrat, g_pa=g_pa)\n",
    "Box([g_amp, g_sig, g_xcen, g_ycen, g_axrat, g_pa], layout=box_layout)"
   ]
  },
  {
   "cell_type": "markdown",
   "metadata": {},
   "source": [
    "___"
   ]
  },
  {
   "cell_type": "markdown",
   "metadata": {},
   "source": [
    "# Activity 2: The Lensing Galaxy\n",
    "\n",
    "Now that we have Pat, it is time to add a very massive, closer galaxy; we will name this one Chris. Scientists call Chris the lensing galaxy and Pat the lensed galaxy. The most important parameter for Chris is the Einstein radius. Knowing this parameter allows scientists to predict the mass of Chris, the lensing galaxy. We will be using Pat as our distant galaxy and tweak the parameters of Chris to see how each of the parameters changes what Pat looks like to us. First, run the program as it is set up. Then, use the sliders to tweak one parameter (e.g. `l_amp`, `l_axrat`, etc.) at a time to see how that parameter changes Pat. Try this a few times. Talk to the person next to you and describe one or two ways in which Pat looks different.\n",
    "\n",
    "```python\n",
    "lpar = [l_amp, l_xcen, l_ycen, l_axrat, l_pa]\n",
    "```\n",
    "\n",
    "Where the parameters are defined as:\n",
    "\n",
    ">`l_amp` is the Einstein radius of Chris.  \n",
    ">`l_xcen` is the x position of the center of Chris.  \n",
    ">`l_ycen` is the y position of the center of Chris.  \n",
    ">`l_axrat` is the minor-to-major axis ratio.  \n",
    ">`l_pa` is the major-axis position angle [degrees] c.c.w. from x axis.\n",
    "\n",
    "Each of the parameters has the recommended ranges in values below:\n",
    "\n",
    ">$0 \\le$ `l_amp` $\\le 2$  \n",
    ">$-1 \\le$ `l_xcen` $\\le 1$  \n",
    ">$-1 \\le$ `l_ycen` $\\le 1$  \n",
    ">$0.01 \\le$ `l_axrat` $\\le 1$  \n",
    ">$0 \\le$ `l_pa` $\\le 180$\n",
    "\n",
    "<div class='alert alert-info'>\n",
    "    <h3 class='alert-heading'>Helpful Reminder(s)</h3>\n",
    "    <ul>\n",
    "        <li>Click anywhere inside of a cell to select it.</li>\n",
    "        <li>Hit [Shift + Enter] to run a selected cell.</li>\n",
    "    </ul>\n",
    "</div>"
   ]
  },
  {
   "cell_type": "code",
   "execution_count": 4,
   "metadata": {},
   "outputs": [
    {
     "data": {
      "application/vnd.jupyter.widget-view+json": {
       "model_id": "71bfc93b5968466191ff3eb7b9cf2861",
       "version_major": 2,
       "version_minor": 0
      },
      "text/plain": [
       "Canvas(toolbar=Toolbar(toolitems=[('Home', 'Reset original view', 'home', 'home'), ('Back', 'Back to previous …"
      ]
     },
     "metadata": {},
     "output_type": "display_data"
    },
    {
     "data": {
      "application/vnd.jupyter.widget-view+json": {
       "model_id": "019d19136a3d403099963b52fd70d1f9",
       "version_major": 2,
       "version_minor": 0
      },
      "text/plain": [
       "Box(children=(FloatSlider(value=1.0, continuous_update=False, description='l_amp', layout=Layout(width='initia…"
      ]
     },
     "metadata": {},
     "output_type": "display_data"
    }
   ],
   "source": [
    "# Set some lens-model parameters and pack them into an array.\n",
    "l_amp = 1  # Einstein radius\n",
    "l_xcen = 0  # x position of center\n",
    "l_ycen = 0  # y position of center\n",
    "l_axrat = 1  # Minor-to-major axis ratio\n",
    "l_pa = 0  # Major-axis position angle [degrees] c.c.w. from x axis\n",
    "lpar = np.asarray([l_amp, l_xcen, l_ycen, l_axrat, l_pa])\n",
    "(xg, yg) = ldf.sie_grad(x, y, lpar)\n",
    "g_lensimage = ldf.gauss_2d(x-xg, y-yg, gpar)\n",
    "\n",
    "# Have a look at the lensed Pat.\n",
    "fig = plt.figure()\n",
    "ax = fig.add_subplot(111)\n",
    "ax.set_title('Lensed Galaxy')\n",
    "ax.set_xticks([])\n",
    "ax.set_yticks([])\n",
    "plt.imshow(g_lensimage, **myargs)\n",
    "\n",
    "# Create the interactive widget.\n",
    "def f(l_amp, l_xcen, l_ycen, l_axrat, l_pa):\n",
    "    lpar = np.asarray([l_amp, l_xcen, l_ycen, l_axrat, l_pa])\n",
    "    (xg, yg) = ldf.sie_grad(x, y, lpar)\n",
    "    g_lensimage = ldf.gauss_2d(x-xg, y-yg, gpar)\n",
    "    plt.imshow(g_lensimage, **myargs)\n",
    "\n",
    "l_amp = FloatSlider(value=1, min=0, max=2, step=0.01, continuous_update=False, layout=layout)\n",
    "l_xcen = FloatSlider(value=0, min=-1, max=1, step=0.01, continuous_update=False, layout=layout)\n",
    "l_ycen = FloatSlider(value=0, min=-1, max=1, step=0.01, continuous_update=False, layout=layout)\n",
    "l_axrat = FloatSlider(value=1, min=0.01, max=1, step=0.01, continuous_update=False, layout=layout)\n",
    "l_pa = FloatSlider(value=0, min=0, max=180, step=0.01, continuous_update=False, layout=layout)\n",
    "interactive(f, l_amp=l_amp, l_xcen=l_xcen, l_ycen=l_ycen, l_axrat=l_axrat, l_pa=l_pa)\n",
    "Box([l_amp, l_xcen, l_ycen, l_axrat, l_pa], layout=box_layout)"
   ]
  },
  {
   "cell_type": "markdown",
   "metadata": {},
   "source": [
    "___"
   ]
  },
  {
   "cell_type": "markdown",
   "metadata": {},
   "source": [
    "# Activity 3: The Lensed and Lensing Galaxies\n",
    "\n",
    "Now that we have tweaked the parameters for both Pat and Chris individually, what happens if we change the parameters of both at the same time? In the following cells, the left image is Pat before it is lensed and the right image is Pat after its light has been bent by Chris and therefore lensed. **It is important to note here that we are not displaying Chris.**\n",
    "\n",
    "<img src=\"Figures/Lensed_Galaxy_Components_v2.png\" width=\"800\">\n",
    "\n",
    "___"
   ]
  },
  {
   "cell_type": "markdown",
   "metadata": {},
   "source": [
    "## Part 3.1: Matching the Galaxy\n",
    "\n",
    "You should have been given a random number at the start of this activity. If you do not, raise your hand now. Using the sliders below, try to reproduce the image corresponding to the number recieved.\n",
    "\n",
    "For your convenience, the parameters are defined again below:\n",
    "\n",
    "```python\n",
    "gpar = [g_amp, g_sig, g_xcen, g_ycen, g_axrat, g_pa]\n",
    "```\n",
    "\n",
    "Where the parameters are defined as:\n",
    "\n",
    ">`g_amp` is the peak brightness value.  \n",
    ">`g_sig` is how spread out Pat is.  \n",
    ">`g_xcen` is the x position of the center of Pat.  \n",
    ">`g_ycen` is the y position of the center of Pat.  \n",
    ">`g_axrat` is the minor-to-major axis ratio.  \n",
    ">`g_pa` is the major-axis position angle [degrees] c.c.w. from x axis.\n",
    "\n",
    "```python\n",
    "lpar = [l_amp, l_xcen, l_ycen, l_axrat, l_pa]\n",
    "```\n",
    "\n",
    "Where the parameters are defined as:\n",
    "\n",
    ">`l_amp` is the Einstein radius of Chris.  \n",
    ">`l_xcen` is the x position of the center of Chris.  \n",
    ">`l_ycen` is the y position of the center of Chris.  \n",
    ">`l_axrat` is the minor-to-major axis ratio.  \n",
    ">`l_pa` is the major-axis position angle [degrees] c.c.w. from x axis.\n",
    "\n",
    "As a hint, all of these have the same `l_amp` $= 1.5$, `l_xcen` $= 0$, `l_ycen` $= 0$, `l_pa` $= 0$, but have different `l_axrat` between $0.01$ and $1$. Finally, the range of values for Pat (the unlensed galaxy) are given by:\n",
    "\n",
    ">$0 \\le$ `g_amp` $\\le 10$  \n",
    ">$0 \\le$ `g_sig` $\\le 0.5$  \n",
    ">$-1 \\le$ `g_xcen` $\\le 1$  \n",
    ">$-1 \\le$ `g_ycen` $\\le 1$  \n",
    ">$0.01 \\le$ `g_axrat` $\\le 1$  \n",
    ">$0 \\le$ `g_pa` $\\le 180$\n",
    "\n",
    "<img src='Figures/lens_image_mosaic_v2.png'>\n",
    "\n",
    "<div class='alert alert-info'>\n",
    "    <h3 class='alert-heading'>Helpful Reminder(s)</h3>\n",
    "    <ul>\n",
    "        <li>Click anywhere inside of a cell to select it.</li>\n",
    "        <li>Hit [Shift + Enter] to run a selected cell.</li>\n",
    "    </ul>\n",
    "</div>"
   ]
  },
  {
   "cell_type": "code",
   "execution_count": 5,
   "metadata": {},
   "outputs": [
    {
     "data": {
      "application/vnd.jupyter.widget-view+json": {
       "model_id": "e219660650cc4512b50c5857229393cf",
       "version_major": 2,
       "version_minor": 0
      },
      "text/plain": [
       "Canvas(toolbar=Toolbar(toolitems=[('Home', 'Reset original view', 'home', 'home'), ('Back', 'Back to previous …"
      ]
     },
     "metadata": {},
     "output_type": "display_data"
    },
    {
     "data": {
      "application/vnd.jupyter.widget-view+json": {
       "model_id": "73a9709f7ba74512ac4e63b1e90cdc26",
       "version_major": 2,
       "version_minor": 0
      },
      "text/plain": [
       "Box(children=(FloatSlider(value=5.0, continuous_update=False, description='g_amp', layout=Layout(width='initia…"
      ]
     },
     "metadata": {},
     "output_type": "display_data"
    }
   ],
   "source": [
    "# The following lines will plot the un-lensed and lensed images side by side.\n",
    "gpar1 = np.asarray([5, 0.25, 0, 0, 1, 0])\n",
    "lpar1 = np.asarray([1.5, 0, 0, 1, 0])\n",
    "g_image1 = ldf.gauss_2d(x, y, gpar1)\n",
    "(xg1, yg1) = ldf.sie_grad(x, y, lpar1)\n",
    "g_lensimage1 = ldf.gauss_2d(x-xg1, y-yg1, gpar1)\n",
    "\n",
    "# Display the images.\n",
    "fig = plt.figure()\n",
    "ax = fig.add_subplot(111)\n",
    "ax.set_title('Un-Lensed Galaxy (Left) and Lensed Galaxy (Right)')\n",
    "ax.set_xticks([])\n",
    "ax.set_yticks([])\n",
    "plt.imshow(np.hstack((g_image1, g_lensimage1)), **myargs)\n",
    "\n",
    "# Create the interactive widget.\n",
    "def f(g_amp, g_sig, g_xcen, g_ycen, g_axrat, g_pa, l_amp, l_xcen, l_ycen, l_axrat, l_pa):\n",
    "    gpar1 = np.asarray([g_amp, g_sig, g_xcen, g_ycen, g_axrat, g_pa])\n",
    "    lpar1 = np.asarray([l_amp, l_xcen, l_ycen, l_axrat, l_pa])\n",
    "    g_image1 = ldf.gauss_2d(x, y, gpar1)\n",
    "    (xg1, yg1) = ldf.sie_grad(x, y, lpar1)\n",
    "    g_lensimage1 = ldf.gauss_2d(x-xg1, y-yg1, gpar1)\n",
    "    plt.imshow(np.hstack((g_image1, g_lensimage1)), **myargs)\n",
    "\n",
    "g_amp = FloatSlider(value=5, min=0, max=10, step=0.01, continuous_update=False, layout=layout)\n",
    "g_sig = FloatSlider(value=0.25, min=0, max=0.5, step=0.01, continuous_update=False, layout=layout)\n",
    "g_xcen = FloatSlider(value=0, min=-1, max=1, step=0.01, continuous_update=False, layout=layout)\n",
    "g_ycen = FloatSlider(value=0, min=-1, max=1, step=0.01, continuous_update=False, layout=layout)\n",
    "g_axrat = FloatSlider(value=1, min=0.01, max=1, step=0.01, continuous_update=False, layout=layout)\n",
    "g_pa = FloatSlider(value=0, min=0, max=180, step=0.01, continuous_update=False, layout=layout)\n",
    "l_amp = FloatSlider(value=1.5, min=0, max=2, step=0.01, continuous_update=False, layout=layout)\n",
    "l_xcen = FloatSlider(value=0, min=-1, max=1, step=0.01, continuous_update=False, layout=layout)\n",
    "l_ycen = FloatSlider(value=0, min=-1, max=1, step=0.01, continuous_update=False, layout=layout)\n",
    "l_axrat = FloatSlider(value=1, min=0.01, max=1, step=0.01, continuous_update=False, layout=layout)\n",
    "l_pa = FloatSlider(value=0, min=0, max=180, step=0.01, continuous_update=False, layout=layout)\n",
    "interactive(f, g_amp=g_amp, g_sig=g_sig, g_xcen=g_xcen, g_ycen=g_ycen, g_axrat=g_axrat, g_pa=g_pa,\n",
    "            l_amp=l_amp, l_xcen=l_xcen, l_ycen=l_ycen, l_axrat=l_axrat, l_pa=l_pa)\n",
    "Box([g_amp, g_sig, g_xcen, g_ycen, g_axrat, g_pa, l_amp, l_xcen, l_ycen, l_axrat, l_pa], layout=box_layout)"
   ]
  },
  {
   "cell_type": "markdown",
   "metadata": {},
   "source": [
    "___"
   ]
  },
  {
   "cell_type": "markdown",
   "metadata": {},
   "source": [
    "## Part 3.2: Real Lensed Galaxies\n",
    "\n",
    "Now that you have successfully remade one of the above images, it is time to try it with some real lensed galaxies. Below are several real galaxies from the presentation. Your goal is to choose one galaxy below and try to adjust the parameters to match the image (the lensed galaxy). Good luck! As a note, it may be a useful visual effect to change the value of the key `cmap` in the first cell below to something like `cm.magma`, `cm.inferno`, `cm.hot`, or `cm.Blues`.\n",
    "\n",
    "For your convenience, the parameters are defined again below:\n",
    "\n",
    "```python\n",
    "gpar = [g_amp, g_sig, g_xcen, g_ycen, g_axrat, g_pa]\n",
    "```\n",
    "\n",
    "Where the parameters are defined as:\n",
    "\n",
    ">`g_amp` is the peak brightness value.  \n",
    ">`g_sig` is how spread out Pat is.  \n",
    ">`g_xcen` is the x position of the center of Pat.  \n",
    ">`g_ycen` is the y position of the center of Pat.  \n",
    ">`g_axrat` is the minor-to-major axis ratio.  \n",
    ">`g_pa` is the major-axis position angle [degrees] c.c.w. from x axis.\n",
    "\n",
    "```python\n",
    "lpar = [l_amp, l_xcen, l_ycen, l_axrat, l_pa]\n",
    "```\n",
    "\n",
    "Where the parameters are defined as:\n",
    "\n",
    ">`l_amp` is the Einstein radius of Chris.  \n",
    ">`l_xcen` is the x position of the center of Chris.  \n",
    ">`l_ycen` is the y position of the center of Chris.  \n",
    ">`l_axrat` is the minor-to-major axis ratio.  \n",
    ">`l_pa` is the major-axis position angle [degrees] c.c.w. from x axis.\n",
    "\n",
    "The values should be between the given ranges:\n",
    "\n",
    ">$0 \\le$ `l_amp` $\\le 10$  \n",
    ">$-1 \\le$ `l_xcen` $\\le 1$  \n",
    ">$-1 \\le$ `l_ycen` $\\le 1$  \n",
    ">$0 \\le$ `l_axrat` $\\le 1$  \n",
    ">$0 \\le$ `l_pa` $\\le 180$\n",
    "\n",
    "<img src = 'Figures/real_galaxies.png'>"
   ]
  },
  {
   "cell_type": "code",
   "execution_count": 6,
   "metadata": {},
   "outputs": [],
   "source": [
    "# You can change the last one to change the color of the map.\n",
    "myargs = {'interpolation': 'nearest', 'origin': 'lower', 'cmap': cm.magma}"
   ]
  },
  {
   "cell_type": "code",
   "execution_count": 7,
   "metadata": {},
   "outputs": [
    {
     "data": {
      "application/vnd.jupyter.widget-view+json": {
       "model_id": "0cbf1b6d2d764441ad1c4a6860096242",
       "version_major": 2,
       "version_minor": 0
      },
      "text/plain": [
       "Canvas(toolbar=Toolbar(toolitems=[('Home', 'Reset original view', 'home', 'home'), ('Back', 'Back to previous …"
      ]
     },
     "metadata": {},
     "output_type": "display_data"
    },
    {
     "data": {
      "application/vnd.jupyter.widget-view+json": {
       "model_id": "7b967dff7eeb4392906738bc4b487472",
       "version_major": 2,
       "version_minor": 0
      },
      "text/plain": [
       "Box(children=(FloatSlider(value=5.0, continuous_update=False, description='g_amp', layout=Layout(width='initia…"
      ]
     },
     "metadata": {},
     "output_type": "display_data"
    }
   ],
   "source": [
    "# The following lines will plot the un-lensed and lensed images side by side.\n",
    "gpar1 = np.asarray([5, 0.25, 0, 0, 1, 0])\n",
    "lpar1 = np.asarray([1, 0, 0, 1, 0])\n",
    "g_image1 = ldf.gauss_2d(x, y, gpar1)\n",
    "(xg1, yg1) = ldf.sie_grad(x, y, lpar1)\n",
    "g_lensimage1 = ldf.gauss_2d(x-xg1, y-yg1, gpar1)\n",
    "\n",
    "fig = plt.figure()\n",
    "ax = fig.add_subplot(111)\n",
    "ax.set_xticks([])\n",
    "ax.set_yticks([])\n",
    "plt.imshow(np.hstack((g_image1, g_lensimage1)), **myargs)\n",
    "\n",
    "# Create the interactive widget.\n",
    "def f(g_amp, g_sig, g_xcen, g_ycen, g_axrat, g_pa, l_amp, l_xcen, l_ycen, l_axrat, l_pa):\n",
    "    gpar1 = np.asarray([g_amp, g_sig, g_xcen, g_ycen, g_axrat, g_pa])\n",
    "    lpar1 = np.asarray([l_amp, l_xcen, l_ycen, l_axrat, l_pa])\n",
    "    g_image1 = ldf.gauss_2d(x, y, gpar1)\n",
    "    (xg1, yg1) = ldf.sie_grad(x, y, lpar1)\n",
    "    g_lensimage1 = ldf.gauss_2d(x-xg1, y-yg1, gpar1)\n",
    "    plt.imshow(np.hstack((g_image1, g_lensimage1)), **myargs)\n",
    "\n",
    "g_amp = FloatSlider(value=5, min=0, max=10, step=0.01, continuous_update=False, layout=layout)\n",
    "g_sig = FloatSlider(value=0.25, min=0, max=0.5, step=0.01, continuous_update=False, layout=layout)\n",
    "g_xcen = FloatSlider(value=0, min=-1, max=1, step=0.01, continuous_update=False, layout=layout)\n",
    "g_ycen = FloatSlider(value=0, min=-1, max=1, step=0.01, continuous_update=False, layout=layout)\n",
    "g_axrat = FloatSlider(value=1, min=0.01, max=1, step=0.01, continuous_update=False, layout=layout)\n",
    "g_pa = FloatSlider(value=0, min=0, max=180, step=0.01, continuous_update=False, layout=layout)\n",
    "l_amp = FloatSlider(value=1, min=0, max=2, step=0.01, continuous_update=False, layout=layout)\n",
    "l_xcen = FloatSlider(value=0, min=-1, max=1, step=0.01, continuous_update=False, layout=layout)\n",
    "l_ycen = FloatSlider(value=0, min=-1, max=1, step=0.01, continuous_update=False, layout=layout)\n",
    "l_axrat = FloatSlider(value=1, min=0.01, max=1, step=0.01, continuous_update=False, layout=layout)\n",
    "l_pa = FloatSlider(value=0, min=0, max=180, step=0.01, continuous_update=False, layout=layout)\n",
    "interactive(f, g_amp=g_amp, g_sig=g_sig, g_xcen=g_xcen, g_ycen=g_ycen, g_axrat=g_axrat, g_pa=g_pa,\n",
    "            l_amp=l_amp, l_xcen=l_xcen, l_ycen=l_ycen, l_axrat=l_axrat, l_pa=l_pa)\n",
    "Box([g_amp, g_sig, g_xcen, g_ycen, g_axrat, g_pa, l_amp, l_xcen, l_ycen, l_axrat, l_pa], layout=box_layout)"
   ]
  },
  {
   "cell_type": "markdown",
   "metadata": {},
   "source": [
    "___"
   ]
  },
  {
   "cell_type": "markdown",
   "metadata": {},
   "source": [
    "## Part 3.3: Relation to the Mass of Galaxies\n",
    "\n",
    "As stated above, the Einstein radius gives us the ability to measure the mass of the lensing galaxy. The parameters we have played with have to do with the geometry between the two galaxies and us and with the Einstein radius in particular. By optimizing the parameters in the last two activities, you estimated the value for the Einstein radius. Knowing that and the various distances involved, you can use the following formula to find the mass of the lensing galaxy.\n",
    "\n",
    "$$ \\theta_1 = \\sqrt{\\frac{4GM}{c^2}\\frac{D_{LS}}{D_LD_S}} $$\n",
    "\n",
    "In the equation above:\n",
    "\n",
    ">$\\theta_1$ is the Einstein radius.  \n",
    ">$c$ is the speed of light.  \n",
    ">$G$ is the gravitational constant.  \n",
    ">$M$ is the mass of the lensed galaxy.  \n",
    ">$D_L$ is the distance to the lensing galaxy (Chris).  \n",
    ">$D_S$ is the distance to the lensed galaxy (Pat).  \n",
    ">$D_{LS}$ is the distance from the lensed galaxy (Pat) to the lensing galaxy (Chris).\n",
    "\n",
    "The distances to these galaxies are determined by the galaxies' respective redshifted spectra.\n",
    "\n",
    "In the diagram below, the Einstein radius is given by $\\theta_1$.\n",
    "\n",
    "<img src = \"Figures/Einstein_radius.png\" width = 400 height = 400>\n",
    "\n",
    "<img src = \"Figures/grav_lens.png\" style = \" background: white\">\n",
    "\n",
    "___"
   ]
  }
 ],
 "metadata": {
  "kernelspec": {
   "display_name": "Python 3",
   "language": "python",
   "name": "python3"
  },
  "language_info": {
   "codemirror_mode": {
    "name": "ipython",
    "version": 3
   },
   "file_extension": ".py",
   "mimetype": "text/x-python",
   "name": "python",
   "nbconvert_exporter": "python",
   "pygments_lexer": "ipython3",
   "version": "3.7.7"
  }
 },
 "nbformat": 4,
 "nbformat_minor": 4
}
