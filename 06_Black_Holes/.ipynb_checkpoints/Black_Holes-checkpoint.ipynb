{
 "cells": [
  {
   "cell_type": "markdown",
   "metadata": {},
   "source": [
    "<br>\n",
    "<br>\n",
    "<font size='6'><u><b>Black Holes and the Fate of Galaxies</b></u></font>\n",
    "<br>\n",
    "\n",
    "##### Written by Stéphanie Juneau, National Optical Astronomy Observatory, and Elliot Kisiel, University of Arizona\n",
    "##### Revised by Andres Jaramillo\n",
    "\n",
    "Black holes are among the most mysterious objects in our universe. What are they? How do we find them? You will get to learn about different kinds of black holes, and apply research tools to discover their telltale signatures in astronomical observations. As the power-engine of quasars (which themselves are bright beacons that we can see far in the universe), you will learn how the largest black holes might change the fate of the galaxies they live in.\n",
    "___"
   ]
  },
  {
   "cell_type": "markdown",
   "metadata": {},
   "source": [
    "# Table of Contents\n",
    "\n",
    "* [How to Use This Notebook](#How-to-Use-This-Notebook)\n",
    "* [Pre-Activity Setup](#Pre-Activity-Setup)\n",
    "* [Activity 1: What Are Black Holes?](#Activity-1:-What-Are-Black-Holes?)\n",
    "    * [Part 1.1: Using Light to Measure Sizes](#Part-1.1:-Using-Light-to-Measure-Sizes)\n",
    "    * [Part 1.2: Light Travel Distances Relative to the Solar System](#Part-1.2:-Light-Travel-Distances-Relative-to-the-Solar-System)\n",
    "* [Activity 2: How Big Is the Flare of 3C 279?](#Activity-2:-How-Big-Is-the-Flare-of-3C-279?)\n",
    "    * [Part 2.1: Light-Year as a Distance](#Part-2.1:-Light-Year-as-a-Distance)\n",
    "    * [Part 2.2: Let's Look at Some Real Data!](#Part-2.2:-Let's-Look-at-Some-Real-Data!)\n",
    "* [Activity 3: How Much Energy Is in the Flare?](#Activity-3:-How-Much-Energy-Is-in-the-Flare?)\n",
    "* [Conclusion: How Can Black Holes Change the Fate of Galaxies?](#Conclusion:-How-Can-Black-Holes-Change-the-Fate-of-Galaxies?)\n",
    "___"
   ]
  },
  {
   "cell_type": "markdown",
   "metadata": {},
   "source": [
    "# How to Use This Notebook\n",
    "\n",
    "The webpage you are in is actually an app - much like the ones on your cellphone. This app consists of cells.\n",
    "\n",
    "An *input* cell looks like a light grey box with an `In [ ]:` on its left. Input cells each contain code - instructions to make the computer do something.\n",
    "\n",
    "To activate or select a cell, click anywhere inside of it.\n",
    "\n",
    "<div class='alert alert-info'>\n",
    "    <font size='3'><b>Select the cell below and read its contents.</b></font>\n",
    "</div>"
   ]
  },
  {
   "cell_type": "code",
   "execution_count": null,
   "metadata": {},
   "outputs": [],
   "source": [
    "# Text that follows a \"#\" is known as a comment.\n",
    "# Comments do not affect your code in any way.\n",
    "# You should always read the comments at the top of each cell you interact with.\n",
    "# Comments will be used to describe what the cell's code is actually doing."
   ]
  },
  {
   "cell_type": "markdown",
   "metadata": {},
   "source": [
    "To execute or run a selected cell, hit `[Shift + Enter]` on your keyboard.\n",
    "\n",
    "<div class='alert alert-info'>\n",
    "    <font size='3'><b>Select the cell below and read its contents. Then, run the cell.</b></font>\n",
    "</div>"
   ]
  },
  {
   "cell_type": "code",
   "execution_count": null,
   "metadata": {},
   "outputs": [],
   "source": [
    "# Text that DOESN'T follow a \"#\" is considered code.\n",
    "# Lines of code are instructions given to your computer.\n",
    "# The line of code below is a \"print\" statement.\n",
    "# A print statement literally prints out the text between its quotes.\n",
    "\n",
    "print(\"Congrats! You have successfully run your first cell!\")"
   ]
  },
  {
   "cell_type": "markdown",
   "metadata": {},
   "source": [
    "Running a cell creates an *output* directly below it. An output can be some text, a graph, an interactive slider, or even nothing at all! For that last case, you know you have run a cell when the `In [ ]:` becomes `In [#]:`, where \"#\" is any number.\n",
    "\n",
    "You can learn more about how Jupyter notebooks work at https://try.jupyter.org/\n",
    "___"
   ]
  },
  {
   "cell_type": "markdown",
   "metadata": {},
   "source": [
    "# Pre-Activity Setup\n",
    "\n",
    "In order for any of the activities to work properly, you must import the libraries needed for the code in this notebook.\n",
    "\n",
    "<div class='alert alert-info'>\n",
    "    <font size='3'><b>Select and run the cell below.</b></font>\n",
    "</div>"
   ]
  },
  {
   "cell_type": "code",
   "execution_count": 1,
   "metadata": {},
   "outputs": [
    {
     "name": "stdout",
     "output_type": "stream",
     "text": [
      "\n",
      "Done! You have successfully imported the libraries.\n"
     ]
    }
   ],
   "source": [
    "# Here, you are importing the libraries needed for this notebook.\n",
    "# These libraries set up the plotting environment in your browser.\n",
    "\n",
    "%matplotlib inline\n",
    "import matplotlib.pyplot as plt\n",
    "from matplotlib.patches import Circle\n",
    "from matplotlib.collections import PatchCollection\n",
    "plt.style.use('ggplot')\n",
    "from collections import OrderedDict\n",
    "import numpy as np\n",
    "import astropy.units as u\n",
    "from astropy.units import imperial\n",
    "from IPython.display import display\n",
    "from ipywidgets import interactive, interact, FloatSlider\n",
    "\n",
    "print(\"\\nDone! You have successfully imported the libraries.\")"
   ]
  },
  {
   "cell_type": "markdown",
   "metadata": {},
   "source": [
    "___"
   ]
  },
  {
   "cell_type": "markdown",
   "metadata": {},
   "source": [
    "# Activity 1: What Are Black Holes?\n",
    "\n",
    "Black holes are astronomical objects that exert a extreme force of gravity due to their very high density and/or mass. If we describe gravity as the bending of the space, black holes bend space so strongly that there is a distance inside which even rays of light fall into the \"[well](https://en.wikipedia.org/wiki/Gravity_well)\" by following the curvature. This distance corresponds to the \"[event horizon](https://en.wikipedia.org/wiki/Event_horizon)\" of the black hole, and we cannot see or recover any information from what is inside this horizon.\n",
    "\n",
    "<figure>\n",
    "    <center>\n",
    "        <br>\n",
    "        <img src='Figures/grav_well_illustration.jpg', width='800'>\n",
    "        <br>\n",
    "        <figcaption>\n",
    "            <font color='grey'>\n",
    "                <b>Image 1:</b>\n",
    "                Illustration of the concept of gravity corresponding to the bending of space-time. This is predicted by Einstein's theory of general relativity. Black holes are the most extreme case with a bending so strong that even light cannot escape. This illustration is a cartoon version but we have to imagine space is already in 3D and so this \"bending\" goes in all directions around all objects with a mass.\n",
    "                <br>\n",
    "                <b>Image Credit:</b>\n",
    "                Cetin Bal\n",
    "            </font>\n",
    "        </figcaption>\n",
    "    </center>\n",
    "</figure>\n",
    "\n",
    "### How do we find Black Holes?\n",
    "\n",
    "We cannot *see* black holes directly because no light comes out of them. However, we can find them because their gravitational pull affects anything that comes close. For instance, we can use telescopes to observe stars orbiting around them, such as the supermassive black hole _Sagittarius A*_ (pronounced A-star) at the center of our galaxy. The animation below shows the stars as they go around the center of the galaxy. We cannot see much of what they are orbiting around, but from the shape and speeds of the orbit, astronomers were able to calculate that the central dark object has a mass between 3 and 4 million times that of the Sun. Because that's a lot of mass in this small space, the only possible explanation is a supermassive black hole.\n",
    "\n",
    "<figure>\n",
    "    <center>\n",
    "        <br>\n",
    "        <img src='Figures/stars_sag_astar.gif', width='500'>\n",
    "        <br>\n",
    "        <figcaption>\n",
    "            <font color='grey'>\n",
    "                <b>Image 2:</b>\n",
    "                Orbits of stars around Sagittarius A* - the supermassive black hole at the center of our Milky Way galaxy.\n",
    "                <br>\n",
    "                <b>Image Credit:</b>\n",
    "                Keck, UCLA galactic center group, Ghez et al\n",
    "            </font>\n",
    "        </figcaption>\n",
    "    </center>\n",
    "</figure>\n",
    "\n",
    "Another way to find supermassive black holes is when there is a lot of material, such as interstellar gas, swirling around them. As this gaseous material swirls around the *gravitational well*, it takes the shape of a flatened disk that glows really brightly thanks to its extremely hot temperature. So while we still cannot see the black hole itself, we can observe the bright glow from the surrounding *accretion disk*. When this happens, it creates what astronomers call an Active Galactic Nucleus (AGN) at the center of the galaxy. The most luminous AGN are called *quasars*. In quasars, the central point of light from the active nucleus is so luminous that it outshines the entire galaxy and its hundred billion stars.\n",
    "\n",
    "<figure>\n",
    "    <center>\n",
    "        <br>\n",
    "        <img src='Figures/PIA20051.jpg', width='500'>\n",
    "        <br>\n",
    "        <figcaption>\n",
    "            <font color='grey'>\n",
    "                <b>Image 3:</b>\n",
    "                Artist illustration of a supermassive black hole surrounded by a swirling disk of material falling onto it, which is called the <i>accretion disk</i>. The purplish ball of light above the black hole, a feature called the corona, contains highly energetic particles that generate X-ray light. If you could view the corona with your eyes, it would appear nearly invisible since we can't see its X-ray light. Even higher energy than X-ray light, <i>Gamma-ray light</i> can be emitted by material moving extremely fast along a jet.\n",
    "                <br>\n",
    "                <b>Image Credit:</b>\n",
    "                NASA/JPL-Caltech\n",
    "            </font>\n",
    "        </figcaption>\n",
    "    </center>\n",
    "</figure>\n",
    "\n",
    "### What happens when black holes “flare”? How big is the flare and how much energy is in there?\n",
    "\n",
    "##### The story of the quasar 3C 279\n",
    "\n",
    "*Five billion years ago, a great disturbance rocked a region near the monster black hole at the center of galaxy 3C 279. On June 14, 2015 the pulse of high-energy light produced by this event finally arrived at Earth, setting off detectors aboard NASA’s Fermi Gamma-ray Space Telescope and other satellites.*\n",
    "\n",
    "*“One day 3C 279 was just one of many active galaxies we see, and the next day it was the brightest thing in the gamma-ray sky,” said Sara Cutini, a Fermi Large Area Telescope scientist.*\n",
    "\n",
    "<figure>\n",
    "    <center>\n",
    "        <br>\n",
    "        <img src='Figures/quasar-3c379-artistview.jpg', width='500'>\n",
    "        <br>\n",
    "        <figcaption>\n",
    "            <font color='grey'>\n",
    "                <b>Image 4:</b>\n",
    "                Artist rendering showing a glowing disk of material swirling around a supermassive black hole (which we cannot see, but it would be located behind the bright spot at the inner part of the disk). The \"Real Image\" shows the view in Gamma rays - a type of light with even higher energy than X-rays - as seen with a Gamma-ray telescope.\n",
    "                <br>\n",
    "                <b>Image Credit:</b>\n",
    "                EGRET Team, Compton Observatory, NASA\n",
    "            </font>\n",
    "        </figcaption>\n",
    "    </center>\n",
    "</figure>\n",
    "\n",
    "Below, we will look at real data from the 3C 279 quasar in order to measure the size of a flare, and the amount of energy emitted during the flare.\n",
    "\n",
    "<div class='alert alert-warning'>\n",
    "    <h3 class='alert-heading'>Discussion Question(s)</h3>\n",
    "    <ul>\n",
    "        <li>How do you think astronomers measure the size of something that we cannot reach nor <i>zoom in</i> to observe in details?</li>\n",
    "    </ul>\n",
    "</div>\n",
    "\n",
    "<figure>\n",
    "    <center>\n",
    "        <br>\n",
    "        <img src='Figures/Stop_sign_grey.jpg', width='400'>\n",
    "        <br>\n",
    "    </center>\n",
    "</figure>\n",
    "\n",
    "___"
   ]
  },
  {
   "cell_type": "markdown",
   "metadata": {},
   "source": [
    "## Part 1.1: Using Light to Measure Sizes\n",
    "\n",
    "First, let's see how we can use light (more specifically light travel time) to measure sizes and distances. It works because light has a specific travel speed. It's very fast but not infinite!\n",
    "\n",
    "Light travels at 300,000 km/s.<br>\n",
    "> Wait, how fast is that in miles per hour (mph)?\n",
    "\n",
    "<div class='alert alert-info'>\n",
    "    <h3 class='alert-heading'>Helpful Reminder(s)</h3>\n",
    "    <ul>\n",
    "        <li>Click anywhere inside of a cell to select it.</li>\n",
    "        <li>Hit [Shift + Enter] to run a selected cell.</li>\n",
    "    </ul>\n",
    "</div>"
   ]
  },
  {
   "cell_type": "code",
   "execution_count": 2,
   "metadata": {},
   "outputs": [
    {
     "name": "stdout",
     "output_type": "stream",
     "text": [
      "The speed of light in km/s is 300000.0\n",
      "The speed of light in mph is 671080887.6\n",
      "The speed of light in *Million* miles-per-hour: 671.1\n"
     ]
    }
   ],
   "source": [
    "# Run this cell to print the answer to the above question.\n",
    "\n",
    "\n",
    "\n",
    "c = 3e5*u.kilometer/u.second\n",
    "print(\"The speed of light in km/s is\",c.value)\n",
    "\n",
    "mph = imperial.mile/u.hour\n",
    "print(\"The speed of light in mph is\",np.round(c.to(mph).value,1))\n",
    "\n",
    "print(\"The speed of light in *Million* miles-per-hour:\",np.round(c.to(mph).value/1e6,1))"
   ]
  },
  {
   "cell_type": "markdown",
   "metadata": {},
   "source": [
    "___"
   ]
  },
  {
   "cell_type": "markdown",
   "metadata": {},
   "source": [
    "## Part 1.2: Light Travel Distances Relative to the Solar System"
   ]
  },
  {
   "cell_type": "markdown",
   "metadata": {},
   "source": [
    "First, we will define functions to compute and plot light travel distances."
   ]
  },
  {
   "cell_type": "code",
   "execution_count": 3,
   "metadata": {},
   "outputs": [
    {
     "name": "stdout",
     "output_type": "stream",
     "text": [
      "Done!\n"
     ]
    }
   ],
   "source": [
    "# Run this cell to define the functions we will be using.\n",
    "\n",
    "\n",
    "\n",
    "def light_travel_size(traveltime):\n",
    "    c = 3e5*u.km/u.second\n",
    "    dist = c*traveltime.to(u.second)\n",
    "    return dist #in km\n",
    "\n",
    "def plot_travel_dist(travel_dist):\n",
    "\n",
    "    # Define unit of \"Billion km\"\n",
    "    Gkm = 1e9*u.km\n",
    "\n",
    "    # Size of Solar System\n",
    "    solarsystem_radius = 18*Gkm   #defined as the Heliosphere\n",
    "\n",
    "    fig = plt.figure(figsize=(16,11))\n",
    "    ax1 = fig.add_subplot(211)\n",
    "    ax2 = fig.add_subplot(212)\n",
    "    fig.subplots_adjust(top=0.8,hspace = 0.4)\n",
    "    \n",
    "    zero = 0.00001\n",
    "    r_planetorbits = [57.95, 108.11, 149.57, 227.84, 778.14, 1427, 2870.3, 4499.9, 5913.]*(1e-3*Gkm)\n",
    "    planetnames = ['Mercury','Venus','Earth','Mars','Jupiter','Saturn','Uranus','Neptune','Pluto']\n",
    "\n",
    "    xx = np.arange(0,6e9,1e8)/1e9*Gkm\n",
    "    for i, ri in enumerate(r_planetorbits):\n",
    "        circle = Circle((0,0),ri.to(Gkm).value,color='b',fill=False)\n",
    "        ax1.add_artist(circle)\n",
    "        ax1.text(ri.to(Gkm).value,0.5,planetnames[i],rotation='vertical',fontsize=11)\n",
    "\n",
    "    distance_to = travel_dist.value /1e9\n",
    "    ax1.plot([0,distance_to],[0,0],zorder=2,c='green',linewidth=6, markersize=12) #marker=5\n",
    "    ax1.set_ylim(-0.75,0.75)\n",
    "    ax1.set_xlabel('Distance (billion km)',fontsize=15)\n",
    "    ax1.set_xlim(0,6)\n",
    "    ax1.set_yticklabels('')\n",
    "    ax1.set_title('Light travel path inside the Solar System',fontsize=16,color='green')\n",
    "\n",
    "    # Proxima Centauri is the closest star to the Sun\n",
    "    proxima_cen = 4.22*u.lyr\n",
    "    prox_cen_ss = proxima_cen.to(u.km) / solarsystem_radius\n",
    "    ax2.axvline(prox_cen_ss,color='purple')\n",
    "    ax2.scatter(prox_cen_ss,0,color='purple',marker='*',s=1000)\n",
    "    ax2.text(0.97*prox_cen_ss,8,'Proxima Centauri',rotation='vertical',fontsize=13)\n",
    "\n",
    "    # Add Oort Cloud, which extends beyond the Solar System Heliosphere\n",
    "    oort_inner = 200.*u.AU\n",
    "    oort_inner_ss = oort_inner.to(u.km) / solarsystem_radius\n",
    "    oort_outer = 200000.*u.AU\n",
    "    oort_outer_ss = oort_outer.to(u.km) / solarsystem_radius\n",
    "    ax2.fill([oort_inner_ss,oort_outer_ss,oort_outer_ss,oort_inner_ss], \\\n",
    "             [-10,-10,10,10], fill=False, hatch='\\\\',color='orange')\n",
    "    ax2.text(500,7.5,'Oort Cloud',fontsize=14,color='tomato')\n",
    "\n",
    "    distance_norm = travel_dist.value / solarsystem_radius.value\n",
    "    ax2.plot([0,distance_norm],[0,0],zorder=2,c='green',linewidth=6, markersize=12) #marker='>'\n",
    "    ax2.set_xlabel('Distance (Solar System; where 1 Solar System is roughly 18 billion km)',fontsize=15)\n",
    "    ax2.set_ylim(-10,10)\n",
    "    ax2.set_xlim(0,2300)\n",
    "    ax2.set_yticklabels('')\n",
    "    ax2.set_title('Light travel path beyond the Solar System',fontsize=16,color='green')\n",
    "\n",
    "    plt.show()\n",
    "\n",
    "print(\"Done!\")"
   ]
  },
  {
   "cell_type": "markdown",
   "metadata": {},
   "source": [
    "Now, we will create an interactive plot to visualize the light travel distances relative to the Solar System.\n",
    "\n",
    "<div class='alert alert-success'>\n",
    "    <h3 class='alert-heading'>Quick Question(s)</h3>\n",
    "    <ul>\n",
    "        <li>How far does light travel in 8 minutes?</li>\n",
    "        <li>How long does light need to reach all the way to the orbit of Pluto?</li>\n",
    "    </ul>\n",
    "</div>"
   ]
  },
  {
   "cell_type": "code",
   "execution_count": 4,
   "metadata": {},
   "outputs": [
    {
     "data": {
      "application/vnd.jupyter.widget-view+json": {
       "model_id": "a3c065443c9d4b1ba10496418bf9ae64",
       "version_major": 2,
       "version_minor": 0
      },
      "text/plain": [
       "interactive(children=(Dropdown(description='travel_dist', options=OrderedDict([('1.0 min', <Quantity 18000000.…"
      ]
     },
     "metadata": {},
     "output_type": "display_data"
    }
   ],
   "source": [
    "# Run this cell to show the plot.\n",
    "# Then, select from the drop-down menu values of light travel time.\n",
    "\n",
    "\n",
    "\n",
    "traveltimes = [1*u.minute, 8.*u.minute, 3.*u.hour, 5.45*u.hour, 1.*u.day, 1.*u.week, 1.*u.year, 4.22*u.year]\n",
    "travelDist = OrderedDict((str(times), light_travel_size(times)) for times in traveltimes)\n",
    "\n",
    "interactive_plot = interactive(plot_travel_dist, travel_dist = travelDist)\n",
    "display(interactive_plot)"
   ]
  },
  {
   "cell_type": "markdown",
   "metadata": {},
   "source": [
    "The size of the Solar System is defined by the \"heliopause\", which is about 3 times further than the distance to Pluto. The heliopause is the balance point where the pressure from the solar wind is equivalent to that of the interstellar medium (the \"stuff\" between the stars).\n",
    "___"
   ]
  },
  {
   "cell_type": "markdown",
   "metadata": {},
   "source": [
    "# Activity 2: How Big Is the Flare of 3C 279?\n",
    "\n",
    "Now that we have seen that we can measure sizes with the light travel time, let's see how this applies to a flare from a quasar!\n",
    "\n",
    "<figure>\n",
    "    <center>\n",
    "        <br>\n",
    "        <img src='Figures/agnguide10a_flare_size.jpg', width='500'>\n",
    "        <br>\n",
    "        <figcaption>\n",
    "            <font color='grey'>\n",
    "                <b>Image 5:</b>\n",
    "                Illustration of the difference in light-travel time between the far-edge, middle, and near-edge of a source. If there were a sudden flash of light (a flare), the light would take more time to travel from the far side compared to the middle and near side of the object that has the flare. The difference in travel time between the far side and near side tells us how fast the total light can possibly vary (either rise to a peak, or drop back down to the normal level). In the artist illustration above, the radius (from center to one edge) takes one week in light travel time, so it has a maximum size of one <i>light-week</i>, which means 181.44 billion km. The diameter is two light-weeks, or 362.88 billion km.\n",
    "            </font>\n",
    "        </figcaption>\n",
    "    </center>\n",
    "</figure>\n",
    "\n",
    "___"
   ]
  },
  {
   "cell_type": "markdown",
   "metadata": {},
   "source": [
    "## Part 2.1: Light-Year as a Distance\n",
    "\n",
    "To get a better sense of how much distance a light-year is, we will write some code to convert it into kilometers.\n",
    "\n",
    "<div class='alert alert-info'>\n",
    "    <h3 class='alert-heading'>Helpful Reminder(s)</h3>\n",
    "    <ul>\n",
    "        <li>Click anywhere inside of a cell to select it.</li>\n",
    "        <li>Hit [Shift + Enter] to run a selected cell.</li>\n",
    "    </ul>\n",
    "</div>"
   ]
  },
  {
   "cell_type": "code",
   "execution_count": 5,
   "metadata": {},
   "outputs": [
    {
     "name": "stdout",
     "output_type": "stream",
     "text": [
      "1 light-week is 181.44 billion km\n",
      "2 light-weeks is 362.88 billion km\n"
     ]
    }
   ],
   "source": [
    "# Run this cell to get an idea of how much a lightyear is.\n",
    "\n",
    "\n",
    "\n",
    "print('1 light-week is',light_travel_size(1.*u.week)/1e9/u.km,'billion km')\n",
    "print('2 light-weeks is',light_travel_size(2.*u.week)/1e9/u.km,'billion km')"
   ]
  },
  {
   "cell_type": "markdown",
   "metadata": {},
   "source": [
    "___"
   ]
  },
  {
   "cell_type": "markdown",
   "metadata": {},
   "source": [
    "## Part 2.2: Let's Look at Some Real Data!\n",
    "\n",
    "The quasar **3C 279** was observed with the Fermi satellite to monitor it's brightness in gamma-ray light over many years. First, let's look at real astronomical data taken by the EGRET gamma-ray instrument that was onboard NASA’s Compton Gamma Ray Observatory.\n",
    "\n",
    "The next cell will make a figure of the measurements of gamma-ray photon flux as a function of time:\n",
    "* The **photon flux** is the number of photons per second per square meter\n",
    "* The **time** is given by the day in the year 1991 (counting days from 1 to 365)\n",
    "\n",
    "The graph below will show the data with error bars for a flare observed in 1991."
   ]
  },
  {
   "cell_type": "code",
   "execution_count": 6,
   "metadata": {},
   "outputs": [
    {
     "name": "stdout",
     "output_type": "stream",
     "text": [
      "Done!\n"
     ]
    }
   ],
   "source": [
    "# Run this cell to define the function that will make a figure with the data.\n",
    "\n",
    "\n",
    "\n",
    "def plot_data_3c279():\n",
    "    days = [167.5, 168.5, 169.5, 170.5, 171.5, 172.5, 173.5, 174.5, 175.5, 176.5, 177.5, 178.5, 179.5]\n",
    "    flux = [1.4,     1.7,   2.0,   2.7,   2.2,   3.4,   3.9,   3.1,   4.0,   4.5,   2.9,   1.6,   1.1]\n",
    "    flux_err = 0.5\n",
    "\n",
    "    plt.figure(figsize = (8,6))\n",
    "    plt.scatter(days,flux,s=15)\n",
    "    plt.errorbar(days,flux, yerr=flux_err, xerr=0.5, fmt='none', ecolor='red', elinewidth=1, \\\n",
    "                 capsize=2, barsabove=True)\n",
    "    plt.xlabel('Day of 1991',fontsize=14)\n",
    "    plt.ylabel('Flux [$10^{-2}\\ photons\\ m^{-2}\\ s^{-1}$]',fontsize=14)\n",
    "\n",
    "print(\"Done!\")"
   ]
  },
  {
   "cell_type": "code",
   "execution_count": 7,
   "metadata": {},
   "outputs": [
    {
     "data": {
      "image/png": "[encoded data removed]",
      "text/plain": [
       "<Figure size 576x432 with 1 Axes>"
      ]
     },
     "metadata": {},
     "output_type": "display_data"
    }
   ],
   "source": [
    "# Run this cell to make the figure by calling the function from above.\n",
    "\n",
    "\n",
    "\n",
    "plot_data_3c279()"
   ]
  },
  {
   "cell_type": "markdown",
   "metadata": {},
   "source": [
    "In the graph above, the vertical axis plots the photon flux (as described above). The horizontal axis plots the day of the year in 1991. For example, the 180th day in 1991 was the 29th of June.\n",
    "\n",
    "The lines sticking out from the dots are known as error bars. They give the uncertainty, or range of probable values in a measurement. For example, if the instrument used to measure the photon flux is not very accurate, it will have large error bars. An accurate instrument will give smaller error bars, as the value is much more certain.\n",
    "\n",
    "<div class='alert alert-success'>\n",
    "    <h3 class='alert-heading'>Quick Question(s)</h3>\n",
    "    <ul>\n",
    "        <li>How long did the flare last?</li>\n",
    "    </ul>\n",
    "</div>\n",
    "\n",
    "Compute separately the <i>rising time</i>, and the <i>dropping time</i> by adjusting the sliders in the following graph. The graph will appear after initializing the next two cells."
   ]
  },
  {
   "cell_type": "code",
   "execution_count": 8,
   "metadata": {},
   "outputs": [
    {
     "name": "stdout",
     "output_type": "stream",
     "text": [
      "Done!\n"
     ]
    }
   ],
   "source": [
    "# Run this cell to define a function that will overlay sliders onto the figure.\n",
    "\n",
    "\n",
    "\n",
    "def finding_values(rise_begin, rise_end, drop_begin, drop_end):\n",
    "    plot_data_3c279()\n",
    "    plt.axhline(1.25,color='blue')  #normal level (leave this one unchanged)\n",
    "\n",
    "    # Use two vertical solid lines to measure the rise time from normal to peak 165 - 180 in 0.1\n",
    "    plt.axvline(rise_begin,color='green')  #beginning of the rise (from normal)\n",
    "    plt.axvline(rise_end,color='green')  #end of the rise (at peak)\n",
    "\n",
    "    # Use two vertical dashed lines to measure the drop time from peak back down to normal\n",
    "    plt.axvline(drop_begin,color='purple',linestyle='dashed')  #beginning of the drop (from peak)\n",
    "    plt.axvline(drop_end,color='purple',linestyle='dashed')  #end of the drop (back to normal)\n",
    "\n",
    "print(\"Done!\")"
   ]
  },
  {
   "cell_type": "code",
   "execution_count": 9,
   "metadata": {},
   "outputs": [
    {
     "data": {
      "application/vnd.jupyter.widget-view+json": {
       "model_id": "d3ff417f70ad42388b31bb6896baf1dc",
       "version_major": 2,
       "version_minor": 0
      },
      "text/plain": [
       "interactive(children=(FloatSlider(value=166.8, description='rise_begin', max=185.0, min=166.8), FloatSlider(va…"
      ]
     },
     "metadata": {},
     "output_type": "display_data"
    }
   ],
   "source": [
    "# Run this cell to call the function above.\n",
    "\n",
    "\n",
    "\n",
    "interactive_plot2 = interactive(finding_values, \\\n",
    "                                rise_begin = FloatSlider(min=166.8, max=185.0, step=0.1, value = 166.8, continuous_update=True), \\\n",
    "                                rise_end   = FloatSlider(min=166.8, max=185.0, step=0.1, value = 166.9, continuous_update=True), \\\n",
    "                                drop_begin = FloatSlider(min=167.0, max=185.0, step=0.1, value = 167.0, continuous_update=True), \\\n",
    "                                drop_end   = FloatSlider(min=167.0, max=185.0, step=0.1, value = 167.1, continuous_update=True)) \n",
    "display(interactive_plot2)"
   ]
  },
  {
   "cell_type": "markdown",
   "metadata": {},
   "source": [
    "In the graph above, the <font color='blue'>horizontal blue line</font> is the \"normal\" level. You will have to estimate when the flux starts rising to the peak, and when it goes back down to the normal level taking into account the error bars.\n",
    "\n",
    "After selecting the four values (rise_begin, rise_end, drop_begin, drop_end) write down your values on the post-its on the table and click on the next cell to preserve the values above."
   ]
  },
  {
   "cell_type": "code",
   "execution_count": 10,
   "metadata": {},
   "outputs": [
    {
     "name": "stdout",
     "output_type": "stream",
     "text": [
      "Done!\n"
     ]
    }
   ],
   "source": [
    "# Replace the '1.0' value below with your measurements from above.\n",
    "# Run this cell to define your values.\n",
    "\n",
    "\n",
    "\n",
    "rise_time = 1.0*u.day   ### REPLACE 1.0 with your measurements\n",
    "drop_time = 1.0*u.day   ### REPLACE 1.0 with your measurements\n",
    "\n",
    "print(\"Done!\")"
   ]
  },
  {
   "cell_type": "markdown",
   "metadata": {},
   "source": [
    "Is the rise time or drop time shorter? Enter the shorter time in the cell below."
   ]
  },
  {
   "cell_type": "code",
   "execution_count": 11,
   "metadata": {},
   "outputs": [
    {
     "name": "stdout",
     "output_type": "stream",
     "text": [
      "Done!\n"
     ]
    }
   ],
   "source": [
    "# Replace the '1.0' value with the shortest between the rise time and drop time.\n",
    "# Run this cell to define your value.\n",
    "\n",
    "\n",
    "\n",
    "shortest_time = 1.0*u.day  ### REPLACE 1.0 with your shortest measurement\n",
    "\n",
    "print(\"Done!\")"
   ]
  },
  {
   "cell_type": "code",
   "execution_count": 12,
   "metadata": {},
   "outputs": [
    {
     "name": "stdout",
     "output_type": "stream",
     "text": [
      "The flare size is  25.92 billion km\n"
     ]
    }
   ],
   "source": [
    "# Run this cell to call the function that converts light travel time to a distance.\n",
    "\n",
    "\n",
    "\n",
    "flare_size = light_travel_size(shortest_time)\n",
    "print('The flare size is ',flare_size.value/1e9,'billion km')"
   ]
  },
  {
   "cell_type": "markdown",
   "metadata": {},
   "source": [
    "<div class='alert alert-success'>\n",
    "    <h3 class='alert-heading'>Quick Question(s)</h3>\n",
    "    <ul>\n",
    "        <li>How large is the flare relative to the Solar System?</li>\n",
    "        <li>Do you expect it to be larger or smaller, and why?</li>\n",
    "    </ul>\n",
    "</div>"
   ]
  },
  {
   "cell_type": "code",
   "execution_count": 13,
   "metadata": {},
   "outputs": [
    {
     "name": "stdout",
     "output_type": "stream",
     "text": [
      "Flare size in Solar System units:  0.72\n"
     ]
    }
   ],
   "source": [
    "# Run this cell to print the size of Solar System.\n",
    "\n",
    "\n",
    "\n",
    "solarsystem_radius = 18e9*u.km\n",
    "solarsystem_size   = 2.*solarsystem_radius # diameter\n",
    "print('Flare size in Solar System units: ',flare_size/solarsystem_size)"
   ]
  },
  {
   "cell_type": "markdown",
   "metadata": {},
   "source": [
    "___"
   ]
  },
  {
   "cell_type": "markdown",
   "metadata": {},
   "source": [
    "# Activity 3: How Much Energy Is in the Flare?\n",
    "\n",
    "In this activity, we will calculate the energy emitted in the flare. First, you will read the flux from the graph, and the next steps will guide you through the conversion. We will compare to the energy of the Sun, and of an entire galaxy!\n",
    "\n",
    "<div class='alert alert-success'>\n",
    "    <h3 class='alert-heading'>Quick Question(s)</h3>\n",
    "    <ul>\n",
    "        <li>How bright is the flare at maximum in terms of photon flux?</li>\n",
    "    </ul>\n",
    "</div>\n",
    "\n",
    "<div class='alert alert-info'>\n",
    "    <h3 class='alert-heading'>Helpful Reminder(s)</h3>\n",
    "    <ul>\n",
    "        <li>Click anywhere inside of a cell to select it.</li>\n",
    "        <li>Hit [Shift + Enter] to run a selected cell.</li>\n",
    "    </ul>\n",
    "</div>"
   ]
  },
  {
   "cell_type": "code",
   "execution_count": 14,
   "metadata": {},
   "outputs": [
    {
     "data": {
      "image/png": "[encoded data removed]",
      "text/plain": [
       "<Figure size 576x432 with 1 Axes>"
      ]
     },
     "metadata": {},
     "output_type": "display_data"
    }
   ],
   "source": [
    "# Let's make the figure again with the data by calling the function.\n",
    "\n",
    "\n",
    "\n",
    "plot_data_3c279()"
   ]
  },
  {
   "cell_type": "code",
   "execution_count": 15,
   "metadata": {
    "tags": [
     "hidecode"
    ]
   },
   "outputs": [
    {
     "name": "stdout",
     "output_type": "stream",
     "text": [
      "Peak photon flux is 0.01 photons per second per square meters\n"
     ]
    }
   ],
   "source": [
    "# Replace the '1.0' value below with that of the peak flux from the graph.\n",
    "# Run this cell to calculate peak photon flux.\n",
    "\n",
    "\n",
    "\n",
    "peak_flux = 1.0 * 1e-2 * u.ph *(u.m**-2) *u.second**-1   #in units of 10^-2 photons/second/square meter\n",
    "print('Peak photon flux is',peak_flux.value,'photons per second per square meters')"
   ]
  },
  {
   "cell_type": "markdown",
   "metadata": {},
   "source": [
    "### Convert from photon Flux to Luminosity (= Energy/second)\n",
    "\n",
    "The flux is the amount of energy hitting a square meter here on Earth. The total energy emitted by the flare\n",
    "every second is spread out over a sphere centered on the flare, with a radius equal to the distance from the Earth to the flare.\n",
    "\n",
    "<figure>\n",
    "    <center>\n",
    "        <br>\n",
    "        <img src='Figures/Lum_flux_earth.jpg', width='500'>\n",
    "        <br>\n",
    "        <figcaption>\n",
    "            <font color='grey'>\n",
    "                <b>Image 6:</b>\n",
    "                Illustration to show the relationship between the luminosity of a light source (such as a flare, a star, etc.) which is the energy per second, to the flux observed at a distance <b>r</b> from the source, which is the energy per second per square meter.\n",
    "            </font>\n",
    "        </figcaption>\n",
    "    </center>\n",
    "</figure>\n",
    "\n",
    "The distance to 3C279 is about $4 \\times 10^9 light years$, and there are $9.5 \\times 10^{15} m$ in a light year. The surface area of a sphere is $A= 4πr^2$ where $r$ is the radius of the sphere.\n",
    "\n",
    "The function below will apply the conversion to go from photon flux to energy flux (energy per second per square meter) to luminosity (total energy emitted per second)."
   ]
  },
  {
   "cell_type": "code",
   "execution_count": 17,
   "metadata": {
    "scrolled": true
   },
   "outputs": [],
   "source": [
    "# Run this cell to define a function that will convert between values.\n",
    "\n",
    "\n",
    "\n",
    "def compute_lum(peak_flux):\n",
    "    #convert from photon flux to energy flux in Gev/square-meter/second\n",
    "    peak_energy_flux = peak_flux* 1.*u.GeV/u.ph\n",
    "    #convert to Joule/square-meter/second\n",
    "    peak_energy_flux_J = peak_energy_flux.to(u.J/u.m**2/u.second)\n",
    "    \n",
    "    #### Let's calculate total surface area of the sphere (from 3C 279)\n",
    "    r = 4e9 * 9.5e15 *u.m  #radius is the distance to 3C 279 converted to meter\n",
    "    area = 4.*np.pi*r**2\n",
    "    \n",
    "    #The total luminosity (energy/second) emitted in the flare each second\n",
    "    #is given by L = (Area) x (Flux).\n",
    "\n",
    "    #### Let's calculate the luminosity (energy/sec) in Joules/sec.\n",
    "    Luminosity = area*peak_energy_flux_J\n",
    "\n",
    "    Luminosity_Sun = 4e26 *u.J/u.second\n",
    "    Luminosity_rel_to_Sun = Luminosity / Luminosity_Sun\n",
    "    return(Luminosity_rel_to_Sun)"
   ]
  },
  {
   "cell_type": "markdown",
   "metadata": {},
   "source": [
    "<div class='alert alert-success'>\n",
    "    <h3 class='alert-heading'>Quick Question(s)</h3>\n",
    "    <ul>\n",
    "        <li>How much energy does the flare emit relative to the Sun?</li>\n",
    "        <li>Do you expect it to be more or less, and why?</li>\n",
    "    </ul>\n",
    "</div>\n",
    "\n",
    "<figure>\n",
    "    <center>\n",
    "        <br>\n",
    "        <img src='Figures/Stop_sign_grey.jpg', width='400'>\n",
    "        <br>\n",
    "    </center>\n",
    "</figure>"
   ]
  },
  {
   "cell_type": "code",
   "execution_count": 18,
   "metadata": {},
   "outputs": [
    {
     "name": "stdout",
     "output_type": "stream",
     "text": [
      "Relative to the Sun, the luminosity is 72682098794762.86 times brighter.\n",
      "*** That's  72.7 trillion times brighter than the Sun! ***\n"
     ]
    }
   ],
   "source": [
    "# Run this cell to calculate the ratio of the luminosity at the flare maximum to the solar luminosity.\n",
    "\n",
    "\n",
    "\n",
    "Luminosity_rel_to_Sun = compute_lum(peak_flux)\n",
    "print('Relative to the Sun, the luminosity is',Luminosity_rel_to_Sun,'times brighter.')\n",
    "print(\"*** That's \",np.round(Luminosity_rel_to_Sun / 1e12,1),\"trillion times brighter than the Sun! ***\")"
   ]
  },
  {
   "cell_type": "markdown",
   "metadata": {},
   "source": [
    "<div class='alert alert-success'>\n",
    "    <h3 class='alert-heading'>Quick Question(s)</h3>\n",
    "    <ul>\n",
    "        <li>How many years would it take to the Sun to produce the same amount of energy as the flare in one second?</li>\n",
    "    </ul>\n",
    "</div>\n",
    "\n",
    "There are about 30 million ($3 \\times 10^7$) seconds in a year. How many years would it take for the Sun to emit as much energy as the flare did in a single second?"
   ]
  },
  {
   "cell_type": "code",
   "execution_count": 19,
   "metadata": {},
   "outputs": [
    {
     "name": "stdout",
     "output_type": "stream",
     "text": [
      "Time it would take the Sun to produce same energy as the flare did in a single second: \n",
      "     2303156.7 yr\n",
      "--> That's 2.3 millions of years\n"
     ]
    }
   ],
   "source": [
    "# Run this cell to calculate the number of years.\n",
    "\n",
    "\n",
    "\n",
    "Luminosity_Sun = 4e26 *u.J/u.second\n",
    "Energy_flare = Luminosity_rel_to_Sun * Luminosity_Sun * 1*u.second #Energy from flare in 1 second\n",
    "time_Sun = Energy_flare / Luminosity_Sun\n",
    "print('Time it would take the Sun to produce same energy as the flare did in a single second: ')\n",
    "print('    ',np.round(time_Sun.to(u.yr),1))\n",
    "print(\"--> That's\",np.round(time_Sun.to(u.Myr).value,2),'millions of years')"
   ]
  },
  {
   "cell_type": "markdown",
   "metadata": {},
   "source": [
    "<div class='alert alert-success'>\n",
    "    <h3 class='alert-heading'>Quick Question(s)</h3>\n",
    "    <ul>\n",
    "        <li>How much energy does the flare emit relative to the entire Milky Way galaxy?</li>\n",
    "        <li>Do you expect it to be more or less, and why?</li>\n",
    "    </ul>\n",
    "</div>\n",
    "\n",
    "<figure>\n",
    "    <center>\n",
    "        <br>\n",
    "        <img src='Figures/Stop_sign_grey.jpg', width='400'>\n",
    "        <br>\n",
    "    </center>\n",
    "</figure>"
   ]
  },
  {
   "cell_type": "code",
   "execution_count": 20,
   "metadata": {},
   "outputs": [
    {
     "name": "stdout",
     "output_type": "stream",
     "text": [
      "Relative to the Milky Way, the luminosity is 2423.0 times higher!\n"
     ]
    }
   ],
   "source": [
    "# calculate the ratio of the luminosity at the flare maximum to the Milky Way galaxy luminosity.\n",
    "# Hint: The Milky Way is about as luminous as 30 billion Suns.\n",
    "\n",
    "Luminosity_rel_to_MW =  Luminosity_rel_to_Sun / 30e9\n",
    "print('Relative to the Milky Way, the luminosity is',np.round(Luminosity_rel_to_MW),'times higher!')"
   ]
  },
  {
   "cell_type": "markdown",
   "metadata": {},
   "source": [
    "# Conclusion: How Can Black Holes Change the Fate of Galaxies?\n",
    "\n",
    "<div class='alert alert-success'>\n",
    "    <h3 class='alert-heading'>Quick Question(s)</h3>\n",
    "    <ul>\n",
    "        <li>What do you think could happen to galaxies when their central black hole produces an Active Galactic Nucleus? and an energetic flare?</li>\n",
    "    </ul>\n",
    "</div>\n",
    "\n",
    "<figure>\n",
    "    <center>\n",
    "        <br>\n",
    "        <img src='Figures/Supermassive-Black-Hole-Winds_ESA_ATG_medialab.jpg', width='500'>\n",
    "        <br>\n",
    "        <figcaption>\n",
    "            <font color='grey'>\n",
    "                <b>Image 7:</b>\n",
    "                Artist illustration of a galaxy that harbors an active galactic nucleus powered by a supermassive black hole. The AGN powers fast and hot winds of materials pushing gas and dust out of the galaxy. These winds could potentially influence the galaxy by removing the gas needed to form new stars.\n",
    "                <br>\n",
    "                <b>Image Credit:</b>\n",
    "                ESA/ATG medialab\n",
    "            </font>\n",
    "        </figcaption>\n",
    "    </center>\n",
    "</figure>\n",
    "\n",
    "As you have seen, Active Galactic Nuclei are powered by supermassive black holes and they can emit A LOT of energy. Potentially, this energy can affect the galaxy because it can create winds that remove (or heat) the gas of the galaxy. If the gas is lost or if it is too hot, it's not longer available to form new stars. This means that the galaxy in question will stop forming new stars and it will gradually age and fade. However, astronomers are still not sure of the effects because in some cases, it seems that the energy just gets out of the galaxy or that the galaxy has some way of protecting itself. This is an ongoing and active field of research. **Maybe one day *you* can help to solve this mystery!**\n",
    "___"
   ]
  },
  {
   "cell_type": "markdown",
   "metadata": {},
   "source": [
    "## Links to learn more\n",
    "\n",
    "* Interesting video called **The Black Hole Tipping Point** on [YouTube](https://www.youtube.com/watch?v=brmjWYQi2UM)\n",
    "* Animation of Gamma Rays as Raindrops on the [Astronomy Picture of the Day](https://apod.nasa.gov/apod/ap150722.html)\n",
    "* The story of 3C 279 comes from [this article](https://futurism.com/nasa-spots-record-breaking-black-hole-flare). Below is a picture made with the Gamma ray \"Fermi Large Area Telescope\" that shows how bright (in Gamma rays) the quasar 3C 279 was during its historic flare of 2015.\n",
    "\n",
    "<figure>\n",
    "    <center>\n",
    "        <br>\n",
    "        <img src='Figures/3C-279-Outburst.jpg', width='500'>\n",
    "        <br>\n",
    "        <figcaption>\n",
    "            <font color='grey'>\n",
    "                <b>Image 8:</b>\n",
    "                The brightest persistent source in the gamma-ray sky is the Vela pulsar, which is about 1,000 light-years away. 3C 279 is millions of times farther off, but during this flare it became four times brighter than Vela. This corresponds to a tremendous energy release, and one that cannot be sustained for long. The galaxy dimmed to normal gamma-ray levels by June 18, 2015. 3C 279’s historic flare can be seen in this image from the Large Area Telescope. Gamma rays within the range of 100 million to 100 billion electron volts are specifically shown.\n",
    "                <br>\n",
    "                <b>Image Credit:</b>\n",
    "                NASA/DOE/Fermi LAT Collaboration\n",
    "            </font>\n",
    "        </figcaption>\n",
    "    </center>\n",
    "</figure>"
   ]
  },
  {
   "cell_type": "markdown",
   "metadata": {},
   "source": [
    "## Other Credits\n",
    "\n",
    "Some of this activity was adapted from NASA's Active Galaxies Educator's Guide with Activities in Science and Mathematics (Activity 3: Light Travel Time and the Size of Active Galaxies)."
   ]
  },
  {
   "cell_type": "markdown",
   "metadata": {},
   "source": [
    "## More on the flux, energy & luminosity calculations\n",
    "\n",
    "If we know the energy of each photon, we can convert the flux in number of photons per second per square meter area (the units above) to the <b>energy flux</b> in energy (electronVolt = eV) per second per square meter.\n",
    "\n",
    "For reference on the units of energy:\n",
    "* $1 eV = 1.6021766×10^{−19} J$ (Joule)\n",
    "* $1 GeV = 1\\ billion\\ eV = 1.6021766×10^{−10} J$ (Joule)\n",
    "\n",
    "We assume that each gamma ray hitting the detector has an energy of 1 GeV (= 1 billion eV), and calculate the maximum energy flux in $GeV m^{-2} s^{-1}$.\n",
    "___"
   ]
  }
 ],
 "metadata": {
  "kernelspec": {
   "display_name": "Python 3",
   "language": "python",
   "name": "python3"
  },
  "language_info": {
   "codemirror_mode": {
    "name": "ipython",
    "version": 3
   },
   "file_extension": ".py",
   "mimetype": "text/x-python",
   "name": "python",
   "nbconvert_exporter": "python",
   "pygments_lexer": "ipython3",
   "version": "3.7.7"
  }
 },
 "nbformat": 4,
 "nbformat_minor": 4
}
