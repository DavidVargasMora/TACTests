{
 "cells": [
  {
   "cell_type": "markdown",
   "metadata": {},
   "source": [
    "<br>\n",
    "<br>\n",
    "<font size='6'><u><b>Distance scale with variable stars</b></u></font>\n",
    "<br>\n",
    "\n",
    "##### Written by Chien-Hsiu Lee, 2020\n",
    "\n",
    "In this activity we are going to look at stars that change their magnitudes (brightness) in time. We can use a certain group of these stars to help estimate distances to other astronomical objects such as M31, our neighboring galaxy."
   ]
  },
  {
   "cell_type": "markdown",
   "metadata": {},
   "source": [
    "# Table of Contents\n",
    "\n",
    "* [How to Use This Notebook](#How-to-Use-This-Notebook)\n",
    "* [Pre-Activity Setup](#Pre-Activity-Setup)\n",
    "* [Activity 1: Finding the period of a star](#Activity-1:-Finding-the-period-of-a-star)\n",
    "* [Activity 2: Classifying the variable star](#Activity-2:-Classifying-the-variable-star)\n",
    "* [Activity 3: Using Leavitt Law to estimate distance](#Activity-3:-Using-Leavitt-Law-to-estimate-distance)\n",
    "___"
   ]
  },
  {
   "cell_type": "markdown",
   "metadata": {},
   "source": [
    "# How to Use This Notebook\n",
    "\n",
    "The webpage you are in is actually an app - much like the ones on your cellphone. This app consists of cells.\n",
    "\n",
    "An *input* cell looks like a light grey box with an `In [ ]:` on its left. Input cells each contain code - instructions to make the computer do something.\n",
    "\n",
    "To activate or select a cell, click anywhere inside of it.\n",
    "\n",
    "<div class='alert alert-info'>\n",
    "    <font size='3'><b>Select the cell below and read its contents.</b></font>\n",
    "</div>"
   ]
  },
  {
   "cell_type": "code",
   "execution_count": null,
   "metadata": {},
   "outputs": [],
   "source": [
    "# Text that follows a \"#\" is known as a comment.\n",
    "# Comments do not affect your code in any way.\n",
    "# You should always read the comments at the top of each cell you interact with.\n",
    "# Comments will be used to describe what the cell's code is actually doing."
   ]
  },
  {
   "cell_type": "markdown",
   "metadata": {},
   "source": [
    "To execute or run a selected cell, hit `[Shift + Enter]` on your keyboard.\n",
    "\n",
    "<div class='alert alert-info'>\n",
    "    <font size='3'><b>Select the cell below and read its contents. Then, run the cell.</b></font>\n",
    "</div>"
   ]
  },
  {
   "cell_type": "code",
   "execution_count": null,
   "metadata": {},
   "outputs": [],
   "source": [
    "# Text that DOESN'T follow a \"#\" is considered code.\n",
    "# Lines of code are instructions given to your computer.\n",
    "# The line of code below is a \"print\" statement.\n",
    "# A print statement literally prints out the text between its quotes.\n",
    "\n",
    "print(\"Congrats! You have successfully run your first cell!\")"
   ]
  },
  {
   "cell_type": "markdown",
   "metadata": {},
   "source": [
    "Running a cell creates an *output* directly below it. An output can be some text, a graph, an interactive slider, or even nothing at all! For that last case, you know you have run a cell when the `In [ ]:` becomes `In [#]:`, where \"#\" is any number.\n",
    "\n",
    "You can learn more about how Jupyter notebooks work at https://try.jupyter.org/\n",
    "___"
   ]
  },
  {
   "cell_type": "markdown",
   "metadata": {},
   "source": [
    "# Pre-Activity Setup\n",
    "\n",
    "In order for any of the activities to work properly, you must import the libraries needed for the code in this notebook.\n",
    "\n",
    "<div class='alert alert-info'>\n",
    "    <font size='3'><b>Select and run the cell below.</b></font>\n",
    "</div>"
   ]
  },
  {
   "cell_type": "code",
   "execution_count": null,
   "metadata": {},
   "outputs": [],
   "source": [
    "# If you are running this notebook in Colab the following package has to be installed first.\n",
    "\n",
    "!pip install gatspy  &> /dev/null\n",
    "print(\"You have successfully installled: gatspy\")"
   ]
  },
  {
   "cell_type": "code",
   "execution_count": null,
   "metadata": {},
   "outputs": [],
   "source": [
    "# Here, you are importing the libraries needed for this notebook.\n",
    "# These libraries set up the plotting environment in your browser.\n",
    "\n",
    "from ipywidgets import interactive, fixed\n",
    "from IPython.display import display\n",
    "import pdb\n",
    "import os\n",
    "import numpy as np\n",
    "import matplotlib.pyplot as plt\n",
    "from astropy.io import ascii\n",
    "\n",
    "repoURL = 'https://raw.githubusercontent.com/DavidVargasMora/TACTests/master/'\n",
    "\n",
    "print('Done! You have successfully imported the libraries.')"
   ]
  },
  {
   "cell_type": "markdown",
   "metadata": {},
   "source": [
    "### Programming Side Note\n",
    "\n",
    "The previous cell is a way of importing the necessary functions and other stuff to allow us to make pictures and do math super easy. In the next cell, we will be using a dictionary to easily group things together. Like how in a normal dictionary there is a word and a definition, this dictionary acts in a similar manner but instead of a word, we call it a key and instead of a definition we call it a value.\n",
    "\n",
    "```python\n",
    "dictionary = {key1 : value1, key2 : value2 ...}\n",
    "```"
   ]
  },
  {
   "cell_type": "markdown",
   "metadata": {},
   "source": [
    "# Activity 1: Finding the period of a star\n",
    "\n",
    "In this exercise, we will learn how to display light curves (brightness as a function of time) and from the light curve, find the period of a variable star.\n",
    "\n",
    "<div class='alert alert-info'>\n",
    "    <font size='3'><b>Select and run the cell below to plot the light curve.</b></font>\n",
    "</div>\n",
    "\n",
    "<div class='alert alert-warning'>\n",
    "    <font size='3'><b>The plot shows brightness over time for a star. Notice how it rises and falls, this star is changing with time!</b></font><br>\n",
    "\n",
    "</div>\n",
    "\n"
   ]
  },
  {
   "cell_type": "code",
   "execution_count": null,
   "metadata": {},
   "outputs": [],
   "source": [
    "#we read in the observation data and plot the light curve\n",
    "lc=ascii.read(repoURL+'02_Variable_Stars/Data/cep1862r.tab')\n",
    "mjd, mag, err = lc['col1'], lc['col2'], lc['col3']\n",
    "\n",
    "plt.figure(figsize=(12, 8))\n",
    "plt.plot(mjd, mag, 'g.')\n",
    "plt.xlabel('Time [day]', size=20)\n",
    "plt.ylabel('Brightness [magnitude]', size=20)\n",
    "plt.title('Light curve of a variable star', size=20)\n",
    "plt.ylim(20.2,18.8)\n",
    "#plt.rc('font', weight='bold')\n",
    "plt.rc('xtick.major', size=10, pad=10)\n",
    "plt.rc('ytick.major', size=10, pad=10)\n",
    "plt.rc('ytick', labelsize=20)\n",
    "plt.rc('xtick', labelsize=20)\n",
    "plt.show()"
   ]
  },
  {
   "cell_type": "markdown",
   "metadata": {},
   "source": [
    "This is a good start and there appears to be a periodic nature to the star, so let's find the period.\n",
    "\n",
    "<div class='alert alert-info'>\n",
    "    <font size='3'><b>Select and run the cell below to find the period.</b></font>\n",
    "</div>\n",
    "\n",
    "<div class='alert alert-warning'>\n",
    "    <font size='3'><b>The plots shows probability of the star pulsing with a certain period. Notice how some peaks are higher than others, these are likely period candidates!</b></font><br>\n",
    "\n",
    "</div>\n",
    "\n"
   ]
  },
  {
   "cell_type": "code",
   "execution_count": null,
   "metadata": {},
   "outputs": [],
   "source": [
    "#now we use a package to find the period\n",
    "from gatspy.periodic import LombScargleFast\n",
    "\n",
    "ls=LombScargleFast(silence_warnings=True)\n",
    "ls.optimizer.period_range = (0.1,100)\n",
    "ls.fit(mjd,mag)\n",
    "period0=ls.best_period\n",
    "print(\"Best period: \" + str(period0) + \" days\")\n",
    "\n",
    "#periodogram\n",
    "periods = np.linspace(1,100,1000)\n",
    "scores = ls.score(periods)\n",
    "plt.figure(figsize=(12, 8))\n",
    "plt.plot(periods,scores)\n",
    "plt.xlabel(\"Period [day]\", size=20)\n",
    "plt.ylabel(\"Likelihood\", size=20)\n",
    "plt.title(\"Lomb-Scargle-Periodogram\", size=20)\n",
    "plt.show()"
   ]
  },
  {
   "cell_type": "markdown",
   "metadata": {},
   "source": [
    "## Question 1: Can you estimate the period from this diagram?\n",
    "\n"
   ]
  },
  {
   "cell_type": "markdown",
   "metadata": {},
   "source": [
    "From the above diagram of likelihood versus period, you can probably determine the period of the variable star. But for arguments sake, let's play around with different periods, say from 10 to 60 days, and see which of their diagram of period versus brightness make sense.\n",
    "\n",
    "<div class='alert alert-info'>\n",
    "    <font size='3'><b>Run the cell below. Experiment with different values of the period.</b></font>\n",
    "</div>"
   ]
  },
  {
   "cell_type": "code",
   "execution_count": null,
   "metadata": {},
   "outputs": [],
   "source": [
    "#print(\"Best period: \" + str(period) + \" days\")\n",
    "# put in a number between 10 and 60\n",
    "#period=62\n",
    "period=30.864572200228128"
   ]
  },
  {
   "cell_type": "markdown",
   "metadata": {},
   "source": [
    "That was a great way to make sure we know the period. In fact, if we assume all the data sits on the same periodic function, we should be able to condense all the data to a single period, or \"phased light curve\". This will make it easier to read and see the period.\n",
    "\n",
    "<div class='alert alert-info'>\n",
    "    <font size='3'><b>Select and run the cell below to plot the phased light curve.</b></font>\n",
    "</div>\n",
    "\n",
    "<div class='alert alert-warning'>\n",
    "    <font size='3'><b>The plots shows the light curve phased (folded) with the given period. You can clearly see the distinct shape of the Cepheid variable, confirming that period we have in hand is correct!</b></font><br>\n",
    "\n",
    "</div>\n",
    "\n"
   ]
  },
  {
   "cell_type": "code",
   "execution_count": null,
   "metadata": {},
   "outputs": [],
   "source": [
    "phase = np.zeros(shape=mjd.shape)\n",
    "phase = np.fmod(mjd/period,1)\n",
    "\n",
    "plt.figure(figsize=(12, 8))\n",
    "plt.plot(phase*period,mag,\"g.\")\n",
    "plt.plot((phase+1)*period,mag,\"r.\")\n",
    "plt.ylim(20.2,18.8)\n",
    "plt.xlabel('Time [Days]', size=20)\n",
    "plt.ylabel('Brightness [Magnitude]', size=20)\n",
    "plt.title('Phased light curve', size=20)\n",
    "plt.show()"
   ]
  },
  {
   "cell_type": "markdown",
   "metadata": {},
   "source": [
    "<div class='alert alert-warning'>\n",
    "    <font size='3'><b>The interactive plot allows you to play around with different period. See how the plot changes if you phase it with wrong period values!</b></font><br>\n",
    "\n",
    "</div>\n",
    "\n"
   ]
  },
  {
   "cell_type": "code",
   "execution_count": null,
   "metadata": {},
   "outputs": [],
   "source": [
    "#plt.style.use('ggplot')\n",
    "plt.rcParams['figure.figsize'] = (12, 8)\n",
    "plt.rcParams['font.size'] = 18\n",
    "\n",
    "def plot_lc(period=60):\n",
    "    phase = np.zeros(shape=mjd.shape)\n",
    "    phase = np.fmod(mjd/period,1)\n",
    "    plt.plot(phase*period,mag,\"g.\")\n",
    "    plt.plot((phase+1)*period,mag,\"r.\")\n",
    "    plt.ylim(20.2,18.8)\n",
    "    plt.xlabel('Time [Days]', size=20)\n",
    "    plt.ylabel('Brightness [Magnitude]', size=20)\n",
    "    plt.title('Phased light curve', size=20)\n",
    "    plt.show()\n",
    "\n",
    "interactive_plot = interactive(plot_lc, period=(25.,40.,1.))\n",
    "display(interactive_plot)"
   ]
  },
  {
   "cell_type": "markdown",
   "metadata": {},
   "source": [
    "# Activity 2: Classifying the variable star \n",
    "\n",
    "In this exercise, we will learn how to use a series of cosine and sine functions to model a light curve (so-called Fourier decomposition):\n",
    "\n",
    "$f(\\phi) = \\sum_{i=1}^n a_i cos(2\\pi i \\phi) + b_i sin(2\\pi i \\phi)$, \n",
    "\n",
    "where $\\phi$ denotes the phase of the light curve and $a_i$ and $b_i$ are the coefficients of the i-th cos() and sin() terms. We will also learn how we can use the resulting coefficients to classify the type of variable star.  \n",
    "\n",
    "<div class='alert alert-info'>\n",
    "    <font size='3'><b>Select and run the cell below to model the light curve.</b></font>\n",
    "</div>"
   ]
  },
  {
   "cell_type": "code",
   "execution_count": null,
   "metadata": {},
   "outputs": [],
   "source": [
    "#definition of Fourier decomposition function\n",
    "from scipy import optimize\n",
    "pi=3.1415\n",
    "def FourierDecomp(x, a0, a1, a2,a3,a4, b1, b2, b3, b4):\n",
    "    return a0 + a1 * np.cos(2*pi* x) + a2 * np.cos(2*pi*2*x) + a3*np.cos(2*pi*3*x) + a4*np.cos(2*pi*4*x) + b1*np.sin(2*pi*x) + b2*np.sin(2*pi*2*x) + b3*np.sin(2*pi*3*x) + b4*np.sin(2*pi*4*x) \n",
    "\n",
    "#fit the light curve and show coefficients\n",
    "params, params_covariance = optimize.curve_fit(FourierDecomp, phase, mag, p0=[19.5, 0, 0, 0, 0, 0, 0, 0, 0])\n",
    "\n",
    "print(params)"
   ]
  },
  {
   "cell_type": "markdown",
   "metadata": {},
   "source": [
    "And plot the resulting curve on the data\n",
    "\n",
    "<div class='alert alert-info'>\n",
    "    <font size='3'><b>Select and run the cell below to plot the modeled light curve.</b></font>\n",
    "</div>\n",
    "\n",
    "<div class='alert alert-warning'>\n",
    "    <font size='3'><b>This plot compares the modelled light curves (black line) with real data (red points). Looks like the model is doing a good job!</b></font><br>\n",
    "\n",
    "</div>\n",
    "\n"
   ]
  },
  {
   "cell_type": "code",
   "execution_count": null,
   "metadata": {},
   "outputs": [],
   "source": [
    "plt.figure(figsize=(12, 8))\n",
    "plt.plot(phase*period, mag, \"r.\", label='Data')\n",
    "plt.plot((phase+1)*period, mag, \"r.\", label='Data')\n",
    "p2=np.linspace(0,1,100)\n",
    "plt.plot(p2*period, FourierDecomp(p2, params[0], params[1], params[2], params[3], params[4], params[5], params[6], params[7], params[8]), color='black', label='Fitted function')\n",
    "plt.plot((p2+1)*period,FourierDecomp(p2, params[0], params[1], params[2], params[3], params[4], params[5], params[6], params[7], params[8]), color='black', label='Fitted function')\n",
    "plt.xlabel('Time [Days]', size=20)\n",
    "plt.ylabel('Brightness [Magnitude]', size=20)\n",
    "plt.ylim(20.2,18.8)\n",
    "plt.show()"
   ]
  },
  {
   "cell_type": "markdown",
   "metadata": {},
   "source": [
    "From the light curve, use coefficients a4 and a2 to determine a4/a2 vs period.\n",
    "\n",
    "<div class='alert alert-info'>\n",
    "    <font size='3'><b>Select and run the cell below to find out the parameters of the modeled light curve.</b></font>\n",
    "</div>"
   ]
  },
  {
   "cell_type": "code",
   "execution_count": null,
   "metadata": {},
   "outputs": [],
   "source": [
    "print (\"a4/a2: \",abs(params[4]/params[2]), \"log period: \", np.log10(period))"
   ]
  },
  {
   "cell_type": "markdown",
   "metadata": {},
   "source": [
    "## Question 2: Using a4/a2 and the period, can you determine the type of this variable?"
   ]
  },
  {
   "cell_type": "markdown",
   "metadata": {},
   "source": [
    "To determine the type of variable star from the period, check the classification diagram: \n",
    "\n",
    "<div class='alert alert-warning'>\n",
    "    <font size='3'><b>Can you use the coefficients to type the variables?</b></font><br>\n",
    "\n",
    "</div>\n",
    "\n",
    "<img src=\"https://github.com/DavidVargasMora/TACTests/raw/master/02_Variable_Stars/Figures/TeenCafeClass.jpeg\" width=\"600px\" margin=\"0 auto\">\n",
    "\n",
    "Now use this period with the Leavitt Law to determine luminosity (i.e., absolute magnitude or intrinsic brightness) and with that, get the distance. "
   ]
  },
  {
   "cell_type": "markdown",
   "metadata": {},
   "source": [
    "# Activity 3: Using Leavitt Law to estimate distance\n",
    "\n",
    "In this exercise, we will fit the data to determine the coefficients of Leavitt law, and from that, we can estimate the distance to our nearest spiral galaxy, M31.\n",
    "\n",
    "<img src=\"https://github.com/DavidVargasMora/TACTests/raw/master/02_Variable_Stars/Figures/TeenCafeDistance.jpeg\" width=\"600px\">\n",
    "\n",
    "\n",
    "<div class='alert alert-info'>\n",
    "    <font size='3'><b>Run the cell below to see the period-luminosity relation of Cepehids in Andromeda.</b></font>\n",
    "</div>\n",
    "\n",
    "<div class='alert alert-warning'>\n",
    "    <font size='3'><b>This plot shows the period vs. brightness of Cepheids from Andromeda. Notice there are two different populations of Cepheids, and how they distribute following the Leavitt law!</b></font><br>\n",
    "\n",
    "</div>\n",
    "\n"
   ]
  },
  {
   "cell_type": "code",
   "execution_count": null,
   "metadata": {},
   "outputs": [],
   "source": [
    "#read in data of Andromeda Cepheids\n",
    "cep=ascii.read(repoURL+'02_Variable_Stars/Data/cep.tab')\n",
    "per, jmag, hmag, typ = cep['col1'], cep['col2'], cep['col3'], cep['col4']\n",
    "\n",
    "plt.figure(figsize=(12, 8))\n",
    "plt.plot(np.log10(per[cep['col4'] == 'FM']), jmag[cep['col4'] == 'FM'], 'm.')\n",
    "plt.plot(np.log10(per[cep['col4'] == 'FO']), jmag[cep['col4'] == 'FO'], 'y.')\n",
    "\n",
    "#plt.xscale(\"log\")\n",
    "plt.xlabel('log(Period) [day]', size=20)\n",
    "plt.ylabel('Magnitude', size=20)\n",
    "plt.title('Leavitt Law', size=20)\n",
    "plt.ylim(22,16)\n",
    "plt.show()"
   ]
  },
  {
   "cell_type": "markdown",
   "metadata": {},
   "source": [
    "By fitting a line to the data in the diagram above (showing the Leavitt Law), the absolute magnitude (or luminosity) can be found. With the equation for a line: \n",
    "\n",
    "$y = ax + b$, \n",
    "\n",
    "coefficient \"a\" is the slope of the line and coefficient \"b\" is the y value when x is zero. That y value is the absolute magnitude or luminosity of the variable star with a period of one day or log(0)=1. This value will be M1 in Question 3 below.\n",
    "\n",
    "\n",
    "<div class='alert alert-info'>\n",
    "    <font size='3'><b>Run the cell below to find a linear relation of the Cepheids in M31.</b></font>\n",
    "</div>\n",
    "\n"
   ]
  },
  {
   "cell_type": "code",
   "execution_count": null,
   "metadata": {},
   "outputs": [],
   "source": [
    "def Linear(x, a, b):\n",
    "    return a*x + b \n",
    "\n",
    "params, params_covariance = optimize.curve_fit(Linear, np.log10(per[cep['col4'] == 'FM']), jmag[cep['col4'] == 'FM'], p0=[-1,22])\n",
    "\n",
    "print (\"y = a*x + b, a=\", params[0], \" b=\", params[1])"
   ]
  },
  {
   "cell_type": "markdown",
   "metadata": {},
   "source": [
    "<div class='alert alert-warning'>\n",
    "    <font size='3'><b>Fun fact: we may get used to define the linear relation as \"y = m*x + y0\", where m is the slope and y0 is the intercept on y-axis. But m can be misleading here because it can also mean magnitude, so we chose to use \"y = a*x + b\" instead. </b></font><br>\n",
    "\n",
    "</div>\n",
    "\n",
    "<img src=\"https://github.com/DavidVargasMora/TACTests/raw/master/02_Variable_Stars/Figures/TeenCafeClass.jpeg\" width=\"600px\" margin=\"0 auto\">\n",
    "\n",
    "<div class='alert alert-info'>\n",
    "    <font size='3'><b>Run the cell below to plot the relation along with the data.</b></font>\n",
    "</div>\n",
    "\n",
    "<div class='alert alert-warning'>\n",
    "    <font size='3'><b>This plot shows the period vs. brightness of Cepheids from Andromeda, and the linear relation we derive. See how good they match with each other!</b></font><br>\n",
    "\n",
    "</div>\n"
   ]
  },
  {
   "cell_type": "code",
   "execution_count": null,
   "metadata": {},
   "outputs": [],
   "source": [
    "ppp=np.linspace(1,100,100)\n",
    "#print p2\n",
    "\n",
    "plt.figure(figsize=(12, 8))\n",
    "plt.plot(np.log10(ppp), Linear(np.log10(ppp), params[0], params[1]), color='black', label='Fitted function')\n",
    "\n",
    "plt.plot(np.log10(per[cep['col4'] == 'FM']), jmag[cep['col4'] == 'FM'], 'm.')\n",
    "plt.plot(np.log10(per[cep['col4'] == 'FO']), jmag[cep['col4'] == 'FO'], 'y.')\n",
    "\n",
    "#plt.xscale(\"log\")\n",
    "plt.xlabel('log(Period) [day]', size=20)\n",
    "plt.ylabel('Brightness [Magnitude]', size=20)\n",
    "plt.title('Leavitt Law', size=20)\n",
    "plt.ylim(23,16)\n",
    "plt.xlim(0,2)\n",
    "plt.show()"
   ]
  },
  {
   "cell_type": "markdown",
   "metadata": {},
   "source": [
    "## Question 3: Can you estimate the distance to Andromeda galaxy?\n",
    "\n",
    "We can use the distance modulus to convert magnitude to distance:\n",
    "\n",
    "$M_1 - M_2 = 5 \\times log_{10}\\frac{d_1}{d_2}$\n",
    "\n",
    "or in terms of distance (d1):\n",
    "\n",
    "$d_1 = d_2 \\times 10^{(M1-M2)/5}$\n",
    "\n",
    "Here $M_1$ is the apparent magnitude of the Cepheids in Andromeda, $d_1$ is the distance to Andromeda. $M_2$ is the absolute magnitude (or reference magnitude) and $d_2$ is the reference distance we use to define the absolute magnitude (which is set to 10 pc).\n",
    "\n",
    "To get $d_1$, what value for $M_1$ do you need to use from the Leavitt Law above?\n",
    "See previous paragraph before Question 3.\n",
    "\n",
    "Info you will need for $M_2$ and $d_2$: a 1-day period Cepheid has absolute brightness of -2.1 magnitude at 10 pc.\n",
    "\n",
    "You can use Python as a calculator to determine the distance. Try it yourself using pow(base,exponent) for base^(exponent). Check your answer with the distance here: https://en.wikipedia.org/wiki/Andromeda_Galaxy\n",
    "\n",
    "<div class='alert alert-info'>\n",
    "    <font size='3'><b>Run the cell below to calculate distance to the Andromeda galaxy.</b></font>\n",
    "</div>\n",
    "\n"
   ]
  },
  {
   "cell_type": "code",
   "execution_count": null,
   "metadata": {},
   "outputs": [],
   "source": [
    "#Now fill in M1, M2, and d2 below to get d1\n",
    "M1 = 22.36516566\n",
    "M2 = -2.1\n",
    "d2 = 10\n",
    "\n",
    "d1 = d2 * pow(10,(M1-M2)/5.)\n",
    "\n",
    "print (\"Distance to Andromeda =\", d1,'pc')"
   ]
  },
  {
   "cell_type": "markdown",
   "metadata": {},
   "source": [
    "## Bonus question: Can you estimate the distance to Large Magellanic Cloud?\n",
    "\n",
    "<div class='alert alert-info'>\n",
    "    <font size='3'><b>Run the cell below to see Cepheids in the Large Magellanic Cloud.</b></font>\n",
    "</div>\n",
    "\n",
    "<div class='alert alert-warning'>\n",
    "    <font size='3'><b>This plot shows the period vs. brightness of Cepheids from Large Magellanic Cloud. Notice there are two different populations of Cepheids, and how they distribute following the Leavitt law!</b></font><br>\n",
    "\n",
    "</div>"
   ]
  },
  {
   "cell_type": "code",
   "execution_count": null,
   "metadata": {},
   "outputs": [],
   "source": [
    "#read in data of LMC Cepheids\n",
    "cep=ascii.read(repoURL+'02_Variable_Stars/Data/lmc.tab')\n",
    "per, jmag, hmag, typ = cep['col1'], cep['col2'], cep['col3'], cep['col4']\n",
    "\n",
    "plt.figure(figsize=(12, 8))\n",
    "plt.plot(np.log10(per[cep['col4'] == 'FM']), jmag[cep['col4'] == 'FM'], 'm.')\n",
    "\n",
    "#plt.xscale(\"log\")\n",
    "plt.xlabel('log(Period) [day]', size=20)\n",
    "plt.ylabel('Magnitude', size=20)\n",
    "plt.title('Leavitt Law', size=20)\n",
    "plt.ylim(16.5,9)\n",
    "plt.xlim(0.0,2)\n",
    "plt.show()"
   ]
  },
  {
   "cell_type": "markdown",
   "metadata": {},
   "source": [
    "<div class='alert alert-info'>\n",
    "    <font size='3'><b>Run the cell below to find a linear relation of the Cepheids in LMC.</b></font>\n",
    "</div>\n",
    "\n",
    "<div class='alert alert-warning'>\n",
    "    <font size='3'><b>This plot shows the period vs. brightness of Cepheids from Large Magellanic Cloud, and the linear relation we derive. See how good they match with each other!</b></font><br>\n",
    "\n",
    "\n",
    "\n"
   ]
  },
  {
   "cell_type": "code",
   "execution_count": null,
   "metadata": {},
   "outputs": [],
   "source": [
    "params, params_covariance = optimize.curve_fit(Linear, np.log10(per[cep['col4'] == 'FM']), jmag[cep['col4'] == 'FM'], p0=[-1,22])\n",
    "\n",
    "print (\"y = a*x + b, a=\", params[0], \" b=\", params[1])\n",
    "ppp=np.linspace(1,500,100)\n",
    "#print p2\n",
    "\n",
    "plt.figure(figsize=(12, 8))\n",
    "plt.plot(np.log10(ppp), Linear(np.log10(ppp), params[0], params[1]), color='black', label='Fitted function')\n",
    "\n",
    "plt.plot(np.log10(per[cep['col4'] == 'FM']), jmag[cep['col4'] == 'FM'], 'm.')\n",
    "\n",
    "#plt.xscale(\"log\")\n",
    "plt.xlabel('log(Period) [day]', size=20)\n",
    "plt.ylabel('Brightness [Magnitude]', size=20)\n",
    "plt.title('Leavitt Law', size=20)\n",
    "plt.ylim(16.5,9)\n",
    "plt.xlim(0,2)\n",
    "plt.show()"
   ]
  },
  {
   "cell_type": "markdown",
   "metadata": {},
   "source": [
    "<div class='alert alert-info'>\n",
    "    <font size='3'><b>Run the cell below to calculate distance to the Large Magellanic Cloud.</b></font>\n",
    "</div>\n",
    "\n"
   ]
  },
  {
   "cell_type": "code",
   "execution_count": null,
   "metadata": {},
   "outputs": [],
   "source": [
    "#Now fill in M1, M2, and d2 below to get d1\n",
    "M1 = 16.41141536062039\n",
    "M2 = -2.1\n",
    "d2 = 10\n",
    "\n",
    "d1 = d2 * pow(10,(M1-M2)/5.)\n",
    "\n",
    "print (\"Distance to LMC =\", d1, 'pc')"
   ]
  }
 ],
 "metadata": {
  "kernelspec": {
   "display_name": "Python 3",
   "language": "python",
   "name": "python3"
  },
  "language_info": {
   "codemirror_mode": {
    "name": "ipython",
    "version": 3
   },
   "file_extension": ".py",
   "mimetype": "text/x-python",
   "name": "python",
   "nbconvert_exporter": "python",
   "pygments_lexer": "ipython3",
   "version": "3.7.7"
  }
 },
 "nbformat": 4,
 "nbformat_minor": 1
}
