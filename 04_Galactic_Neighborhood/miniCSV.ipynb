{
 "cells": [
  {
   "cell_type": "markdown",
   "metadata": {},
   "source": [
    "<br>\n",
    "<br>\n",
    "<font size='6'><u><b>CSV File Minifier</b></u></font>\n",
    "<br>\n",
    "\n",
    "##### Written by Juan Vargas\n",
    "\n",
    "We are trying to reduce .csv file size.\n",
    "\n",
    "___"
   ]
  },
  {
   "cell_type": "markdown",
   "metadata": {},
   "source": [
    "# Setup"
   ]
  },
  {
   "cell_type": "code",
   "execution_count": 3,
   "metadata": {},
   "outputs": [],
   "source": [
    "import pandas as pd"
   ]
  },
  {
   "cell_type": "markdown",
   "metadata": {},
   "source": [
    "## Reduce .csv file size"
   ]
  },
  {
   "cell_type": "code",
   "execution_count": 8,
   "metadata": {},
   "outputs": [
    {
     "name": "stdout",
     "output_type": "stream",
     "text": [
      "Input rows #: 4860000\n",
      "Output rows #: 972000\n"
     ]
    }
   ],
   "source": [
    "def reduce_size(file_path, new_path):\n",
    "    #We reduce .csv file size by taking one every ten rows.\n",
    "    \n",
    "    originalFile = pd.read_csv(file_path)\n",
    "\n",
    "    print(\"Input rows #: {0}\".format(len(originalFile)))\n",
    "\n",
    "    #take only one every ten rows\n",
    "    miniFile = pd.read_csv(file_path, skiprows = lambda x: x % 5 != 0)\n",
    "\n",
    "    print(\"Output rows #: {0}\".format(len(miniFile)))\n",
    "\n",
    "    miniFile.to_csv(new_path)\n",
    "\n",
    "reduce_size(\"nbdata/M31_xyz_data.csv\", \"nbdata/M31_xyz_dataN2.csv\")"
   ]
  },
  {
   "cell_type": "markdown",
   "metadata": {},
   "source": [
    "## Reduce Sims folder size\n",
    "\n",
    "We reduce the size of 'Sims' folder by deleting unused .txt files.\n",
    "\n",
    "Slider's step in the notebook is 10... but files in folder's step was 2... there were several unused files which could be deleted to save space."
   ]
  },
  {
   "cell_type": "code",
   "execution_count": 24,
   "metadata": {
    "scrolled": false
   },
   "outputs": [
    {
     "name": "stdout",
     "output_type": "stream",
     "text": [
      "Number of files:  400\n",
      "Number of files:  81\n"
     ]
    }
   ],
   "source": [
    "from os import listdir, remove\n",
    "from os.path import isfile, join\n",
    "from pathlib import Path\n",
    "\n",
    "onlyfiles = [f for f in listdir(\"nbdata/Sims/M33_VLowRes/\") if isfile(join(\"nbdata/Sims/M33_VLowRes/\", f))]\n",
    "\n",
    "#List all filenames in the directory\n",
    "#print(onlyfiles)\n",
    "\n",
    "print(\"Number of files: \", len(onlyfiles))\n",
    "\n",
    "for file in onlyfiles:\n",
    "    snap = (Path(file).stem)[-3:]\n",
    "    if (int(snap) % 10 != 0):\n",
    "        remove(\"nbdata/Sims/M33_VLowRes/M33_%s.txt\"%snap)\n",
    "        \n",
    "onlyfiles = [f for f in listdir(\"nbdata/Sims/M33_VLowRes/\") if isfile(join(\"nbdata/Sims/M33_VLowRes/\", f))]\n",
    "print(\"Number of files: \", len(onlyfiles))"
   ]
  },
  {
   "cell_type": "code",
   "execution_count": null,
   "metadata": {},
   "outputs": [],
   "source": []
  }
 ],
 "metadata": {
  "kernelspec": {
   "display_name": "Python 3",
   "language": "python",
   "name": "python3"
  },
  "language_info": {
   "codemirror_mode": {
    "name": "ipython",
    "version": 3
   },
   "file_extension": ".py",
   "mimetype": "text/x-python",
   "name": "python",
   "nbconvert_exporter": "python",
   "pygments_lexer": "ipython3",
   "version": "3.7.7"
  }
 },
 "nbformat": 4,
 "nbformat_minor": 4
}
