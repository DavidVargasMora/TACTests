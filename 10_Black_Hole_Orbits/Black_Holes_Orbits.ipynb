{
 "cells": [
  {
   "cell_type": "markdown",
   "metadata": {},
   "source": [
    "# Solving for Orbits around Black-Holes using Numerical Integrators\n",
    "\n",
    "##### Written by Pierre Christian, Steward Observatory\n",
    "\n",
    "\n",
    "## Introduction\n",
    "\n",
    "Imagine a particle, located at a distance $r$ from a black-hole of mass $M$ (see picture below). In this module, we will explore the motion of this particle as it orbits around the black-hole, and how this motion can be used to test our understanding of gravity! Along the way, we will learn about *numerical integration*, an important tool that will allow us to use computers to solve equations that are too complicated to solve by hand. \n",
    "\n",
    "![BHSetup001.png](Figures/BHSetup001.png)\n",
    "\n",
    "We will start with what we know of the laws of gravity (what Newton discovered). Then three basics are needed to understand numerical integration before we apply it to the motion of a particle around a black hole. That has us  exploring numerical integration with respect first to a ball at constant velocity and then to a ball with changing velocity. Then we will explore numerical integration with respect to a ball on a spring. With that information we will be able to see whether Newton's law of gravity (e.g., the gravity we know) will help determine a particle's motion around a black hole or whether the gravitational law of general relativity would be better suited and why.\n",
    "___"
   ]
  },
  {
   "cell_type": "markdown",
   "metadata": {},
   "source": [
    "# Table of Contents\n",
    "\n",
    "* [How to Use This Notebook](#How-to-Use-This-Notebook)\n",
    "* [Pre-Activity Setup](#Pre-Activity-Setup)\n",
    "* [Activity 1: Newton's Law of Universal Gravitation](#Activity-1:-Newton's-Law-of-Universal-Gravitation)\n",
    "* [Activity 2: Intro to Numerical Integration](#Activity-2:-Intro-to-Numerical-Integration)\n",
    "    * [Part 2.1: To start with](#Part-2.1:-To-start-with)\n",
    "    * [Part 2.2: Ball with Changing Velocity](#Part-2.2:-Ball-with-Changing-Velocity)\n",
    "    * [Part 2.3: Ball on a Spring](#Part-2.3:-Ball-on-a-Spring)\n",
    "* [Activity 3: The Gravity We Know: Newton's Law, Integrated](#Activity-3:-The-Gravity-We-Know:-Newton's-Law,-Integrated)\n",
    "* [Activity 4: The Gravity Near a Black Hole: Orbits in General Relativity](#Activity-4:-The-Gravity-Near-a-Black-Hole:-Orbits-in-General-Relativity)\n",
    "\n",
    "___"
   ]
  },
  {
   "cell_type": "markdown",
   "metadata": {},
   "source": [
    "# How to Use This Notebook\n",
    "\n",
    "The webpage you are in is actually an app - much like the ones on your cellphone. This app consists of cells.\n",
    "\n",
    "An *input* cell looks like a light grey box with an `In [ ]:` on its left. Input cells each contain code - instructions to make the computer do something.\n",
    "\n",
    "To activate or select a cell, click anywhere inside of it.\n",
    "\n",
    "<div class='alert alert-info'>\n",
    "    <font size='3'><b>Select the cell below and read its contents.</b></font>\n",
    "</div>"
   ]
  },
  {
   "cell_type": "code",
   "execution_count": null,
   "metadata": {},
   "outputs": [],
   "source": [
    "# Text that follows a \"#\" is known as a comment.\n",
    "# Comments do not affect your code in any way.\n",
    "# You should always read the comments at the top of each cell you interact with.\n",
    "# Comments will be used to describe what the cell's code is actually doing."
   ]
  },
  {
   "cell_type": "markdown",
   "metadata": {},
   "source": [
    "To execute or run a selected cell, hit `[Shift + Enter]` on your keyboard.\n",
    "\n",
    "<div class='alert alert-info'>\n",
    "    <font size='3'><b>Select the cell below and read its contents. Then, run the cell.</b></font>\n",
    "</div>"
   ]
  },
  {
   "cell_type": "code",
   "execution_count": null,
   "metadata": {},
   "outputs": [],
   "source": [
    "# Text that DOESN'T follow a \"#\" is considered code.\n",
    "# Lines of code are instructions given to your computer.\n",
    "# The line of code below is a \"print\" statement.\n",
    "# A print statement literally prints out the text between its quotes.\n",
    "\n",
    "print(\"Congrats! You have successfully run your first cell!\")"
   ]
  },
  {
   "cell_type": "markdown",
   "metadata": {},
   "source": [
    "Running a cell creates an *output* directly below it. An output can be some text, a graph, an interactive slider, or even nothing at all! For that last case, you know you have run a cell when the `In [ ]:` becomes `In [#]:`, where \"#\" is any number.\n",
    "\n",
    "You can learn more about how Jupyter notebooks work at https://try.jupyter.org/\n",
    "___"
   ]
  },
  {
   "cell_type": "markdown",
   "metadata": {},
   "source": [
    "# Pre-Activity Setup\n",
    "\n",
    "In order for any of the activities to work properly, you must import the libraries needed for the code in this notebook.\n",
    "\n",
    "<div class='alert alert-info'>\n",
    "    <font size='3'><b>Select and run the cell below.</b></font>\n",
    "</div>"
   ]
  },
  {
   "cell_type": "code",
   "execution_count": null,
   "metadata": {},
   "outputs": [],
   "source": [
    "#Here, you are importing the libraries needed for this notebook. \n",
    "#These libraries set up the plotting environment in your browser.\n",
    "\n",
    "import numpy as np\n",
    "%matplotlib inline\n",
    "import matplotlib.pyplot as plt\n",
    "from ipywidgets import *\n",
    "\n",
    "print('Done! You have successfully imported the libraries.')"
   ]
  },
  {
   "cell_type": "markdown",
   "metadata": {},
   "source": [
    "___"
   ]
  },
  {
   "cell_type": "markdown",
   "metadata": {},
   "source": [
    "# Activity 1: Newton's Law of Universal Gravitation\n",
    "\n",
    "### The kind of gravity we deal with every day...\n",
    "\n",
    "The first mathematical theory of gravity was *Newton's law of universal gravitation*, or *Newtonian gravity* for short. Named after its discoverer, Sir Isaac Newton (1643-1727), Newtonian gravity was our most accurate theory of gravity for more than 330 years. \n",
    "\n",
    "In Newtonian gravity, our particle feels the gravitational acceleration $a$ whose magnitude (or strength) is given by,\n",
    "\n",
    "\\begin{equation}\n",
    "a(r) = -\\frac{G M}{r^2} \\; ,\n",
    "\\end{equation}\n",
    "\n",
    "where $G$ is the Newtonian gravitational constant (i.e. just a fixed number), $M$ is the mass of the black hole and $r$ is the distance between the black hole and the particle. Equations like these are called *equations of motion*, and different theories of gravity prescribe different equations of motions. \n",
    "\n",
    "In addition to its acceleration, the particle also possesses a velocity, whose magnitude (or strength) is given by $v$, which describes the speed of the particle as it orbits the black-hole. While the acceleration is always pointing towards the black hole, the particle can have a velocity that points in arbitrary directions. What do we mean by that? Let's give an example. While you stand on the Earth, gravity, $a$, is always pulling you down toward the center of the Earth. But you might be running forward with a velocity $v$ on the surface of the Earth. The result is similar to what is happening in the image below. \n",
    "<br>\n",
    "<br>\n",
    "\n",
    "![BHSetupzoom001.png](Figures/BHSetupzoom001.png)\n",
    "\n",
    "Given the mass of the black-hole in solar masses (e.g., how many times the mass of our Sun), and the distance $r$ in AU (e.g, how many times the distance between our Earth and the Sun), the following code computes the magnitude of the accleration due to Newtonian gravity. Note that $Msol$ is the mass of our Sun (called Sol)."
   ]
  },
  {
   "cell_type": "code",
   "execution_count": null,
   "metadata": {},
   "outputs": [],
   "source": [
    "def Newton(M,r):\n",
    "    \"\"\" Returns the magnitude of the Newtonian acceleration given mass M in Solar Masses and distance r in AU. \"\"\"\n",
    "    Msol = 2.0e30       # Mass of the Sun in kilograms (kg)\n",
    "    AU = 1.5e11         # The \"astronomical unit\", i.e. the Sun-Earth distance in meters (m)\n",
    "    G = 6.673e-11       # Gravitational constant [N (m/kg)^2]\n",
    "    return G*(M*Msol)/(r*AU)**2.\n",
    "\n",
    "# Please note that Msol and AU are unit conversions in the above equation.\n",
    "print(\"You have defined the Newton function. Nice Job!\")"
   ]
  },
  {
   "cell_type": "markdown",
   "metadata": {},
   "source": [
    "<font color=\"blue\">**NOTE:**</font> Throughout this module, the mathematical functions like the one in the code above (called **Newton**) will be boldfaced.\n",
    "\n",
    "## Question:\n",
    "\n",
    "What is the magnitude of the Newtonian acceleration 1 AU away from Sagittarius A\\*, the black-hole at the center of the Milky Way Galaxy? Since Sagittarius A\\* has 4.3 million times the mass of the Sun, we can plug $ M = 4.3 \\times 10^6 $ (also written as 4.3e6) into the **Newton** function:  \n",
    "\n",
    "$$\n",
    "a(1 AU) = -\\frac{G \\times 4.3 \\times 10^6 kg}{(1 AU)^2} \\;\n",
    "$$\n",
    "\n"
   ]
  },
  {
   "cell_type": "code",
   "execution_count": null,
   "metadata": {},
   "outputs": [],
   "source": [
    "Newton(4.3e6,1)"
   ]
  },
  {
   "cell_type": "markdown",
   "metadata": {},
   "source": [
    "<font color=\"blue\">**NOTE:**</font> Although the **Newton** function only returned numbers, we need to remember the units: *meters per second per second*, or $m/s^2$. These are the units of *acceleration* $a$, which is the the change in velocity as time passes.\n",
    "\n",
    "Let's compare this to the gravitational acceleration exerted on the Earth by the Sun. We can use the **Newton** function, now with M=1:\n",
    "\n",
    "$$\n",
    "a(1 AU) = -\\frac{G \\times 1 Msol}{(1 AU)^2} \\;\n",
    "$$\n"
   ]
  },
  {
   "cell_type": "code",
   "execution_count": null,
   "metadata": {},
   "outputs": [],
   "source": [
    "Newton(1,1)"
   ]
  },
  {
   "cell_type": "markdown",
   "metadata": {},
   "source": [
    "Upon taking the ratio, we see that at the same distance, the gravitational acceleration due to Sagittarius A\\* is 4.3 million times larger than that due to the Sun,\n",
    "\n",
    "$$\n",
    "-\\frac{G \\times 4.3 \\times 10^6 Msol}{(1 AU)^2} \\;\n",
    "$$\n",
    "\n",
    "divided by\n",
    "\n",
    "$$\n",
    "-\\frac{G \\times 1 Msol}{(1 AU)^2} \\;\n",
    "$$\n",
    "\n",
    "will give you the ratio of 4.3 $\\times$ 10$^6$ solar masses to 1 solar mass or just:\n"
   ]
  },
  {
   "cell_type": "code",
   "execution_count": null,
   "metadata": {},
   "outputs": [],
   "source": [
    "Newton(4.3e6,1)/Newton(1,1)"
   ]
  },
  {
   "cell_type": "markdown",
   "metadata": {},
   "source": [
    "## Question: \n",
    "What does that number tell you about the black hole, Sagittarius A, at the center of our galaxy (1 Earth-Sun distance away or 1 AU) compared to the kind of gravitational acceleration or pull that we feel here on Earth because of the Sun?\n",
    "\n",
    "Now, we want to solve for the orbit of our particle around the black hole. While this is doable by hand, we will instead use computers to do this task, using a technique called *numerical integration*. The importance of numerical integration cannot be overstated. This technique is ubiquitous (e.g., used everywhere) in the physics literature as professional physicists often have to work with equations that are too complex to be solved by pen-and-paper.\n",
    "___"
   ]
  },
  {
   "cell_type": "markdown",
   "metadata": {},
   "source": [
    "# Activity 2: Intro to Numerical Integration\n",
    "\n",
    "## Part 2.1: To start with"
   ]
  },
  {
   "cell_type": "markdown",
   "metadata": {},
   "source": [
    "Let's consider a much simpler problem: a ball starts at position $x=0$, and possess a constant velocity $v$. \n",
    "![Num_int_basics001.png](Figures/Num_int_basics001.png)\n",
    "\n",
    "## QUESTION: What is the distance travelled by the ball at time $\\tau$ later? \n",
    "\n",
    "We can solve this by performing the multiplication,\n",
    "\n",
    "$$\n",
    "x(\\tau) = v\\tau \\; .\n",
    "$$\n",
    "\n",
    "We can easily write this up in code:"
   ]
  },
  {
   "cell_type": "code",
   "execution_count": null,
   "metadata": {},
   "outputs": [],
   "source": [
    "def ConstantBall(v,tau):\n",
    "    ''' Integrates the motion of a ball moving with constant velocity v for time tau'''    \n",
    "    \n",
    "    return v*tau\n",
    "\n",
    "print(\"You have defined the ConstantBall function. Nice Job!\")"
   ]
  },
  {
   "cell_type": "markdown",
   "metadata": {},
   "source": [
    "Try it out, with $v$=1 and $\\tau$=1 or other small values. Enter the numbers in the next cell. \n",
    "\n",
    "<font color=\"blue\">**NOTE:**</font> Physicists when creating computer programs, often leave numbers unitless in their calculations. As long all of the parameters of the equation use the same units on both sides of the equal sign, that is considered the norm. So for instance, if the velocity $v$ is 1 and $\\tau$ is 1, they could be in units for the speed of light (300,000 kilometers per second) and time (or $\\tau$) in seconds, respectively. Your answer for distance could be in units of kilometers or perhaps a fraction of the speed of light within a time $\\tau$."
   ]
  },
  {
   "cell_type": "code",
   "execution_count": null,
   "metadata": {},
   "outputs": [],
   "source": [
    "ConstantBall(1,1)"
   ]
  },
  {
   "cell_type": "markdown",
   "metadata": {},
   "source": [
    "## Part 2.2: Ball with Changing Velocity\n",
    "\n",
    "What if the ball's velocity changes with position (we notate this with $v=v(x)$)? This is the case, for example, with a ball rolling down a hill. It's velocity initially is smaller than its velocity at a later time as it rolls downhill.\n",
    "\n",
    "![ballchangingvelocity.png](Figures/ballchangingvelocity.png)\n",
    "\n",
    "In short, in this instance, the further the ball travels, the faster it goes ($v(x)$ increases with time and distance).\n",
    "\n",
    "### Question: In what direction is $a$, the gravitational acceleration (or gravity), pointed in the above diagram?\n",
    "\n",
    "There are instances where, depending on what the $v(x)$ function is, the equation for $v(x)$ can be very complicated to solve by hand. One example of this would be solving the equation for $v(x)$ for a ball on a spring. In cases like that, the equation can be solved *numerically* by making the approximation that for a small chunk of time $T$, the ball's velocity is approximately constant. To get an understanding of this, let's first picture this process:\n",
    "\n",
    "![Num_int_basics_space_dep001.png](Figures/Num_int_basics_space_dep001.png)\n",
    "\n",
    "At $t=0$, the ball is at $x=0$, moving with some velocity $v(0)$. At $t=T$, the ball moves a distance $d_1=v(0)T$. This is the approximation that the velocity is constant for a small amount of time $T$.\n",
    "\n",
    "\n",
    "At $t=2T$, the ball moves a further distance $d_2=v(d_1)T$.\n",
    "\n",
    "By breaking up the calculation into N *timesteps*, each of length $T$, we can approximate the motion for the entire length of time $\\tau=\\text{N}T$ as \n",
    "\n",
    "$$\n",
    "x(\\tau) \\approx v(0)T + v(d_1)T + \\ldots + v(d_{(\\text{N}-1)})T \\; .\n",
    "$$\n",
    "\n",
    "This technique is referred to as *numerical integration*. This can be tricky to understand at first; take your time to go over the explanation multiple times before you proceed. Answer the following question: **When is it appropriate to use this technique?**\n",
    "\n",
    "Let's look at this more closely. We can write this numerical integration as code.\n",
    "\n",
    "First, we write a function for the velocity, which we will call **velocity**:"
   ]
  },
  {
   "cell_type": "code",
   "execution_count": null,
   "metadata": {},
   "outputs": [],
   "source": [
    "def velocity(x):\n",
    "    ''' Returns the velocity of the ball, as a function of position, x. '''\n",
    "    return x\n",
    "\n",
    "print(\"You have defined the velocity function. Nice Job!\")"
   ]
  },
  {
   "cell_type": "markdown",
   "metadata": {},
   "source": [
    "This next function returns a value for $x$; so the velocity is $v(x)=x$. \n",
    "\n",
    "Next, we write up our numerical integral:"
   ]
  },
  {
   "cell_type": "code",
   "execution_count": null,
   "metadata": {},
   "outputs": [],
   "source": [
    "def MyFirstIntegrator(x0,T,N):\n",
    "\n",
    "    ''' Integrates the motion of a ball moving with velocity v(x) for time NT. ''' \n",
    "    \n",
    "    # Generates an array of N zeros, the nth entry of this array represents the position of the ball at time t=nT\n",
    "    xlist = np.zeros(N)\n",
    "    \n",
    "    # Initial condition: the ball starts at x=x0, so the 0th entry of xlist is x0\n",
    "    xlist[0] = x0\n",
    "\n",
    "    # Use a for loop to integrate N times, each integral in the loop is done over time T\n",
    "    for n in range(N-1):\n",
    "        xlist[n+1] = xlist[n] + T*velocity(xlist[n]) # Here we call the velocity function that we defined earlier\n",
    "\n",
    "    # Plot the resulting motion\n",
    "    plt.figure()\n",
    "    # Note the x-axis: np.arrange(N) produces the array (0,1,2,...,N). We multiply this by T because each timestep is of length T. \n",
    "    plt.plot(np.arange(N)*T,xlist, 'g')\n",
    "    plt.xlabel(r\"$t$\")\n",
    "    plt.ylabel(r\"$x$\")\n",
    "    plt.grid()\n",
    "    \n",
    "    # Returns the array of x's: position of the ball as a function of time.\n",
    "    return xlist\n",
    "\n",
    "print(\"You have defined the MyFirstIntegrator function. Nice Job!\")"
   ]
  },
  {
   "cell_type": "markdown",
   "metadata": {},
   "source": [
    "I have added a new parameter, $x_0$ (written as x0, without subscript, in Python). This is the position of the ball at $t=0$. There is no reason why we should restrict our integrator to a ball that starts at $x=0$!\n",
    "\n",
    "Let's see what happens if I set \n",
    "$$\n",
    "v(x) = x \\; ,\n",
    "$$\n",
    "i.e. the ball moves faster the further away it is.\n",
    "\n",
    "### Question: What is the ball's position as a function of time? \n",
    "See the \"widget\" with the slider and interactive plot below.\n",
    "\n",
    "**Play around with x0 and N. How do these parameters change the plot?** \n",
    "\n",
    "What happens if you set the ball's starting position, x0, to 0? Why?"
   ]
  },
  {
   "cell_type": "code",
   "execution_count": null,
   "metadata": {},
   "outputs": [],
   "source": [
    "x0       = FloatSlider(min=-1, max=1, step=0.1, value=0.1)\n",
    "T        = FloatSlider(min=0, max=1, step=0.0001, value=0.0001, disabled=True)\n",
    "N        = IntSlider(min=1000, max=100000, step=1000, value = 100000)#, disabled=True)\n",
    "\n",
    "interactive(MyFirstIntegrator, x0=x0, T=T, N=N)"
   ]
  },
  {
   "cell_type": "markdown",
   "metadata": {},
   "source": [
    "## Part 2.3: Ball on a Spring\n",
    "\n",
    "Let's use our numerical integrator to solve the ball-on-a-spring problem. \n",
    "\n",
    "![mass_on_spring_horizontal001.png](Figures/mass_on_spring_horizontal001.png)\n",
    "\n",
    "The ball accelerates because it is attached to the spring, and the further away the ball is, the stronger the acceleration. The *acceleration* function is \n",
    "\n",
    "$$\n",
    "a(x) = -x \\; ,\n",
    "$$\n",
    "\n",
    "### Question: Why is there a negative sign?\n",
    "#### Hint: Think of what direction you are pulling the ball with respect to the spring.\n",
    "\n",
    "The following code computes the motion of the ball on a spring system:"
   ]
  },
  {
   "cell_type": "code",
   "execution_count": null,
   "metadata": {},
   "outputs": [],
   "source": [
    "def acceleration(x,v):\n",
    "    \n",
    "    ''' Returns the acceleration of the ball, as a function of position, x and velocity, v. '''\n",
    "    \n",
    "    return -x\n",
    "\n",
    "def AcceleratingBall(x0,v0,T=0.1,N=1000):\n",
    "    \n",
    "    ''' Integrates the motion of a ball moving with acceleration a(x,v) for time NT. ''' \n",
    "        \n",
    "    # Generates an array of N zeros, the nth entry of this array represents the position of the ball at time t=nT\n",
    "    xlist = np.zeros(N)\n",
    "    # Generates an array of N zeros, the nth entry of this array represents the velocity of the ball at time t=nT\n",
    "    vlist = np.zeros(N)\n",
    "\n",
    "    # Initial condition: the ball starts at x=x0, so the 0th entry of xlist is x0\n",
    "    xlist[0] = x0\n",
    "    # Initial condition: the ball starts at v=v0, so the 0th entry of xlist is v0\n",
    "    vlist[0] = v0\n",
    "\n",
    "    # Use a for loop to integrate N times, each integral in the loop is done over time T\n",
    "    for n in range(N-1):\n",
    "        xlist[n+1] = xlist[n] + T*vlist[n] \n",
    "        # At timestep n+1, the position is advanced by the velocity at timestep n multiplied by T.\n",
    "        vlist[n+1] = vlist[n] + T*acceleration(xlist[n],vlist[n]) \n",
    "        # Here we call the acceleration function that we defined earlier\n",
    "\n",
    "    # Plot the resulting motion\n",
    "    plt.figure()\n",
    "    # Note the x-axis: np.arrange(N) produces the array (0,1,2,...,N). \n",
    "    # We multiply this by T because each timestep is of length T. \n",
    "    plt.plot(np.arange(N)*T,xlist, 'g')\n",
    "    plt.xlabel(r\"$t$\")\n",
    "    plt.ylabel(r\"$x$\")\n",
    "    plt.grid()\n",
    "    \n",
    "    # Returns the array of x's: position of the ball as a function of time.\n",
    "    return xlist"
   ]
  },
  {
   "cell_type": "markdown",
   "metadata": {},
   "source": [
    "### Question: What is the motion of a ball with this acceleration? \n",
    "See the \"widget\" with the slider and interactive plot below. \n",
    "\n",
    "**Play with x0 (the starting location of the ball), v0 (the starting velocity of the ball), and N (how many times we make the calculation or how many intervals of T there are).**\n",
    "\n",
    "What do you notice?"
   ]
  },
  {
   "cell_type": "code",
   "execution_count": null,
   "metadata": {},
   "outputs": [],
   "source": [
    "x0       = FloatSlider(min=0, max=10, step=0.1, value=0, disabled=False)\n",
    "v0       = FloatSlider(min=0, max=10, step=0.1, value=1, disabled=False)\n",
    "T        = FloatSlider(min=0, max=1, step=0.01, value=0.01, disabled=True)\n",
    "N        = IntSlider(min=1000, max=100000, step=1000, value = 10000, disabled=False)\n",
    "\n",
    "interactive(AcceleratingBall, x0=x0, v0=v0, T=T, N=N)"
   ]
  },
  {
   "cell_type": "markdown",
   "metadata": {},
   "source": [
    "As time progresses, the amplitude of the oscillation increases, i.e. **the energy of the system increases with time**. In reality, this should not happen in reality, because physics dictates that energy should always be conserved! Therefore there is an error in our numerical integration scheme. The point here was to show that there are instances where simple numerical integration do not always work perfectly. Fortunately, the more complex integration schemes do not suffer from this error.\n",
    "___"
   ]
  },
  {
   "cell_type": "markdown",
   "metadata": {},
   "source": [
    "# Activity 3: The Gravity We Know: Newton's Law, Integrated\n",
    "\n",
    "Now, we are ready to numerically integrate Newton's laws, \n",
    "\n",
    "$$\n",
    "a(r) = -\\frac{G M}{r^2} \\; ,\n",
    "$$\n",
    "\n",
    "or pictorially, \n",
    "\n",
    "![BH_Set_up_zoom001.png](Figures/BH_Set_up_zoom001.png)\n",
    "\n",
    "Again, $G$ is the Newton's constant (i.e. just a number), while $r$ is the distance between the black hole and the particle.\n",
    "\n",
    "We can use the numerical integration technique we learned in the previous sections to perform this calculation. First, let us define a function that computes both the velocity and acceleration at once:"
   ]
  },
  {
   "cell_type": "code",
   "execution_count": null,
   "metadata": {},
   "outputs": [],
   "source": [
    "def v_and_a(x, y, vx, vy):\n",
    "    \n",
    "    ''' Returns the accelerations and velocities of the system. '''\n",
    "    \n",
    "    rho = np.sqrt(x**2 + y**2) \n",
    "    ax = -0.5*x/rho**3\n",
    "    ay = -0.5*y/rho**3\n",
    "     \n",
    "    # Here we return an array that contains both velocities, vx & vy, as well as both accelerations, ax & ay     \n",
    "    return (vx, vy, ax, ay)"
   ]
  },
  {
   "cell_type": "markdown",
   "metadata": {},
   "source": [
    "This code below performs the calculation in much the same way as we did for the ball-on-a-spring:"
   ]
  },
  {
   "cell_type": "code",
   "execution_count": null,
   "metadata": {},
   "outputs": [],
   "source": [
    "def Orbit(x0,y0,vx0,vy0,T,N):\n",
    "    \n",
    "    ''' Integrates the motion of a particle moving around a black-hole with Newtonian gravity. Integration is done over\n",
    "     time NT. ''' \n",
    "    \n",
    "    # Generates four arrays of N zeros, the nth entry of this array represents the x, y, vx, and vy at time t=nT\n",
    "    xlist = np.zeros(N)\n",
    "    ylist = np.zeros(N)\n",
    "    vxlist = np.zeros(N)\n",
    "    vylist = np.zeros(N)\n",
    "    \n",
    "    # Initial condition: the particle starts at x=x0, y=y0, vx=vx0, vy=vy0\n",
    "    xlist[0] = x0\n",
    "    ylist[0] = y0\n",
    "    vxlist[0] = vx0\n",
    "    vylist[0] = vy0\n",
    "\n",
    "    # Use a for loop to integrate N times, each integral in the loop is done over time T\n",
    "    for n in range(N-1):\n",
    "        # Here we call the v_and_a function that we defined earlier to give us the velocity and acceleration of the particle at that time\n",
    "        xlist[n+1] = xlist[n] + T*v_and_a(xlist[n], ylist[n], vxlist[n], vylist[n])[0]\n",
    "        ylist[n+1] = ylist[n] + T*v_and_a(xlist[n], ylist[n], vxlist[n], vylist[n])[1]\n",
    "        vxlist[n+1] = vxlist[n] + T*v_and_a(xlist[n], ylist[n], vxlist[n], vylist[n])[2]\n",
    "        vylist[n+1] = vylist[n] + T*v_and_a(xlist[n], ylist[n], vxlist[n], vylist[n])[3]\n",
    "    \n",
    "    # Plot the resulting motion\n",
    "    plt.figure()\n",
    "    plt.plot(xlist, ylist, 'g', [0], [0], 'ro')\n",
    "    plt.xlabel(r\"$x$\")\n",
    "    plt.ylabel(r\"$y$\")\n",
    "    plt.grid()"
   ]
  },
  {
   "cell_type": "markdown",
   "metadata": {},
   "source": [
    "Play around with the parameters of **Orbit** using the \"widget\" with the slider and interactive plot below. In the previous section, we showed that an error in our integration scheme causes energy to increase. **Do we get the same error here?** Note that x0 and y0 refer to the particle's starting position in 2-dimension, vx0 and vy0 refer to the particle's starting velocities in the x and y directions, and again the parameter $N$ refers to how many times we make the calculations."
   ]
  },
  {
   "cell_type": "code",
   "execution_count": null,
   "metadata": {},
   "outputs": [],
   "source": [
    "x0       = FloatSlider(min=3, max=10, step=1, value=10)\n",
    "y0       = FloatSlider(min=0, max=10, step=1, value=0, disabled=True)\n",
    "vx0      = FloatSlider(min=0, max=0.1, step=0.01, value=0)\n",
    "vy0      = FloatSlider(min=0, max=0.2, step=0.01, value=0.19)\n",
    "T        = FloatSlider(min=0, max=1, step=0.01, value=0.01, disabled=True)\n",
    "N        = IntSlider(min=0, max=20000, step=1000, value = 20000, disabled=True)\n",
    "\n",
    "interactive(Orbit, x0=x0, y0=y0, vx0=vx0, vy0=vy0, T=T, N=N)"
   ]
  },
  {
   "cell_type": "markdown",
   "metadata": {},
   "source": [
    "___"
   ]
  },
  {
   "cell_type": "markdown",
   "metadata": {},
   "source": [
    "# Activity 4: The Gravity Near a Black Hole: Orbits in General Relativity\n",
    "\n",
    "In the first half of the 20th century, Albert Einstein (1879-1955) devised a theory of gravity called general relativity. Since then, general relativity has passed a battery of experimental tests and is now touted as our most accurate theory of gravity. \n",
    "\n",
    "Using Einstein's theory of general relativity, Karl Schwarzschild (1873-1916) derived a correction to the Newtonian gravitational equation of motion (while he was serving in the frontline during World War I!). This new equation for the magnitude of the accleration of a particle in general relativity, $a_{GR}$, is\n",
    "\n",
    "\\begin{align}\n",
    "a_{GR} &= a_N + a_{\\textrm{correction}} \\; ,\n",
    "\\end{align}\n",
    "\n",
    "where $a_N$ is the magnitude of the gravitational acceleration in Newton's theory, i.e. our old friend, \n",
    "\n",
    "$$\n",
    "a(r) = -\\frac{G M}{r^2} \\; ,\n",
    "$$\n",
    "\n",
    "and $a_{\\textrm{correction}}$ is a correction term that involves things like the particle's angular momentum.\n",
    "\n",
    "(See a one-minute explanation of angular momentum at https://www.youtube.com/watch?v=iWSu6U0Ujs8.) \n",
    "\n",
    "Angular momentum is the angular velocity multiplied by something called the moment of inertia. The moment of inertia in this case is the mass times the distance squared (e.g., the mass of the black hole and the distance of the particle to the black hole).\n",
    "\n",
    "Let us modify the code **v_and_a** to return the general relativistic acceleration if a new variable, called Einstein, is set to 1:"
   ]
  },
  {
   "cell_type": "code",
   "execution_count": null,
   "metadata": {},
   "outputs": [],
   "source": [
    "def v_and_a(x, y, u, v, Einstein):\n",
    "    \"\"\" Returns the accelerations and velocities of the system. If Einstein=0, returns the Newtonian gravitational\n",
    "    acceleration. If Einstein=1, returns the general relativistic expression instead.\"\"\"\n",
    "    \n",
    "    rho = np.sqrt(x**2 + y**2)\n",
    "    velocity_x = u\n",
    "    velocity_y = v\n",
    "    \n",
    "    if Einstein == 1:\n",
    "        # If Einstein=1, returns the general relativistic expressions\n",
    "        l = (x*v - y*u)\n",
    "        acceleration_x = (-0.5*x/rho**3)*(1. + 3.*l**2/rho**2)\n",
    "        acceleration_y = (-0.5*y/rho**3)*(1. + 3.*l**2/rho**2)\n",
    "    elif Einstein == 0:\n",
    "        # If Einstein=0, returns the Newtonian expressions\n",
    "        acceleration_x = -0.5*x/rho**3\n",
    "        acceleration_y = -0.5*y/rho**3\n",
    "        \n",
    "    # Here we return an array that contains both velocities, vx & vy, as well as both accelerations, ax & ay     \n",
    "    return (velocity_x, velocity_y, acceleration_x, acceleration_y)"
   ]
  },
  {
   "cell_type": "markdown",
   "metadata": {},
   "source": [
    "Now, all we have to do is to modify following function, **Orbit**, to accept this new parameter. The function, **Orbit**, integrates the motion of a particle moving around a black-hole with Newtonian gravity over time NT."
   ]
  },
  {
   "cell_type": "code",
   "execution_count": null,
   "metadata": {},
   "outputs": [],
   "source": [
    "def Orbit(x0,y0,vx0,vy0,T,N,Einstein):\n",
    "    \n",
    "    ''' Integrates the motion of a particle moving around a black-hole with Newtonian gravity. Integration is done over\n",
    "     time NT. ''' \n",
    "    \n",
    "    # Generates four arrays of N zeros, the nth entry of this array represents the x, y, vx, and vy at time t=nT\n",
    "    xlist = np.zeros(N)\n",
    "    ylist = np.zeros(N)\n",
    "    vxlist = np.zeros(N)\n",
    "    vylist = np.zeros(N)\n",
    "    \n",
    "    # Initial condition: the particle starts at x=x0, y=y0, vx=vx0, vy=vy0\n",
    "    xlist[0] = x0\n",
    "    ylist[0] = y0\n",
    "    vxlist[0] = vx0\n",
    "    vylist[0] = vy0\n",
    "\n",
    "    # Use a for loop to integrate N times, each integral in the loop is done over time T\n",
    "    for n in range(N-1):\n",
    "        # Here we call the v_and_a function that we defined earlier to give us the velocity and acceleration of the particle at that time\n",
    "        xlist[n+1] = xlist[n] + T*v_and_a(xlist[n], ylist[n], vxlist[n], vylist[n], Einstein)[0]\n",
    "        ylist[n+1] = ylist[n] + T*v_and_a(xlist[n], ylist[n], vxlist[n], vylist[n], Einstein)[1]\n",
    "        vxlist[n+1] = vxlist[n] + T*v_and_a(xlist[n], ylist[n], vxlist[n], vylist[n], Einstein)[2]\n",
    "        vylist[n+1] = vylist[n] + T*v_and_a(xlist[n], ylist[n], vxlist[n], vylist[n], Einstein)[3]\n",
    "    \n",
    "    # Plot the resulting motion\n",
    "    plt.figure()\n",
    "    plt.plot(xlist, ylist, 'g', [0], [0], 'ro')\n",
    "    # Title the plots, if Einstein=0 as \"Newtonian Orbit\" and if Einstein=1 as \"Einsteinian Orbit\"\n",
    "    if Einstein == 0:\n",
    "        plt.title(\"Newtonian Orbit\")\n",
    "    elif Einstein == 1:\n",
    "        plt.title(\"Einsteinian Orbit\")\n",
    "    plt.xlabel(r\"$x$\")\n",
    "    plt.ylabel(r\"$y$\")\n",
    "    plt.grid()"
   ]
  },
  {
   "cell_type": "markdown",
   "metadata": {},
   "source": [
    "Now try out various values of the parameters x0, y0, vx0, and vy0 using the \"widget\" with the slider and interactive plot below.\n",
    "\n",
    "### Questions: Can you make qualitative statements on the differences between Newtonian and Einsteinian orbits? How far do you need to go from the black hole for the Einsteinian orbit to look like the Newtonian one?"
   ]
  },
  {
   "cell_type": "code",
   "execution_count": null,
   "metadata": {},
   "outputs": [],
   "source": [
    "x0       = FloatSlider(min=10, max=20, step=1, value=10)#, disabled=True)\n",
    "y0       = FloatSlider(min=0, max=10, step=1, value=0, disabled=True)\n",
    "vx0      = FloatSlider(min=0, max=0.2, step=0.01, value=0)\n",
    "vy0      = FloatSlider(min=0, max=0.2, step=0.01, value=0.19)\n",
    "T        = FloatSlider(min=0, max=1, step=0.01, value=0.01, disabled=True)\n",
    "N        = IntSlider(min=0, max=50000, step=1000, value = 50000, disabled=True)\n",
    "Einstein = Checkbox()\n",
    "\n",
    "interactive(Orbit, x0=x0, y0=y0, vx0=vx0, vy0=vy0, T=T, N=N, Einstein=Einstein)"
   ]
  },
  {
   "cell_type": "markdown",
   "metadata": {},
   "source": [
    "___"
   ]
  },
  {
   "cell_type": "markdown",
   "metadata": {},
   "source": [
    "### Final Challenge\n",
    "\n",
    "Suppose you have a near-infinite budget, using what you know about the orbits in these two theories of gravity, **devise an experiment to test whether Newton or Einstein is correct**!\n",
    "___"
   ]
  },
  {
   "cell_type": "code",
   "execution_count": null,
   "metadata": {},
   "outputs": [],
   "source": []
  }
 ],
 "metadata": {
  "kernelspec": {
   "display_name": "Python 3",
   "language": "python",
   "name": "python3"
  },
  "language_info": {
   "codemirror_mode": {
    "name": "ipython",
    "version": 3
   },
   "file_extension": ".py",
   "mimetype": "text/x-python",
   "name": "python",
   "nbconvert_exporter": "python",
   "pygments_lexer": "ipython3",
   "version": "3.7.7"
  }
 },
 "nbformat": 4,
 "nbformat_minor": 4
}
