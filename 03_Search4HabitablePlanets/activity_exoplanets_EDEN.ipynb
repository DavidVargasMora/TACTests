{
 "cells": [
  {
   "cell_type": "markdown",
   "metadata": {},
   "source": [
    "![Project EDEN Logo](Figures/EDEN.png)\n",
    "\n",
    "<br>\n",
    "<br>\n",
    "<font size='6'><u><b>Lightcurves of Transiting Exoplanets</b></u></font>\n",
    "<br>\n",
    "\n",
    "##### By [Dr. Daniel Apai](http://apai.space) and [Dr. Ben Rackham](http://rackham.space)\n",
    "##### Revised by Andres Jaramillo and Alex Bixel"
   ]
  },
  {
   "cell_type": "markdown",
   "metadata": {},
   "source": [
    "# Table of Contents\n",
    "\n",
    "* [How to Use This Notebook](#How-to-Use-This-Notebook)\n",
    "* [Pre-Activity Setup](#Pre-Activity-Setup)\n",
    "* [Introduction](#-Introduction)\n",
    "* [Activity 1: Interpreting a Lightcurve with a Transit](#Activity-1:-Interpreting-a-Lightcurve-with-a-Transit)\n",
    "* [Activity 2: Determining the Orbital Period](#Activity-2:-Determining-the-Orbital-Period)\n",
    "* [Activity 3: Determining the Size of a Planet](#Activity-3:-Determining-the-Size-of-a-Planet)\n",
    "* [Activity 4: The Transit of HD 209458 b](#Activity-4:-The-Transit-of-HD-209458-b)\n",
    "* [Activity 5: Detecting Transits of Earth-sized Exoplanets](#Activity-5:-Detecting-Transits-of-Earth-sized-Exoplanets)\n",
    "___"
   ]
  },
  {
   "cell_type": "markdown",
   "metadata": {},
   "source": [
    "# How to Use This Notebook\n",
    "\n",
    "The webpage you are in is actually an app - much like the ones on your cellphone. This app consists of cells.\n",
    "\n",
    "An *input* cell looks like a light grey box with an `In [ ]:` on its left. Input cells each contain code - instructions to make the computer do something.\n",
    "\n",
    "To activate or select a cell, click anywhere inside of it.\n",
    "\n",
    "<div class='alert alert-info'>\n",
    "    <font size='3'><b>Select the cell below and read its contents.</b></font>\n",
    "</div>"
   ]
  },
  {
   "cell_type": "code",
   "execution_count": null,
   "metadata": {},
   "outputs": [],
   "source": [
    "# Text that follows a \"#\" is known as a comment.\n",
    "# Comments do not affect your code in any way.\n",
    "# You should always read the comments at the top of each cell you interact with.\n",
    "# Comments will be used to describe what the cell's code is actually doing."
   ]
  },
  {
   "cell_type": "markdown",
   "metadata": {},
   "source": [
    "To execute or run a selected cell, hit `[Shift + Enter]` on your keyboard.\n",
    "\n",
    "<div class='alert alert-info'>\n",
    "    <font size='3'><b>Select the cell below and read its contents. Then, run the cell.</b></font>\n",
    "</div>"
   ]
  },
  {
   "cell_type": "code",
   "execution_count": null,
   "metadata": {},
   "outputs": [],
   "source": [
    "# Text that DOESN'T follow a \"#\" is considered code.\n",
    "# Lines of code are instructions given to your computer.\n",
    "# The line of code below is a \"print\" statement.\n",
    "# A print statement literally prints out the text between its quotes.\n",
    "\n",
    "print(\"Congrats! You have successfully run your first cell!\")"
   ]
  },
  {
   "cell_type": "markdown",
   "metadata": {},
   "source": [
    "Running a cell creates an *output* directly below it. An output can be some text, a graph, an interactive slider, or even nothing at all! For that last case, you know you have run a cell when the `In [ ]:` becomes `In [#]:`, where \"#\" is any number.\n",
    "\n",
    "You can learn more about how Jupyter notebooks work at https://try.jupyter.org/\n",
    "___"
   ]
  },
  {
   "cell_type": "markdown",
   "metadata": {},
   "source": [
    "# Pre-Activity Setup\n",
    "\n",
    "In order for any of the activities to work properly, you must import the libraries needed for the code in this notebook.\n",
    "\n",
    "<div class='alert alert-info'>\n",
    "    <font size='3'><b>Select and run the cell below.</b></font>\n",
    "</div>"
   ]
  },
  {
   "cell_type": "code",
   "execution_count": 1,
   "metadata": {},
   "outputs": [
    {
     "name": "stdout",
     "output_type": "stream",
     "text": [
      "You have successfully installled: batman, httpimport\n"
     ]
    },
    {
     "name": "stderr",
     "output_type": "stream",
     "text": [
      "La sintaxis del comando no es correcta.\n"
     ]
    }
   ],
   "source": [
    "# If you are running this notebook in Colab the following package has to be installed first.\n",
    "\n",
    "!pip install batman-package httpimport &> /dev/null\n",
    "print(\"You have successfully installled: batman, httpimport\")"
   ]
  },
  {
   "cell_type": "code",
   "execution_count": 2,
   "metadata": {},
   "outputs": [],
   "source": [
    "# Import some packages which we'll be using below\n",
    "\n",
    "%matplotlib inline\n",
    "import matplotlib.pyplot as plt\n",
    "from IPython.display import display\n",
    "from ipywidgets import interactive\n",
    "import astropy.units as u\n",
    "import numpy as np\n",
    "import batman"
   ]
  },
  {
   "cell_type": "code",
   "execution_count": 5,
   "metadata": {},
   "outputs": [],
   "source": [
    "# Now we create a variable with the link to our repository\n",
    "repoURL = 'https://raw.githubusercontent.com/DavidVargasMora/TACTests/master/'\n",
    "\n",
    "#Now we import a .py file from GitHub\n",
    "\n",
    "from httpimport import remote_repo\n",
    "\n",
    "with remote_repo(['imports'], repoURL+'03_Search4HabitablePlanets') :\n",
    "    from imports import *\n",
    "    \n",
    "# Temporary fix to some benign warnings that appear when running this on Binder    \n",
    "import warnings\n",
    "warnings.filterwarnings(\"ignore\")"
   ]
  },
  {
   "cell_type": "markdown",
   "metadata": {},
   "source": [
    "# Introduction\n",
    "\n",
    "In  this  activity  we  will  explore  how  some  extrasolar  planets  can  be  discovered  and characterized by precisely measuring the brightness of their host stars. When planets pass in front of their host stars (as seen from Earth) they cover part of the host star’s disk — making it look  a  tiny  bit  fainter.  These  events  are  called <font color=\"green\">**planetary  transits**</font>.  The  slight  dimming  has  a characteristic shape and Project EDEN searches for such events to find the planets that cause them.  NASA’s  Kepler  Space  Observatory  has  used  exoplanet  transit  events  to  identify  over 4,000 new extrasolar planets – the largest bounty of new worlds ever!\n",
    "\n",
    "We will explore how transits can be analyzed — not only to identify the presence of a planet, but  also  to  learn  about  its  basic  properties:  size,  orbital  period,  and  —  with  some  additional information — density and likely composition."
   ]
  },
  {
   "cell_type": "markdown",
   "metadata": {},
   "source": [
    "<font size=4 color=\"blue\">Warmup question: Check out the animation of two transiting planets below. Which planet causes a greater change in the star's brightness? Why?</font>\n",
    "\n",
    "![SegmentLocal](https://github.com/DavidVargasMora/TACTests/raw/master/03_Search4HabitablePlanets/Figures/transitgif.gif \"Animation of two transiting exoplanets. Credit: NASA\")"
   ]
  },
  {
   "cell_type": "markdown",
   "metadata": {},
   "source": [
    "## First let’s clarify a few key concepts:\n",
    "\n",
    "<br>\n",
    "<font color=\"green\">\n",
    "\n",
    "**Lightcurve:** a figure that shows the brightness of an object (here the host star) over time. For a typical star, this would be a flat line: the star is always the same brightness.\n",
    "\n",
    "**Transit Event:** an event during which a planet passes in front of its host star (as seen from Earth), blocking a fraction of light from star and causing it to appear dimmer.\n",
    "\n",
    "**Transit Depth:** the maximum brightness difference between the in-transit and out-of-transit brightness of the star.\n",
    "\n",
    "**Ingress:** The first stage of the transit, during which only part of the planet is only obscuring the star.\n",
    "\n",
    "**Egress:** The final stage of the transit, during which only part of the planet is only obscuring the star.\n",
    "    \n",
    "</font>\n",
    "___"
   ]
  },
  {
   "cell_type": "markdown",
   "metadata": {},
   "source": [
    "# Activity 1: Interpreting a Lightcurve with a Transit\n",
    "\n",
    "In this activity, we will use the Python package `batman` to simulate transit lightcurves."
   ]
  },
  {
   "cell_type": "code",
   "execution_count": 6,
   "metadata": {},
   "outputs": [],
   "source": [
    "# Set the appearance of the figures\n",
    "plt.style.use('ggplot')\n",
    "plt.rcParams['figure.figsize'] = (12, 8)\n",
    "\n",
    "plt.rcParams['font.size'] = 18"
   ]
  },
  {
   "cell_type": "markdown",
   "metadata": {},
   "source": [
    "To better understand how to use the `batman` package to model transit lightcurves, let's make an example lightcurve of a **hot Jupiter**: a Jupiter-sized exoplanet on a very short orbit.\n",
    "\n",
    "First, we will initialize a `params` object to hold the orbital parameters of our example planet. The parameters provided below describe the orbit of the planet and its orientation, which affect the exact shape of the transit and how symmetric it is."
   ]
  },
  {
   "cell_type": "code",
   "execution_count": 7,
   "metadata": {},
   "outputs": [],
   "source": [
    "params = batman.TransitParams()                  # Creates a new params object\n",
    "params.t0 = 0.                                   # time of inferior conjunction\n",
    "params.per = 3.                                  # orbital period (days)\n",
    "params.rp = ((1.0*u.Rjup)/(1.0*u.Rsun)).si.value # planet radius (in units of stellar radii)\n",
    "params.a = 15.                                   # semi-major axis (in units of stellar radii)\n",
    "params.inc = 87.                                 # orbital inclination (in degrees)\n",
    "params.ecc = 0.                                  # eccentricity\n",
    "params.w = 90.                                   # longitude of periastron (in degrees)\n",
    "params.u = [0.1, 0.1]                            # limb darkening coefficients [u1, u2]\n",
    "params.limb_dark = \"quadratic\"                   # limb darkening model"
   ]
  },
  {
   "cell_type": "markdown",
   "metadata": {},
   "source": [
    "Now let's define the time points we're interested in and generate a model of the transit event."
   ]
  },
  {
   "cell_type": "code",
   "execution_count": 8,
   "metadata": {},
   "outputs": [],
   "source": [
    "time_1 = np.linspace(-0.02, 0.02, 1000)*params.per # Creates an array of 1000 points \n",
    "                                                     # near the transit time\n",
    "model_1 = batman.TransitModel(params, time_1)        # Creates the model\n",
    "\n",
    "flux_1 = model_1.light_curve(params) # Calculates the light curve"
   ]
  },
  {
   "cell_type": "markdown",
   "metadata": {},
   "source": [
    "Now let's look at the results."
   ]
  },
  {
   "cell_type": "code",
   "execution_count": 9,
   "metadata": {},
   "outputs": [
    {
     "data": {
      "application/vnd.jupyter.widget-view+json": {
       "model_id": "c81d8261abbe46029580f4e87d0bd5b0",
       "version_major": 2,
       "version_minor": 0
      },
      "text/plain": [
       "interactive(children=(FloatSlider(value=0.1, description='Time', max=2.9, min=0.1, step=0.2), Output()), _dom_…"
      ]
     },
     "metadata": {},
     "output_type": "display_data"
    }
   ],
   "source": [
    "def example_transit(Time=0.1):\n",
    "    example_transit_plot(Time,time_1,flux_1)\n",
    "    plt.show()\n",
    "\n",
    "interactive_plot = interactive(example_transit, Time=(.1,2.9,0.2))\n",
    "display(interactive_plot)"
   ]
  },
  {
   "cell_type": "markdown",
   "metadata": {},
   "source": [
    "For Question 1 and all following questions, take a moment to answer the question yourself and then discuss your answer with your partner.\n",
    "<br>\n",
    "## Question 1: From the interactive figure above: What is your estimate of the transit depth? Approximately how long are the ingress/egress stages?"
   ]
  },
  {
   "cell_type": "markdown",
   "metadata": {},
   "source": [
    "Need help? Recall the definitions from above:\n",
    "    \n",
    "<font color=\"green\">    \n",
    "\n",
    "**Transit Depth:** the maximum brightness difference between the in-transit and out-of-transit brightness of the star. \n",
    "<br>\n",
    "**Ingress:** The first stage of the transit, during which only part of the planet is only obscuring the star.\n",
    "<br>\n",
    "**Egress:** The final stage of the transit, during which only part of the planet is only obscuring the star.\n",
    "\n",
    "</font>\n",
    "\n",
    "____"
   ]
  },
  {
   "cell_type": "markdown",
   "metadata": {},
   "source": [
    "# Activity 2: Determining the Orbital Period\n",
    "\n",
    "The <font color=\"green\">**orbital period** is the time that it takes for a planet to complete an orbit</font>. For Earth this is one year, but some planets have much shorter or much longer orbital periods. Once the orbital period of a planet and the mass of its host star are known, it is possible to calculate the radius of its orbit—in other words, how far is it from its host star.\n",
    "\n",
    "Let's look at an example of a lightcurve with multiple transits of the same planet.  We'll use the same hot Jupiter parameters as before, but we'll define a new time array, `time_2`, which covers a longer time period so that we can visualize multiple transits. **After you run the next cell, answer the question below.**"
   ]
  },
  {
   "cell_type": "code",
   "execution_count": 10,
   "metadata": {},
   "outputs": [
    {
     "data": {
      "image/png": "[encoded data removed]",
      "text/plain": [
       "<Figure size 1008x360 with 1 Axes>"
      ]
     },
     "metadata": {},
     "output_type": "display_data"
    }
   ],
   "source": [
    "time_2 = np.linspace(-2.5, 2.5, 1000)*params.per\n",
    "model_2 = batman.TransitModel(params, time_2)\n",
    "flux_2 = model_2.light_curve(params)\n",
    "\n",
    "plot_multiple_transits(time_2,flux_2)\n",
    "plt.show()"
   ]
  },
  {
   "cell_type": "markdown",
   "metadata": {},
   "source": [
    "## Question 2: How do you think the orbital period of a transiting planet could be measured from the above lightcurve?"
   ]
  },
  {
   "cell_type": "markdown",
   "metadata": {},
   "source": [
    "Now let's take a look at what transit lightcurves look like for planets with different orbital periods.\n",
    "\n",
    "Run the code in the cell below to generate an interactive version of the transit model."
   ]
  },
  {
   "cell_type": "code",
   "execution_count": 11,
   "metadata": {},
   "outputs": [
    {
     "name": "stdout",
     "output_type": "stream",
     "text": [
      "Using the slider below, vary the orbital period (in units of days):\n"
     ]
    },
    {
     "data": {
      "application/vnd.jupyter.widget-view+json": {
       "model_id": "10bdccd7ee5b4843b05362a32d16367a",
       "version_major": 2,
       "version_minor": 0
      },
      "text/plain": [
       "interactive(children=(FloatSlider(value=2.5, description='period', max=5.0, min=0.5, step=0.5), Output()), _do…"
      ]
     },
     "metadata": {},
     "output_type": "display_data"
    }
   ],
   "source": [
    "def transit_model_1(period):\n",
    "    transit_model_1_plot(period)\n",
    "    plt.show()\n",
    "    \n",
    "print('Using the slider below, vary the orbital period (in units of days):')\n",
    "interactive_plot = interactive(transit_model_1, period=(0.5, 5, 0.5))\n",
    "display(interactive_plot)"
   ]
  },
  {
   "cell_type": "markdown",
   "metadata": {
    "collapsed": true
   },
   "source": [
    "## Question 3: Which of the following statements are true for a 2.00-day period (Earth day) hot Jupiter during a 12-day-long observation?\n",
    "\n",
    "**A)** Seven local years have passed on this planet.\n",
    "\n",
    "**B)** Six local years have passed on this planet.\n",
    "\n",
    "**C)** Fourteen local years have passed on this planet.\n",
    "\n",
    "**D)** Twelve local years have passed on this planet.\n",
    "\n",
    "___\n",
    "\n",
    "\n",
    "<font color=\"red\" size=3>*When you reach this point, wait for further instructions.*</font>\n",
    "\n",
    "___"
   ]
  },
  {
   "cell_type": "markdown",
   "metadata": {},
   "source": [
    "# Activity 3: Determining the Size of a Planet\n",
    "\n",
    "The larger the planet the larger the fraction of its host star that it can cover. A planet as large as its host star (an unrealistic example) could cover the entire star from view. In reality, most planets are very smaller, compared  to even the smallest stars. Therefore, they only cover part a small fraction of the host star’s disk.\n",
    "\n",
    "Run the code below to draw a view of a planetary transit as seen from Earth."
   ]
  },
  {
   "cell_type": "code",
   "execution_count": 12,
   "metadata": {
    "scrolled": false
   },
   "outputs": [
    {
     "data": {
      "image/png": "[encoded data removed]",
      "text/plain": [
       "<Figure size 576x576 with 1 Axes>"
      ]
     },
     "metadata": {},
     "output_type": "display_data"
    }
   ],
   "source": [
    "# Change these values!\n",
    "m_planet = 0.5 # Earth mass - range: 0.001-0.5\n",
    "m_star = 10 # Earth mass - range: 0.1-10\n",
    "r_planet = 1.0 # Solar radius - range: 0.01-1.0\n",
    "r_star = 5. # Solar radius - range: 0.1-5.0\n",
    "\n",
    "# Make the plot\n",
    "planet_size_plot(m_planet,m_star,r_planet,r_star)\n",
    "plt.show()"
   ]
  },
  {
   "cell_type": "markdown",
   "metadata": {},
   "source": [
    "The circles represent the star and the planet. The radius of the star ($R_{*}$) and the radius of the planet ($R_{p}$) are shown on the figure. The mass of the star is $M_{*}$ and the mass of the planet is $M_{p}$.\n",
    "\n",
    "*Modify the code above and re-run the cell to plot results for different values of `m_planet`, `m_star`, `r_planet`, and `r_star`.*\n",
    "\n",
    "*Discuss with your partner which factors influence the transit depth.*\n",
    "\n",
    "## Question 4: Which of the following formulae may describe best the transit depth and why?\n",
    "\n",
    "**A)**  $D = (M_{*}^{2} R_{*}) / (M_{p}^{2} R_{p})$\n",
    "\n",
    "**B)**  $D = R_{*} / R_{p}$\n",
    "\n",
    "**C)**  $D = M_{*} / M_{p}$\n",
    "\n",
    "**D)**  $D = R_{p}^{2} / R_{*}^{2}$"
   ]
  },
  {
   "cell_type": "markdown",
   "metadata": {},
   "source": [
    "Need help? Recall the definition from above:\n",
    "\n",
    "<font color=\"green\">\n",
    "    \n",
    "**Transit Depth:** the maximum brightness difference between the in-transit and out-of-transit brightness of the star.\n",
    "</font>\n",
    "____"
   ]
  },
  {
   "cell_type": "markdown",
   "metadata": {},
   "source": [
    "# Activity 4: The Transit of HD 209458 b\n",
    "\n",
    "Now let's figure out the size of an actual transiting exoplanet!\n",
    "\n",
    "Run the code in the cell below to plot an observed transit lightcurve of the exoplanet HD 209458 b."
   ]
  },
  {
   "cell_type": "code",
   "execution_count": 13,
   "metadata": {},
   "outputs": [
    {
     "data": {
      "image/png": "[encoded data removed]",
      "text/plain": [
       "<Figure size 1008x360 with 1 Axes>"
      ]
     },
     "metadata": {},
     "output_type": "display_data"
    }
   ],
   "source": [
    "# Loading observed data\n",
    "time_obs, flux_obs = np.loadtxt(repoURL+'03_Search4HabitablePlanets/Data/HD209458b.dat', unpack=True)\n",
    "\n",
    "# Plot the data\n",
    "plot_data(time_obs,flux_obs)\n",
    "plt.show()"
   ]
  },
  {
   "cell_type": "markdown",
   "metadata": {},
   "source": [
    "The lightcurve shows the exoplanet transit, but it also displays scatter due to noise sources that are inherent in any observation.  We will fit different models against these noisy data to make our best estimate of the planet's radius.\n",
    "\n",
    "Run the code in the cell below to generate a new interactive version of the transit model."
   ]
  },
  {
   "cell_type": "code",
   "execution_count": 14,
   "metadata": {},
   "outputs": [
    {
     "name": "stdout",
     "output_type": "stream",
     "text": [
      "Using the slider below, vary the exoplanet radius (in units of Jupiter radii) to find the best model to match the data:\n"
     ]
    },
    {
     "data": {
      "application/vnd.jupyter.widget-view+json": {
       "model_id": "c4474ee80c9645699d116076f7a37c5f",
       "version_major": 2,
       "version_minor": 0
      },
      "text/plain": [
       "interactive(children=(FloatSlider(value=1.2000000000000002, description='radius', max=2.1, min=0.6, step=0.2),…"
      ]
     },
     "metadata": {},
     "output_type": "display_data"
    }
   ],
   "source": [
    "def transit_model_2(radius):\n",
    "    transit_model_2_plot(radius)\n",
    "    plt.show()\n",
    "\n",
    "print('Using the slider below, vary the exoplanet radius (in units of Jupiter radii)' + \n",
    "      ' to find the best model to match the data:')\n",
    "interactive_plot = interactive(transit_model_2, radius=(0.6, 2.1, 0.2))\n",
    "display(interactive_plot)"
   ]
  },
  {
   "cell_type": "markdown",
   "metadata": {},
   "source": [
    "## Question 5: What is the best-fit radius for HD 209458 b?\n",
    "___"
   ]
  },
  {
   "cell_type": "markdown",
   "metadata": {
    "collapsed": true
   },
   "source": [
    "# Activity 5: Detecting Transits of Earth-sized Exoplanets\n",
    "\n",
    "In this final exercise, we will explore how we can detect transits of exoplanets the size of Earth.\n",
    "\n",
    "Run the code below to generate an interactive verision of the transit model that will let you vary the both radius of the planet ($R_{p}$) and the radius of the star ($R_{s}$). Each time you change a parameter, it will show you the true transit model and make a new simulated observational dataset."
   ]
  },
  {
   "cell_type": "code",
   "execution_count": 15,
   "metadata": {},
   "outputs": [
    {
     "name": "stdout",
     "output_type": "stream",
     "text": [
      "Using the slider below, vary the exoplanet radius (in units of Earth radii) and the star radius (in units of solar radii):\n"
     ]
    },
    {
     "data": {
      "application/vnd.jupyter.widget-view+json": {
       "model_id": "a70eeea6eadf41d684e940a7e9a83c95",
       "version_major": 2,
       "version_minor": 0
      },
      "text/plain": [
       "interactive(children=(FloatSlider(value=2.0, description='Rp', max=4.0, min=0.5, step=0.5), FloatSlider(value=…"
      ]
     },
     "metadata": {},
     "output_type": "display_data"
    }
   ],
   "source": [
    "def transit_model_3(Rp, Rs=1.0):\n",
    "    transit_model_3_plot(Rp,Rs)\n",
    "    plt.show()\n",
    "    \n",
    "print('Using the slider below, vary the exoplanet radius (in units of Earth radii)' + \n",
    "      ' and the star radius (in units of solar radii):')\n",
    "interactive_plot = interactive(transit_model_3, Rp=(0.5, 4, 0.5), Rs=(0.1, 1.01, 0.1))\n",
    "display(interactive_plot)"
   ]
  },
  {
   "cell_type": "markdown",
   "metadata": {},
   "source": [
    "## Question 6:  With this level of noise, how small does the star have to be to reliably detect the transit of an Earth-sized ($R_{p} = 1.0 R_{Earth}$) exoplanet?\n",
    "___"
   ]
  }
 ],
 "metadata": {
  "kernelspec": {
   "display_name": "Python 3",
   "language": "python",
   "name": "python3"
  },
  "language_info": {
   "codemirror_mode": {
    "name": "ipython",
    "version": 3
   },
   "file_extension": ".py",
   "mimetype": "text/x-python",
   "name": "python",
   "nbconvert_exporter": "python",
   "pygments_lexer": "ipython3",
   "version": "3.7.7"
  }
 },
 "nbformat": 4,
 "nbformat_minor": 2
}
